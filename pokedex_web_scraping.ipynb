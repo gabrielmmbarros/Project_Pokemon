{
 "cells": [
  {
   "attachments": {},
   "cell_type": "markdown",
   "metadata": {},
   "source": [
    "# <font color=gold>POKÉDEX WEB SCRAPING"
   ]
  },
  {
   "attachments": {},
   "cell_type": "markdown",
   "metadata": {},
   "source": [
    "# <font color=green>1. SCRAPING LIBRARIES"
   ]
  },
  {
   "cell_type": "code",
   "execution_count": 44,
   "metadata": {
    "colab": {},
    "colab_type": "code",
    "id": "e9pXIMIWByAp"
   },
   "outputs": [
    {
     "name": "stdout",
     "output_type": "stream",
     "text": [
      "BeautifulSoup -> 4.11.1\n",
      "urllib -> 3.8\n",
      "pandas -> 1.2.5\n"
     ]
    }
   ],
   "source": [
    "import bs4\n",
    "from bs4 import BeautifulSoup\n",
    "import urllib.request as urllib_request\n",
    "from urllib.request import urlopen\n",
    "import pandas as pd\n",
    "import numpy as np\n",
    "\n",
    "print(\"BeautifulSoup ->\", bs4.__version__)\n",
    "print(\"urllib ->\", urllib_request.__version__)\n",
    "print(\"pandas ->\", pandas.__version__)"
   ]
  },
  {
   "attachments": {},
   "cell_type": "markdown",
   "metadata": {},
   "source": [
    "---\n",
    "# <font color=green>2. GETTING AND MANAGING THE CONTENT OF AN HTML"
   ]
  },
  {
   "attachments": {},
   "cell_type": "markdown",
   "metadata": {},
   "source": [
    "## 2.1. Obtendo o conteúdo HTML de um site"
   ]
  },
  {
   "attachments": {},
   "cell_type": "markdown",
   "metadata": {},
   "source": [
    "### urllib.request\n",
    "#### https://docs.python.org/3/library/urllib.html\n",
    "#### https://docs.python.org/3/library/urllib.request.html#urllib.request.Request"
   ]
  },
  {
   "cell_type": "code",
   "execution_count": 2,
   "metadata": {
    "colab": {
     "base_uri": "https://localhost:8080/",
     "height": 54
    },
    "colab_type": "code",
    "id": "c1pKGnTpgvFU",
    "outputId": "b6b7e32d-4c3e-4f52-a8ba-0b1cbfe15ea4"
   },
   "outputs": [],
   "source": [
    "from urllib.request import Request, urlopen\n",
    "from urllib.error import URLError, HTTPError\n",
    "\n",
    "url = 'https://www.pokemon.com/br/pokedex/'\n",
    "\n",
    "#Definindo headers para permissões de navegador. User-Agent é encontrado dentro da opção de inspecionar página -> Network -> arquivo da página -> Request Headers\n",
    "headers = {'User-Agent': 'Mozilla/5.0 (Windows NT 10.0; Win64; x64) AppleWebKit/537.36 (KHTML, like Gecko) Chrome/108.0.0.0 Safari/537.36'}\n",
    "\n",
    "#Fazendo tentativa de obter o resultado da requisição, caso retorne erro de protocolo ou na url, cai na exceção e retorna o erro\n",
    "try:\n",
    "    req = Request(url, headers=headers)\n",
    "    response = urlopen(req)\n",
    "    html = response.read()\n",
    "    #print(html)\n",
    "\n",
    "except HTTPError as e:\n",
    "    print(e.status, e.reason)\n",
    "\n",
    "except URLError as e:\n",
    "  print(e.reason)\n"
   ]
  },
  {
   "attachments": {},
   "cell_type": "markdown",
   "metadata": {},
   "source": [
    "## 2.2. Tratamento de string"
   ]
  },
  {
   "cell_type": "markdown",
   "metadata": {},
   "source": [
    "### Convertando o tipo bytes para string"
   ]
  },
  {
   "cell_type": "code",
   "execution_count": 3,
   "metadata": {},
   "outputs": [
    {
     "data": {
      "text/plain": [
       "bytes"
      ]
     },
     "execution_count": 3,
     "metadata": {},
     "output_type": "execute_result"
    }
   ],
   "source": [
    "#Observamos que inicialmente os dados obtidos são do formato bytes. Então para facilitar a manipulação, pode-se converter para tipo string\n",
    "type(html)"
   ]
  },
  {
   "cell_type": "code",
   "execution_count": 4,
   "metadata": {},
   "outputs": [
    {
     "data": {
      "text/plain": [
       "str"
      ]
     },
     "execution_count": 4,
     "metadata": {},
     "output_type": "execute_result"
    }
   ],
   "source": [
    "#Tratando caracteres\n",
    "html = html.decode('utf-8')\n",
    "type(html)"
   ]
  },
  {
   "cell_type": "markdown",
   "metadata": {},
   "source": [
    "### Eliminando os caracteres de tabulação, quebra de linha etc."
   ]
  },
  {
   "cell_type": "code",
   "execution_count": 5,
   "metadata": {},
   "outputs": [
    {
     "data": {
      "text/plain": [
       "['<!DOCTYPE',\n",
       " 'html>',\n",
       " '<html',\n",
       " 'class=\"no-js',\n",
       " '\"',\n",
       " 'lang=\"pt-br\">',\n",
       " '<head><script',\n",
       " 'src=\"/amaze-alls-Macb-What-a-Frontred-Gulfe-is-Wife-st\"',\n",
       " 'async></script>',\n",
       " '<meta',\n",
       " 'charset=\"utf-8\"',\n",
       " '/>',\n",
       " '<meta',\n",
       " 'http-equiv=\"X-UA-Compatible\"',\n",
       " 'content=\"IE=edge,chrome=1\"',\n",
       " '/><script',\n",
       " 'type=\"text/javascript\">(window.NREUM||(NREUM={})).init={ajax:{deny_list:[\"bam.nr-data.net\"]}};(window.NREUM||(NREUM={})).loader_config={xpid:\"VQ4OWFZXGwIAXFZTBgI=\",licenseKey:\"ba34eb72cb\",applicationID:\"1087113\"};;(()=>{var',\n",
       " 'e,t,r={9071:(e,t,r)=>{\"use',\n",
       " 'strict\";r.d(t,{I:()=>n});var',\n",
       " 'n=0,i=navigator.userAgent.match(/Firefox[\\\\/\\\\s](\\\\d+\\\\.\\\\d+)/);i&&(n=+i[1])},6562:(e,t,r)=>{\"use',\n",
       " 'strict\";r.d(t,{P_:()=>p,Mt:()=>v,C5:()=>d,DL:()=>y,OP:()=>k,lF:()=>H,Yu:()=>E,Dg:()=>g,CX:()=>f,GE:()=>w,sU:()=>L});var',\n",
       " 'n={};r.r(n),r.d(n,{agent:()=>T,match:()=>_,version:()=>O});var',\n",
       " 'i=r(6797),o=r(909),a=r(8610);class',\n",
       " 's{constructor(e,t){try{if(!e||\"object\"!=typeof',\n",
       " 'e)return(0,a.Z)(\"New',\n",
       " 'setting',\n",
       " 'a',\n",
       " 'Configurable',\n",
       " 'requires',\n",
       " 'an',\n",
       " 'object',\n",
       " 'as',\n",
       " 'input\");if(!t||\"object\"!=typeof',\n",
       " 't)return(0,a.Z)(\"Setting',\n",
       " 'a',\n",
       " 'Configurable',\n",
       " 'requires',\n",
       " 'a',\n",
       " 'model',\n",
       " 'to',\n",
       " 'set',\n",
       " 'its',\n",
       " 'initial',\n",
       " 'properties\");Object.assign(this,t),Object.entries(e).forEach((e=>{let[t,r]=e;const',\n",
       " 'n=(0,o.q)(t);n.length&&r&&\"object\"==typeof',\n",
       " 'r&&n.forEach((e=>{e',\n",
       " 'in',\n",
       " 'r&&((0,a.Z)(\\'\"\\'.concat(e,\\'\"',\n",
       " 'is',\n",
       " 'a',\n",
       " 'protected',\n",
       " 'attribute',\n",
       " 'and',\n",
       " 'can',\n",
       " 'not',\n",
       " 'be',\n",
       " 'changed',\n",
       " 'in',\n",
       " 'feature',\n",
       " '\\').concat(t,\".',\n",
       " 'It',\n",
       " 'will',\n",
       " 'have',\n",
       " 'no',\n",
       " 'effect.\")),delete',\n",
       " 'r[e])})),this[t]=r}))}catch(e){(0,a.Z)(\"An',\n",
       " 'error',\n",
       " 'occured',\n",
       " 'while',\n",
       " 'setting',\n",
       " 'a',\n",
       " 'Configurable\",e)}}}const',\n",
       " 'c={beacon:i.ce.beacon,errorBeacon:i.ce.errorBeacon,licenseKey:void',\n",
       " '0,applicationID:void',\n",
       " '0,sa:void',\n",
       " '0,queueTime:void',\n",
       " '0,applicationTime:void',\n",
       " '0,ttGuid:void',\n",
       " '0,user:void',\n",
       " '0,account:void',\n",
       " '0,product:void',\n",
       " '0,extra:void',\n",
       " '0,jsAttributes:{},userAttributes:void',\n",
       " '0,atts:void',\n",
       " '0,transactionName:void',\n",
       " '0,tNamePlain:void',\n",
       " '0},u={};function',\n",
       " 'd(e){if(!e)throw',\n",
       " 'new',\n",
       " 'Error(\"All',\n",
       " 'info',\n",
       " 'objects',\n",
       " 'require',\n",
       " 'an',\n",
       " 'agent',\n",
       " 'identifier!\");if(!u[e])throw',\n",
       " 'new',\n",
       " 'Error(\"Info',\n",
       " 'for',\n",
       " '\".concat(e,\"',\n",
       " 'was',\n",
       " 'never',\n",
       " 'set\"));return',\n",
       " 'u[e]}function',\n",
       " 'f(e,t){if(!e)throw',\n",
       " 'new',\n",
       " 'Error(\"All',\n",
       " 'info',\n",
       " 'objects',\n",
       " 'require',\n",
       " 'an',\n",
       " 'agent',\n",
       " 'identifier!\");u[e]=new',\n",
       " 's(t,c),(0,i.Qy)(e,u[e],\"info\")}const',\n",
       " 'l={allow_bfcache:!1,privacy:{cookies_enabled:!0},ajax:{deny_list:void',\n",
       " '0,enabled:!0,harvestTimeSeconds:10},distributed_tracing:{enabled:void',\n",
       " '0,exclude_newrelic_header:void',\n",
       " '0,cors_use_newrelic_header:void',\n",
       " '0,cors_use_tracecontext_headers:void',\n",
       " '0,allowed_origins:void',\n",
       " '0},ssl:void',\n",
       " '0,obfuscate:void',\n",
       " '0,jserrors:{enabled:!0,harvestTimeSeconds:10},metrics:{enabled:!0,harvestTimeSeconds:10},page_action:{enabled:!0,harvestTimeSeconds:30},page_view_event:{enabled:!0},page_view_timing:{enabled:!0,harvestTimeSeconds:30},session_trace:{enabled:!0,harvestTimeSeconds:10},spa:{enabled:!0,harvestTimeSeconds:10}},h={};function',\n",
       " 'p(e){if(!e)throw',\n",
       " 'new',\n",
       " 'Error(\"All',\n",
       " 'configuration',\n",
       " 'objects',\n",
       " 'require',\n",
       " 'an',\n",
       " 'agent',\n",
       " 'identifier!\");if(!h[e])throw',\n",
       " 'new',\n",
       " 'Error(\"Configuration',\n",
       " 'for',\n",
       " '\".concat(e,\"',\n",
       " 'was',\n",
       " 'never',\n",
       " 'set\"));return',\n",
       " 'h[e]}function',\n",
       " 'g(e,t){if(!e)throw',\n",
       " 'new',\n",
       " 'Error(\"All',\n",
       " 'configuration',\n",
       " 'objects',\n",
       " 'require',\n",
       " 'an',\n",
       " 'agent',\n",
       " 'identifier!\");h[e]=new',\n",
       " 's(t,l),(0,i.Qy)(e,h[e],\"config\")}function',\n",
       " 'v(e,t){if(!e)throw',\n",
       " 'new',\n",
       " 'Error(\"All',\n",
       " 'configuration',\n",
       " 'objects',\n",
       " 'require',\n",
       " 'an',\n",
       " 'agent',\n",
       " 'identifier!\");var',\n",
       " 'r=p(e);if(r){for(var',\n",
       " 'n=t.split(\".\"),i=0;i<n.length-1;i++)if(\"object\"!=typeof(r=r[n[i]]))return;r=r[n[n.length-1]]}return',\n",
       " 'r}const',\n",
       " 'm={accountID:void',\n",
       " '0,trustKey:void',\n",
       " '0,agentID:void',\n",
       " '0,licenseKey:void',\n",
       " '0,applicationID:void',\n",
       " '0,xpid:void',\n",
       " '0},b={};function',\n",
       " 'y(e){if(!e)throw',\n",
       " 'new',\n",
       " 'Error(\"All',\n",
       " 'loader-config',\n",
       " 'objects',\n",
       " 'require',\n",
       " 'an',\n",
       " 'agent',\n",
       " 'identifier!\");if(!b[e])throw',\n",
       " 'new',\n",
       " 'Error(\"LoaderConfig',\n",
       " 'for',\n",
       " '\".concat(e,\"',\n",
       " 'was',\n",
       " 'never',\n",
       " 'set\"));return',\n",
       " 'b[e]}function',\n",
       " 'w(e,t){if(!e)throw',\n",
       " 'new',\n",
       " 'Error(\"All',\n",
       " 'loader-config',\n",
       " 'objects',\n",
       " 'require',\n",
       " 'an',\n",
       " 'agent',\n",
       " 'identifier!\");b[e]=new',\n",
       " 's(t,m),(0,i.Qy)(e,b[e],\"loader_config\")}const',\n",
       " 'E=(0,i.mF)().o;var',\n",
       " 'A=r(2053),T=null,O=null;if(navigator.userAgent){var',\n",
       " 'x=navigator.userAgent,S=x.match(/Version\\\\/(\\\\S+)\\\\s+Safari/);S&&-1===x.indexOf(\"Chrome\")&&-1===x.indexOf(\"Chromium\")&&(T=\"Safari\",O=S[1])}function',\n",
       " '_(e,t){if(!T)return!1;if(e!==T)return!1;if(!t)return!0;if(!O)return!1;for(var',\n",
       " 'r=O.split(\".\"),n=t.split(\".\"),i=0;i<n.length;i++)if(n[i]!==r[i])return!1;return!0}var',\n",
       " 'I=r(5526),j=r(2374);const',\n",
       " 'N=\"NRBA_SESSION_ID\";function',\n",
       " 'P(){if(!j.il)return',\n",
       " 'null;try{let',\n",
       " 'e;return',\n",
       " 'null===(e=window.sessionStorage.getItem(N))&&(e=(0,I.ky)(16),window.sessionStorage.setItem(N,e)),e}catch(e){return',\n",
       " 'null}}var',\n",
       " 'R=r(8226);const',\n",
       " 'D=e=>({customTransaction:void',\n",
       " '0,disabled:!1,isolatedBacklog:!1,loaderType:void',\n",
       " '0,maxBytes:3e4,offset:(0,A.yf)(),onerror:void',\n",
       " '0,origin:\"\"+j._A.location,ptid:void',\n",
       " '0,releaseIds:{},sessionId:1==v(e,\"privacy.cookies_enabled\")?P():null,xhrWrappable:\"function\"==typeof',\n",
       " 'j._A.XMLHttpRequest?.prototype?.addEventListener,userAgent:n,version:R.q}),C={};function',\n",
       " 'k(e){if(!e)throw',\n",
       " 'new',\n",
       " 'Error(\"All',\n",
       " 'runtime',\n",
       " 'objects',\n",
       " 'require',\n",
       " 'an',\n",
       " 'agent',\n",
       " 'identifier!\");if(!C[e])throw',\n",
       " 'new',\n",
       " 'Error(\"Runtime',\n",
       " 'for',\n",
       " '\".concat(e,\"',\n",
       " 'was',\n",
       " 'never',\n",
       " 'set\"));return',\n",
       " 'C[e]}function',\n",
       " 'L(e,t){if(!e)throw',\n",
       " 'new',\n",
       " 'Error(\"All',\n",
       " 'runtime',\n",
       " 'objects',\n",
       " 'require',\n",
       " 'an',\n",
       " 'agent',\n",
       " 'identifier!\");C[e]=new',\n",
       " 's(t,D(e)),(0,i.Qy)(e,C[e],\"runtime\")}function',\n",
       " 'H(e){return',\n",
       " 'function(e){try{const',\n",
       " 't=d(e);return!!t.licenseKey&&!!t.errorBeacon&&!!t.applicationID}catch(e){return!1}}(e)}},8226:(e,t,r)=>{\"use',\n",
       " 'strict\";r.d(t,{q:()=>n});const',\n",
       " 'n=\"1225.PROD\"},9557:(e,t,r)=>{\"use',\n",
       " 'strict\";r.d(t,{w:()=>o});var',\n",
       " 'n=r(8610);const',\n",
       " 'i={agentIdentifier:\"\"};class',\n",
       " 'o{constructor(e){try{if(\"object\"!=typeof',\n",
       " 'e)return(0,n.Z)(\"shared',\n",
       " 'context',\n",
       " 'requires',\n",
       " 'an',\n",
       " 'object',\n",
       " 'as',\n",
       " 'input\");this.sharedContext={},Object.assign(this.sharedContext,i),Object.entries(e).forEach((e=>{let[t,r]=e;Object.keys(i).includes(t)&&(this.sharedContext[t]=r)}))}catch(e){(0,n.Z)(\"An',\n",
       " 'error',\n",
       " 'occured',\n",
       " 'while',\n",
       " 'setting',\n",
       " 'SharedContext\",e)}}}},4329:(e,t,r)=>{\"use',\n",
       " 'strict\";r.d(t,{L:()=>d,R:()=>c});var',\n",
       " 'n=r(3752),i=r(7022),o=r(4045),a=r(2325);const',\n",
       " 's={};function',\n",
       " 'c(e,t){const',\n",
       " 'r={staged:!1,priority:a.p[t]||0};u(e),s[e].get(t)||s[e].set(t,r)}function',\n",
       " 'u(e){e&&(s[e]||(s[e]=new',\n",
       " 'Map))}function',\n",
       " 'd(){let',\n",
       " 'e=arguments.length>0&&void',\n",
       " '0!==arguments[0]?arguments[0]:\"\",t=arguments.length>1&&void',\n",
       " '0!==arguments[1]?arguments[1]:\"feature\";if(u(e),!e||!s[e].get(t))return',\n",
       " 'a(t);s[e].get(t).staged=!0;const',\n",
       " 'r=Array.from(s[e]);function',\n",
       " 'a(t){const',\n",
       " 'r=e?n.ee.get(e):n.ee,a=o.X.handlers;if(r.backlog&&a){var',\n",
       " 's=r.backlog[t],c=a[t];if(c){for(var',\n",
       " 'u=0;s&&u<s.length;++u)f(s[u],c);(0,i.D)(c,(function(e,t){(0,i.D)(t,(function(t,r){r[0].on(e,r[1])}))}))}delete',\n",
       " 'a[t],r.backlog[t]=null,r.emit(\"drain-\"+t,[])}}r.every((e=>{let[t,r]=e;return',\n",
       " 'r.staged}))&&(r.sort(((e,t)=>e[1].priority-t[1].priority)),r.forEach((e=>{let[t]=e;a(t)})))}function',\n",
       " 'f(e,t){var',\n",
       " 'r=e[1];(0,i.D)(t[r],(function(t,r){var',\n",
       " 'n=e[0];if(r[0]===n){var',\n",
       " 'i=r[1],o=e[3],a=e[2];i.apply(o,a)}}))}},3752:(e,t,r)=>{\"use',\n",
       " 'strict\";r.d(t,{c:()=>f,ee:()=>u});var',\n",
       " 'n=r(6797),i=r(3916),o=r(7022),a=r(6562),s=\"nr@context\";let',\n",
       " 'c=(0,n.fP)();var',\n",
       " 'u;function',\n",
       " 'd(){}function',\n",
       " 'f(e){return(0,i.X)(e,s,l)}function',\n",
       " 'l(){return',\n",
       " 'new',\n",
       " 'd}function',\n",
       " 'h(){(u.backlog.api||u.backlog.feature)&&(u.aborted=!0,u.backlog={})}c.ee?u=c.ee:(u=function',\n",
       " 'e(t,r){var',\n",
       " 'n={},c={},f={},p=!1;try{p=16===r.length&&(0,a.OP)(r).isolatedBacklog}catch(e){}var',\n",
       " 'g={on:b,addEventListener:b,removeEventListener:y,emit:m,get:E,listeners:w,context:v,buffer:A,abort:h,aborted:!1,isBuffering:T,debugId:r,backlog:p?{}:t&&\"object\"==typeof',\n",
       " 't.backlog?t.backlog:{}};return',\n",
       " 'g;function',\n",
       " 'v(e){return',\n",
       " 'e&&e',\n",
       " 'instanceof',\n",
       " 'd?e:e?(0,i.X)(e,s,l):l()}function',\n",
       " 'm(e,r,n,i,o){if(!1!==o&&(o=!0),!u.aborted||i){t&&o&&t.emit(e,r,n);for(var',\n",
       " 'a=v(n),s=w(e),d=s.length,f=0;f<d;f++)s[f].apply(a,r);var',\n",
       " 'l=O()[c[e]];return',\n",
       " 'l&&l.push([g,e,r,a]),a}}function',\n",
       " 'b(e,t){n[e]=w(e).concat(t)}function',\n",
       " 'y(e,t){var',\n",
       " 'r=n[e];if(r)for(var',\n",
       " 'i=0;i<r.length;i++)r[i]===t&&r.splice(i,1)}function',\n",
       " 'w(e){return',\n",
       " 'n[e]||[]}function',\n",
       " 'E(t){return',\n",
       " 'f[t]=f[t]||e(g,t)}function',\n",
       " 'A(e,t){var',\n",
       " 'r=O();g.aborted||(0,o.D)(e,(function(e,n){t=t||\"feature\",c[n]=t,t',\n",
       " 'in',\n",
       " 'r||(r[t]=[])}))}function',\n",
       " 'T(e){return!!O()[c[e]]}function',\n",
       " 'O(){return',\n",
       " 'g.backlog}}(void',\n",
       " '0,\"globalEE\"),c.ee=u)},9252:(e,t,r)=>{\"use',\n",
       " 'strict\";r.d(t,{E:()=>n,p:()=>i});var',\n",
       " 'n=r(3752).ee.get(\"handle\");function',\n",
       " 'i(e,t,r,i,o){o?(o.buffer([e],i),o.emit(e,t,r)):(n.buffer([e],i),n.emit(e,t,r))}},4045:(e,t,r)=>{\"use',\n",
       " 'strict\";r.d(t,{X:()=>o});var',\n",
       " 'n=r(9252);o.on=a;var',\n",
       " 'i=o.handlers={};function',\n",
       " 'o(e,t,r,o){a(o||n.E,i,e,t,r)}function',\n",
       " 'a(e,t,r,i,o){o||(o=\"feature\"),e||(e=n.E);var',\n",
       " 'a=t[o]=t[o]||{};(a[r]=a[r]||[]).push([e,i])}},8544:(e,t,r)=>{\"use',\n",
       " 'strict\";r.d(t,{bP:()=>s,iz:()=>c,m$:()=>a});var',\n",
       " 'n=r(2374);let',\n",
       " 'i=!1,o=!1;try{const',\n",
       " 'e={get',\n",
       " 'passive(){return',\n",
       " 'i=!0,!1},get',\n",
       " 'signal(){return',\n",
       " 'o=!0,!1}};n._A.addEventListener(\"test\",null,e),n._A.removeEventListener(\"test\",null,e)}catch(e){}function',\n",
       " 'a(e,t){return',\n",
       " 'i||o?{capture:!!e,passive:i,signal:t}:!!e}function',\n",
       " 's(e,t){let',\n",
       " 'r=arguments.length>2&&void',\n",
       " '0!==arguments[2]&&arguments[2];window.addEventListener(e,t,a(r))}function',\n",
       " 'c(e,t){let',\n",
       " 'r=arguments.length>2&&void',\n",
       " '0!==arguments[2]&&arguments[2];document.addEventListener(e,t,a(r))}},5526:(e,t,r)=>{\"use',\n",
       " 'strict\";r.d(t,{Ht:()=>a,M:()=>o,Rl:()=>i,ky:()=>s});var',\n",
       " 'n=r(2374);function',\n",
       " 'i(){var',\n",
       " 'e=null,t=0,r=n._A?.crypto||n._A?.msCrypto;function',\n",
       " 'i(){return',\n",
       " 'e?15&e[t++]:16*Math.random()|0}r&&r.getRandomValues&&(e=r.getRandomValues(new',\n",
       " 'Uint8Array(31)));for(var',\n",
       " 'o,a=\"xxxxxxxx-xxxx-4xxx-yxxx-xxxxxxxxxxxx\",s=\"\",c=0;c<a.length;c++)s+=\"x\"===(o=a[c])?i().toString(16):\"y\"===o?(o=3&i()|8).toString(16):o;return',\n",
       " 's}function',\n",
       " 'o(){return',\n",
       " 's(16)}function',\n",
       " 'a(){return',\n",
       " 's(32)}function',\n",
       " 's(e){var',\n",
       " 't=null,r=0,n=self.crypto||self.msCrypto;n&&n.getRandomValues&&Uint8Array&&(t=n.getRandomValues(new',\n",
       " 'Uint8Array(31)));for(var',\n",
       " 'i=[],o=0;o<e;o++)i.push(a().toString(16));return',\n",
       " 'i.join(\"\");function',\n",
       " 'a(){return',\n",
       " 't?15&t[r++]:16*Math.random()|0}}},2053:(e,t,r)=>{\"use',\n",
       " 'strict\";r.d(t,{nb:()=>c,os:()=>u,yf:()=>s,zO:()=>a});var',\n",
       " 'n=r(7145),i=(new',\n",
       " 'Date).getTime(),o=i;function',\n",
       " 'a(){return',\n",
       " 'n.G&&performance.now?Math.round(performance.now()):(i=Math.max((new',\n",
       " 'Date).getTime(),i))-o}function',\n",
       " 's(){return',\n",
       " 'i}function',\n",
       " 'c(e){o=e}function',\n",
       " 'u(){return',\n",
       " 'o}},7145:(e,t,r)=>{\"use',\n",
       " 'strict\";r.d(t,{G:()=>n});const',\n",
       " 'n=void',\n",
       " '0!==r(2374)._A?.performance?.timing?.navigationStart},6625:(e,t,r)=>{\"use',\n",
       " 'strict\";r.d(t,{s:()=>c,v:()=>u});var',\n",
       " 'n=r(8283),i=r(9071),o=r(2053),a=r(7145),s=r(2374);let',\n",
       " 'c=!0;function',\n",
       " 'u(e){var',\n",
       " 't=function(){if(i.I&&i.I<9)return;if(a.G)return',\n",
       " 'c=!1,s._A?.performance?.timing?.navigationStart}();t&&((0,n.B)(e,\"starttime\",t),(0,o.nb)(t))}},8283:(e,t,r)=>{\"use',\n",
       " 'strict\";r.d(t,{B:()=>o,L:()=>a});var',\n",
       " 'n=r(2053),i={};function',\n",
       " 'o(e,t,r){void',\n",
       " '0===r&&(r=(0,n.zO)()+(0,n.os)()),i[e]=i[e]||{},i[e][t]=r}function',\n",
       " 'a(e,t,r,n){const',\n",
       " 'o=e.sharedContext.agentIdentifier;var',\n",
       " 'a=i[o]?.[r],s=i[o]?.[n];void',\n",
       " '0!==a&&void',\n",
       " '0!==s&&e.store(\"measures\",t,{value:s-a})}},6368:(e,t,r)=>{\"use',\n",
       " 'strict\";r.d(t,{e:()=>o});var',\n",
       " 'n=r(2374),i={};function',\n",
       " 'o(e){if(e',\n",
       " 'in',\n",
       " 'i)return',\n",
       " 'i[e];if(0===(e||\"\").indexOf(\"data:\"))return{protocol:\"data\"};let',\n",
       " 't;var',\n",
       " 'r=n._A?.location,o={};if(n.il)t=document.createElement(\"a\"),t.href=e;else',\n",
       " 'try{t=new',\n",
       " 'URL(e,r.href)}catch(e){return',\n",
       " 'o}o.port=t.port;var',\n",
       " 'a=t.href.split(\"://\");!o.port&&a[1]&&(o.port=a[1].split(\"/\")[0].split(\"@\").pop().split(\":\")[1]),o.port&&\"0\"!==o.port||(o.port=\"https\"===a[0]?\"443\":\"80\"),o.hostname=t.hostname||r.hostname,o.pathname=t.pathname,o.protocol=a[0],\"/\"!==o.pathname.charAt(0)&&(o.pathname=\"/\"+o.pathname);var',\n",
       " 's=!t.protocol||\":\"===t.protocol||t.protocol===r.protocol,c=t.hostname===r.hostname&&t.port===r.port;return',\n",
       " 'o.sameOrigin=s&&(!t.hostname||c),\"/\"===o.pathname&&(i[e]=o),o}},9548:(e,t,r)=>{\"use',\n",
       " 'strict\";r.d(t,{T:()=>i});var',\n",
       " 'n=r(2374);const',\n",
       " 'i={isFileProtocol:function(){let',\n",
       " 'e=Boolean(\"file:\"===(0,n.lW)()?.location?.protocol);e&&(i.supportabilityMetricSent=!0);return',\n",
       " 'e},supportabilityMetricSent:!1}},8610:(e,t,r)=>{\"use',\n",
       " 'strict\";function',\n",
       " 'n(e,t){console&&console.warn&&\"function\"==typeof',\n",
       " 'console.warn&&(console.warn(\"New',\n",
       " 'Relic:',\n",
       " '\".concat(e)),t&&console.warn(t))}r.d(t,{Z:()=>n})},3916:(e,t,r)=>{\"use',\n",
       " 'strict\";r.d(t,{X:()=>i});var',\n",
       " 'n=Object.prototype.hasOwnProperty;function',\n",
       " 'i(e,t,r){if(n.call(e,t))return',\n",
       " 'e[t];var',\n",
       " 'i=r();if(Object.defineProperty&&Object.keys)try{return',\n",
       " 'Object.defineProperty(e,t,{value:i,writable:!0,enumerable:!1}),i}catch(e){}return',\n",
       " 'e[t]=i,i}},2374:(e,t,r)=>{\"use',\n",
       " 'strict\";r.d(t,{_A:()=>o,il:()=>n,lW:()=>a,v6:()=>i});const',\n",
       " 'n=Boolean(\"undefined\"!=typeof',\n",
       " 'window&&window.document),i=Boolean(\"undefined\"!=typeof',\n",
       " 'WorkerGlobalScope&&self.navigator',\n",
       " 'instanceof',\n",
       " 'WorkerNavigator);let',\n",
       " 'o=(()=>{if(n)return',\n",
       " 'window;if(i){if(\"undefined\"!=typeof',\n",
       " 'globalThis&&globalThis',\n",
       " 'instanceof',\n",
       " 'WorkerGlobalScope)return',\n",
       " 'globalThis;if(self',\n",
       " 'instanceof',\n",
       " 'WorkerGlobalScope)return',\n",
       " 'self}throw',\n",
       " 'new',\n",
       " \"Error('New\",\n",
       " 'Relic',\n",
       " 'browser',\n",
       " 'agent',\n",
       " 'shutting',\n",
       " 'down',\n",
       " 'due',\n",
       " 'to',\n",
       " 'error:',\n",
       " 'Unable',\n",
       " 'to',\n",
       " 'locate',\n",
       " 'global',\n",
       " 'scope.',\n",
       " 'This',\n",
       " 'is',\n",
       " 'possibly',\n",
       " 'due',\n",
       " 'to',\n",
       " 'code',\n",
       " 'redefining',\n",
       " 'browser',\n",
       " 'global',\n",
       " 'variables',\n",
       " 'like',\n",
       " '\"self\"',\n",
       " 'and',\n",
       " '\"window\".\\')})();function',\n",
       " 'a(){return',\n",
       " 'o}},7022:(e,t,r)=>{\"use',\n",
       " 'strict\";r.d(t,{D:()=>i});var',\n",
       " 'n=Object.prototype.hasOwnProperty;function',\n",
       " 'i(e,t){var',\n",
       " 'r=[],i=\"\",o=0;for(i',\n",
       " 'in',\n",
       " 'e)n.call(e,i)&&(r[o]=t(i,e[i]),o+=1);return',\n",
       " 'r}},9226:(e,t,r)=>{\"use',\n",
       " 'strict\";r.d(t,{$c:()=>u,Ng:()=>d,RR:()=>c});var',\n",
       " 'n=r(6562),i=r(9557),o=r(9548),a=r(8610),s={regex:/^file:\\\\/\\\\/(.*)/,replacement:\"file://OBFUSCATED\"};class',\n",
       " 'c',\n",
       " 'extends',\n",
       " 'i.w{constructor(e){super(e)}shouldObfuscate(){return',\n",
       " 'u(this.sharedContext.agentIdentifier).length>0}obfuscateString(e){if(!e||\"string\"!=typeof',\n",
       " 'e)return',\n",
       " 'e;for(var',\n",
       " 't=u(this.sharedContext.agentIdentifier),r=e,n=0;n<t.length;n++){var',\n",
       " 'i=t[n].regex,o=t[n].replacement||\"*\";r=r.replace(i,o)}return',\n",
       " 'r}}function',\n",
       " 'u(e){var',\n",
       " 't=[],r=(0,n.Mt)(e,\"obfuscate\")||[];return',\n",
       " 't=t.concat(r),o.T.isFileProtocol()&&t.push(s),t}function',\n",
       " 'd(e){for(var',\n",
       " 't=!1,r=!1,n=0;n<e.length;n++){\"regex\"in',\n",
       " 'e[n]?\"string\"!=typeof',\n",
       " \"e[n].regex&&e[n].regex.constructor!==RegExp&&((0,a.Z)('An\",\n",
       " 'obfuscation',\n",
       " 'replacement',\n",
       " 'rule',\n",
       " 'contains',\n",
       " 'a',\n",
       " '\"regex\"',\n",
       " 'value',\n",
       " 'with',\n",
       " 'an',\n",
       " 'invalid',\n",
       " 'type',\n",
       " '(must',\n",
       " 'be',\n",
       " 'a',\n",
       " 'string',\n",
       " 'or',\n",
       " \"RegExp)'),r=!0):((0,a.Z)('An\",\n",
       " 'obfuscation',\n",
       " 'replacement',\n",
       " 'rule',\n",
       " 'was',\n",
       " 'detected',\n",
       " 'missing',\n",
       " 'a',\n",
       " '\"regex\"',\n",
       " \"value.'),r=!0);var\",\n",
       " 'i=e[n].replacement;i&&\"string\"!=typeof',\n",
       " \"i&&((0,a.Z)('An\",\n",
       " 'obfuscation',\n",
       " 'replacement',\n",
       " 'rule',\n",
       " 'contains',\n",
       " 'a',\n",
       " '\"replacement\"',\n",
       " 'value',\n",
       " 'with',\n",
       " 'an',\n",
       " 'invalid',\n",
       " 'type',\n",
       " '(must',\n",
       " 'be',\n",
       " 'a',\n",
       " 'string)\\'),t=!0)}return!t&&!r}},2650:(e,t,r)=>{\"use',\n",
       " 'strict\";r.d(t,{K:()=>a,b:()=>o});var',\n",
       " 'n=r(8544);function',\n",
       " 'i(){return\"undefined\"==typeof',\n",
       " 'document||\"complete\"===document.readyState}function',\n",
       " 'o(e,t){if(i())return',\n",
       " 'e();(0,n.bP)(\"load\",e,t)}function',\n",
       " 'a(e){if(i())return',\n",
       " 'e();(0,n.iz)(\"DOMContentLoaded\",e)}},6797:(e,t,r)=>{\"use',\n",
       " 'strict\";r.d(t,{EZ:()=>u,Qy:()=>c,ce:()=>o,fP:()=>a,gG:()=>d,mF:()=>s});var',\n",
       " 'n=r(2053),i=r(2374);const',\n",
       " 'o={beacon:\"bam.nr-data.net\",errorBeacon:\"bam.nr-data.net\"};function',\n",
       " 'a(){return',\n",
       " 'i._A.NREUM||(i._A.NREUM={}),void',\n",
       " '0===i._A.newrelic&&(i._A.newrelic=i._A.NREUM),i._A.NREUM}function',\n",
       " 's(){let',\n",
       " 'e=a();return',\n",
       " 'e.o||(e.o={ST:i._A.setTimeout,SI:i._A.setImmediate,CT:i._A.clearTimeout,XHR:i._A.XMLHttpRequest,REQ:i._A.Request,EV:i._A.Event,PR:i._A.Promise,MO:i._A.MutationObserver,FETCH:i._A.fetch}),e}function',\n",
       " 'c(e,t,r){let',\n",
       " 'i=a();const',\n",
       " 'o=i.initializedAgents||{},s=o[e]||{};return',\n",
       " 'Object.keys(s).length||(s.initializedAt={ms:(0,n.zO)(),date:new',\n",
       " 'Date}),i.initializedAgents={...o,[e]:{...s,[r]:t}},i}function',\n",
       " 'u(e,t){a()[e]=t}function',\n",
       " 'd(){return',\n",
       " 'function(){let',\n",
       " 'e=a();const',\n",
       " 't=e.info||{};e.info={beacon:o.beacon,errorBeacon:o.errorBeacon,...t}}(),function(){let',\n",
       " 'e=a();const',\n",
       " 't=e.init||{};e.init={...t}}(),s(),function(){let',\n",
       " 'e=a();const',\n",
       " 't=e.loader_config||{};e.loader_config={...t}}(),a()}},6998:(e,t,r)=>{\"use',\n",
       " 'strict\";r.d(t,{N:()=>i,e:()=>o});var',\n",
       " 'n=r(8544);function',\n",
       " 'i(e){let',\n",
       " 't=arguments.length>1&&void',\n",
       " '0!==arguments[1]&&arguments[1];return',\n",
       " 'void(0,n.iz)(\"visibilitychange\",(function(){if(t){if(\"hidden\"!=document.visibilityState)return;e()}e(document.visibilityState)}))}function',\n",
       " 'o(){return\"hidden\"===document.visibilityState?-1:1/0}},6408:(e,t,r)=>{\"use',\n",
       " 'strict\";r.d(t,{W:()=>i});var',\n",
       " 'n=r(2374);function',\n",
       " 'i(){return\"function\"==typeof',\n",
       " 'n._A?.PerformanceObserver}},7264:(e,t,r)=>{\"use',\n",
       " 'strict\";r.d(t,{hF:()=>pe,Fp:()=>O,lx:()=>V,ow:()=>Y,ao:()=>te,G8:()=>oe,XV:()=>B,Zw:()=>C,ig:()=>we,em:()=>le,u5:()=>T,QU:()=>G,_L:()=>$,Gm:()=>ee,Lg:()=>ie,gy:()=>M,BV:()=>D,Kf:()=>ye});var',\n",
       " 'n=r(3752),i=r(8683),o=r.n(i),a=r(2374);const',\n",
       " 's=\"nr@original\";var',\n",
       " 'c=Object.prototype.hasOwnProperty,u=!1;function',\n",
       " 'd(e,t){return',\n",
       " 'e||(e=n.ee),r.inPlace=function(e,t,n,i,o){n||(n=\"\");var',\n",
       " 'a,s,c,u=\"-\"===n.charAt(0);for(c=0;c<t.length;c++)h(a=e[s=t[c]])||(e[s]=r(a,u?s+n:n,i,s,o))},r.flag=s,r;function',\n",
       " 'r(t,r,n,a,c){return',\n",
       " 'h(t)?t:(r||(r=\"\"),nrWrapper[s]=t,l(t,nrWrapper,e),nrWrapper);function',\n",
       " 'nrWrapper(){var',\n",
       " 's,u,d,l;try{u=this,s=o()(arguments),d=\"function\"==typeof',\n",
       " 'n?n(s,u):n||{}}catch(t){f([t,\"\",[s,u,a],d],e)}i(r+\"start\",[s,u,a],d,c);try{return',\n",
       " 'l=t.apply(u,s)}catch(e){throw',\n",
       " 'i(r+\"err\",[s,u,e],d,c),e}finally{i(r+\"end\",[s,u,l],d,c)}}}function',\n",
       " 'i(r,n,i,o){if(!u||t){var',\n",
       " 'a=u;u=!0;try{e.emit(r,n,i,t,o)}catch(t){f([t,r,n,i],e)}u=a}}}function',\n",
       " 'f(e,t){t||(t=n.ee);try{t.emit(\"internal-error\",e)}catch(e){}}function',\n",
       " 'l(e,t,r){if(Object.defineProperty&&Object.keys)try{return',\n",
       " 'Object.keys(e).forEach((function(r){Object.defineProperty(t,r,{get:function(){return',\n",
       " 'e[r]},set:function(t){return',\n",
       " 'e[r]=t,t}})})),t}catch(e){f([e],r)}for(var',\n",
       " 'n',\n",
       " 'in',\n",
       " 'e)c.call(e,n)&&(t[n]=e[n]);return',\n",
       " 't}function',\n",
       " 'h(e){return!(e&&e',\n",
       " 'instanceof',\n",
       " 'Function&&e.apply&&!e[s])}function',\n",
       " 'p(e,t){e?.[t]?.[s]&&(e[t]=e[t][s])}var',\n",
       " 'g=\"fetch-\",v=g+\"body-\",m=[\"arrayBuffer\",\"blob\",\"json\",\"text\",\"formData\"],b=a._A.Request,y=a._A.Response,w=\"prototype\",E=\"nr@context\";const',\n",
       " 'A={};function',\n",
       " 'T(e){const',\n",
       " 't=x(e);if(!(b&&y&&a._A.fetch))return',\n",
       " 't;if(A[t.debugId]++)return',\n",
       " 't;function',\n",
       " 'r(e,r,n){var',\n",
       " 'i=e[r];\"function\"==typeof',\n",
       " 'i&&(e[r]=function(){var',\n",
       " 'e,r=o()(arguments),s={};t.emit(n+\"before-start\",[r],s),s[E]&&s[E].dt&&(e=s[E].dt);var',\n",
       " 'c=i.apply(this,r);return',\n",
       " 't.emit(n+\"start\",[r,e],c),a._A.Promise.resolve(c).then((function(e){return',\n",
       " 't.emit(n+\"end\",[null,e],c),e}),(function(e){throw',\n",
       " 't.emit(n+\"end\",[e],c),e}))},e[r][s]=i)}return',\n",
       " 'A[t.debugId]=1,m.forEach((e=>{r(b[w],e,v),r(y[w],e,v)})),r(a._A,\"fetch\",g),t.on(g+\"end\",(function(e,r){var',\n",
       " 'n=this;if(r){var',\n",
       " 'i=r.headers.get(\"content-length\");null!==i&&(n.rxSize=i),t.emit(g+\"done\",[null,r],n)}else',\n",
       " 't.emit(g+\"done\",[e],n)})),t}function',\n",
       " 'O(e){const',\n",
       " 't=x(e);1==A[t.debugId]?(m.forEach((e=>{p(b[w],e),p(y[w],e)})),p(a._A,\"fetch\"),A[t.debugId]=1/0):A[t.debugId]--}function',\n",
       " 'x(e){return(e||n.ee).get(\"fetch\")}const',\n",
       " 'S={},_=\"setTimeout\",I=\"setInterval\",j=\"clearTimeout\",N=\"-start\",P=\"-\",R=[_,\"setImmediate\",I,j,\"clearImmediate\"];function',\n",
       " 'D(e){const',\n",
       " 't=k(e);if(S[t.debugId]++)return',\n",
       " 't;S[t.debugId]=1;var',\n",
       " 'r=d(t);return',\n",
       " 'r.inPlace(a._A,R.slice(0,2),_+P),r.inPlace(a._A,R.slice(2,3),I+P),r.inPlace(a._A,R.slice(3),j+P),t.on(I+N,(function(e,t,n){e[0]=r(e[0],\"fn-\",null,n)})),t.on(_+N,(function(e,t,n){this.method=n,this.timerDuration=isNaN(e[1])?0:+e[1],e[0]=r(e[0],\"fn-\",this,n)})),t}function',\n",
       " 'C(e){const',\n",
       " 't=k(e);1==S[t.debugId]?(R.forEach((e=>p(a._A,e))),S[t.debugId]=1/0):S[t.debugId]--}function',\n",
       " 'k(e){return(e||n.ee).get(\"timer\")}const',\n",
       " 'L={},H=\"requestAnimationFrame\";function',\n",
       " 'M(e){const',\n",
       " 't=z(e);if(!a.il||L[t.debugId]++)return',\n",
       " 't;L[t.debugId]=1;var',\n",
       " 'r=d(t);return',\n",
       " 'r.inPlace(window,[H],\"raf-\"),t.on(\"raf-start\",(function(e){e[0]=r(e[0],\"fn-\")})),t}function',\n",
       " 'B(e){const',\n",
       " 't=z(e);1==L[t.debugId]?(p(window,H),L[t.debugId]=1/0):L[t.debugId]--}function',\n",
       " 'z(e){return(e||n.ee).get(\"raf\")}const',\n",
       " 'F={},U=[\"pushState\",\"replaceState\"];function',\n",
       " 'G(e){const',\n",
       " 't=q(e);return!a.il||F[t.debugId]++||(F[t.debugId]=1,d(t).inPlace(window.history,U,\"-\")),t}function',\n",
       " 'V(e){const',\n",
       " 't=q(e);1==F[t.debugId]?(U.forEach((e=>p(window.history,e))),F[t.debugId]=1/0):F[t.debugId]--}function',\n",
       " 'q(e){return(e||n.ee).get(\"history\")}var',\n",
       " 'W=r(8544);const',\n",
       " 'X={},Z=[\"appendChild\",\"insertBefore\",\"replaceChild\"];function',\n",
       " '$(e){const',\n",
       " 't=Q(e);if(!a.il||X[t.debugId])return',\n",
       " 't;X[t.debugId]=!0;var',\n",
       " 'r=d(t),n=/[?&](?:callback|cb)=([^&#]+)/,i=/(.*)\\\\.([^.]+)/,o=/^(\\\\w+)(\\\\.|$)(.*)$/;function',\n",
       " 's(e,t){var',\n",
       " 'r=e.match(o),n=r[1],i=r[3];return',\n",
       " 'i?s(i,t[n]):t[n]}return',\n",
       " 'r.inPlace(Node.prototype,Z,\"dom-\"),t.on(\"dom-start\",(function(e){!function(e){if(!e||\"string\"!=typeof',\n",
       " 'e.nodeName||\"script\"!==e.nodeName.toLowerCase())return;if(\"function\"!=typeof',\n",
       " 'e.addEventListener)return;var',\n",
       " 'o=(a=e.src,c=a.match(n),c?c[1]:null);var',\n",
       " 'a,c;if(!o)return;var',\n",
       " 'u=function(e){var',\n",
       " 't=e.match(i);if(t&&t.length>=3)return{key:t[2],parent:s(t[1],window)};return{key:e,parent:window}}(o);if(\"function\"!=typeof',\n",
       " 'u.parent[u.key])return;var',\n",
       " 'd={};function',\n",
       " 'f(){t.emit(\"jsonp-end\",[],d),e.removeEventListener(\"load\",f,(0,W.m$)(!1)),e.removeEventListener(\"error\",l,(0,W.m$)(!1))}function',\n",
       " 'l(){t.emit(\"jsonp-error\",[],d),t.emit(\"jsonp-end\",[],d),e.removeEventListener(\"load\",f,(0,W.m$)(!1)),e.removeEventListener(\"error\",l,(0,W.m$)(!1))}r.inPlace(u.parent,[u.key],\"cb-\",d),e.addEventListener(\"load\",f,(0,W.m$)(!1)),e.addEventListener(\"error\",l,(0,W.m$)(!1)),t.emit(\"new-jsonp\",[e.src],d)}(e[0])})),t}function',\n",
       " 'Y(e){const',\n",
       " 't=Q(e);!0===X[t.debugId]&&(Z.forEach((e=>p(Node.prototype,e))),X[t.debugId]=\"unwrapped\")}function',\n",
       " 'Q(e){return(e||n.ee).get(\"jsonp\")}var',\n",
       " 'J=r(6562);const',\n",
       " 'K={};function',\n",
       " 'ee(e){const',\n",
       " 't=re(e);if(!a.il||K[t.debugId])return',\n",
       " 't;K[t.debugId]=!0;var',\n",
       " 'r=d(t),n=J.Yu.MO;return',\n",
       " 'n&&(window.MutationObserver=function(e){return',\n",
       " 'this',\n",
       " 'instanceof',\n",
       " 'n?new',\n",
       " 'n(r(e,\"fn-\")):n.apply(this,arguments)},MutationObserver.prototype=n.prototype),t}function',\n",
       " 'te(e){const',\n",
       " 't=re(e);!0===K[t.debugId]&&(window.MutationObserver=J.Yu.MO,K[t.debugId]=\"unwrapped\")}function',\n",
       " 're(e){return(e||n.ee).get(\"mutation\")}const',\n",
       " 'ne={};function',\n",
       " 'ie(e){const',\n",
       " 't=ae(e);if(ne[t.debugId])return',\n",
       " 't;ne[t.debugId]=!0;var',\n",
       " 'r=n.c,i=d(t),o=J.Yu.PR;return',\n",
       " 'o&&function(){function',\n",
       " 'e(r){var',\n",
       " 'n=t.context(),a=i(r,\"executor-\",n,null,!1);const',\n",
       " 's=Reflect.construct(o,[a],e);return',\n",
       " 't.context(s).getCtx=function(){return',\n",
       " 'n},s}a._A.Promise=e,Object.defineProperty(e,\"name\",{value:\"Promise\"}),e.toString=function(){return',\n",
       " 'o.toString()},Object.setPrototypeOf(e,o),[\"all\",\"race\"].forEach((function(r){const',\n",
       " 'n=o[r];e[r]=function(e){let',\n",
       " 'i=!1;e?.forEach((e=>{this.resolve(e).then(a(\"all\"===r),a(!1))}));const',\n",
       " 'o=n.apply(this,arguments);return',\n",
       " 'o;function',\n",
       " 'a(e){return',\n",
       " 'function(){t.emit(\"propagate\",[null,!i],o,!1,!1),i=i||!e}}}})),[\"resolve\",\"reject\"].forEach((function(r){const',\n",
       " 'n=o[r];e[r]=function(e){const',\n",
       " 'r=n.apply(this,arguments);return',\n",
       " 'e!==r&&t.emit(\"propagate\",[e,!0],r,!1,!1),r}})),e.prototype=Object.create(o.prototype),e.prototype.constructor=e,e.prototype.then=function(){var',\n",
       " 'e=this,n=r(e);n.promise=e;for(var',\n",
       " 'a=arguments.length,s=new',\n",
       " 'Array(a),c=0;c<a;c++)s[c]=arguments[c];s[0]=i(s[0],\"cb-\",n,null,!1),s[1]=i(s[1],\"cb-\",n,null,!1);const',\n",
       " 'u=o.prototype.then.apply(this,s);return',\n",
       " 'n.nextPromise=u,t.emit(\"propagate\",[e,!0],u,!1,!1),u},t.on(\"executor-start\",(function(e){e[0]=i(e[0],\"resolve-\",this,null,!1),e[1]=i(e[1],\"resolve-\",this,null,!1)})),t.on(\"executor-err\",(function(e,t,r){e[1](r)})),t.on(\"cb-end\",(function(e,r,n){t.emit(\"propagate\",[n,!0],this.nextPromise,!1,!1)})),t.on(\"propagate\",(function(e,r,n){this.getCtx&&!r||(this.getCtx=function(){if(e',\n",
       " 'instanceof',\n",
       " 'Promise)var',\n",
       " 'r=t.context(e);return',\n",
       " 'r&&r.getCtx?r.getCtx():this})}))}(),t}function',\n",
       " 'oe(e){const',\n",
       " 't=ae(e);!0===ne[t.debugId]&&(a._A.Promise=J.Yu.PR,ne[t.debugId]=\"unwrapped\")}function',\n",
       " 'ae(e){return(e||n.ee).get(\"promise\")}var',\n",
       " 'se=r(3916);const',\n",
       " 'ce={},ue=XMLHttpRequest,de=\"addEventListener\",fe=\"removeEventListener\";function',\n",
       " 'le(e){var',\n",
       " 't=ge(e);if(ce[t.debugId]++)return',\n",
       " 't;ce[t.debugId]=1;var',\n",
       " 'r=d(t,!0);function',\n",
       " 'n(e){r.inPlace(e,[de,fe],\"-\",i)}function',\n",
       " 'i(e,t){return',\n",
       " 'e[1]}return\"getPrototypeOf\"in',\n",
       " 'Object&&(a.il&&he(document,n),he(a._A,n),he(ue.prototype,n)),t.on(de+\"-start\",(function(e,t){var',\n",
       " 'n=e[1];if(null!==n&&(\"function\"==typeof',\n",
       " 'n||\"object\"==typeof',\n",
       " 'n)){var',\n",
       " 'i=(0,se.X)(n,\"nr@wrapped\",(function(){var',\n",
       " 'e={object:function(){if(\"function\"!=typeof',\n",
       " 'n.handleEvent)return;return',\n",
       " 'n.handleEvent.apply(n,arguments)},function:n}[typeof',\n",
       " 'n];return',\n",
       " 'e?r(e,\"fn-\",null,e.name||\"anonymous\"):n}));this.wrapped=e[1]=i}})),t.on(fe+\"-start\",(function(e){e[1]=this.wrapped||e[1]})),t}function',\n",
       " 'he(e,t){let',\n",
       " 'r=e;for(;\"object\"==typeof',\n",
       " 'r&&!Object.prototype.hasOwnProperty.call(r,de);)r=Object.getPrototypeOf(r);for(var',\n",
       " 'n=arguments.length,i=new',\n",
       " 'Array(n>2?n-2:0),o=2;o<n;o++)i[o-2]=arguments[o];r&&t(r,...i)}function',\n",
       " 'pe(e){const',\n",
       " 't=ge(e);1==ce[t.debugId]?([de,fe].forEach((e=>{\"object\"==typeof',\n",
       " 'document&&he(document,p,e),he(a._A,p,e),he(ue.prototype,p,e)})),ce[t.debugId]=1/0):ce[t.debugId]--}function',\n",
       " 'ge(e){return(e||n.ee).get(\"events\")}var',\n",
       " 've=r(8610);const',\n",
       " 'me={},be=[\"open\",\"send\"];function',\n",
       " 'ye(e){var',\n",
       " 't=e||n.ee;const',\n",
       " 'r=Ee(t);if(me[r.debugId]++)return',\n",
       " 'r;me[r.debugId]=1,le(t);var',\n",
       " 'i=d(r),o=J.Yu.XHR,s=J.Yu.MO,c=J.Yu.PR,u=J.Yu.SI,f=\"readystatechange\",l=[\"onload\",\"onerror\",\"onabort\",\"onloadstart\",\"onloadend\",\"onprogress\",\"ontimeout\"],h=[],p=a._A.XMLHttpRequest.listeners,g=a._A.XMLHttpRequest=function(e){var',\n",
       " 't=new',\n",
       " 'o(e);function',\n",
       " 'n(){try{r.emit(\"new-xhr\",[t],t),t.addEventListener(f,m,(0,W.m$)(!1))}catch(e){(0,ve.Z)(\"An',\n",
       " 'error',\n",
       " 'occured',\n",
       " 'while',\n",
       " 'intercepting',\n",
       " 'XHR\",e);try{r.emit(\"internal-error\",[e])}catch(e){}}}return',\n",
       " 'this.listeners=p?[...p,n]:[n],this.listeners.forEach((e=>e())),t};function',\n",
       " 'v(e,t){i.inPlace(t,[\"onreadystatechange\"],\"fn-\",A)}function',\n",
       " 'm(){var',\n",
       " 'e=this,t=r.context(e);e.readyState>3&&!t.resolved&&(t.resolved=!0,r.emit(\"xhr-resolved\",[],e)),i.inPlace(e,l,\"fn-\",A)}if(function(e,t){for(var',\n",
       " 'r',\n",
       " 'in',\n",
       " 'e)t[r]=e[r]}(o,g),g.prototype=o.prototype,i.inPlace(g.prototype,be,\"-xhr-\",A),r.on(\"send-xhr-start\",(function(e,t){v(e,t),function(e){h.push(e),s&&(b?b.then(E):u?u(E):(y=-y,w.data=y))}(t)})),r.on(\"open-xhr-start\",v),s){var',\n",
       " 'b=c&&c.resolve();if(!u&&!c){var',\n",
       " 'y=1,w=document.createTextNode(y);new',\n",
       " 's(E).observe(w,{characterData:!0})}}else',\n",
       " 't.on(\"fn-end\",(function(e){e[0]&&e[0].type===f||E()}));function',\n",
       " 'E(){for(var',\n",
       " 'e=0;e<h.length;e++)v(0,h[e]);h.length&&(h=[])}function',\n",
       " 'A(e,t){return',\n",
       " 't}return',\n",
       " 'r}function',\n",
       " 'we(e){const',\n",
       " 't=Ee(e);1==me[t.debugId]?(pe(t),a._A.XMLHttpRequest=J.Yu.XHR,be.forEach((e=>{p(a._A.XMLHttpRequest.prototype,e)})),me[t.debugId]=1/0):me[t.debugId]--}function',\n",
       " 'Ee(e){return(e||n.ee).get(\"xhr\")}},8675:(e,t,r)=>{\"use',\n",
       " 'strict\";r.d(t,{t:()=>n});const',\n",
       " 'n=r(2325).D.ajax},948:(e,t,r)=>{\"use',\n",
       " 'strict\";r.r(t),r.d(t,{Instrument:()=>N});var',\n",
       " 'n=r(6562),i=r(9252),o=r(3916),a=r(2374),s=1,c=\"nr@id\";function',\n",
       " 'u(e){var',\n",
       " 't=typeof',\n",
       " 'e;return!e||\"object\"!==t&&\"function\"!==t?-1:e===a._A?0:(0,o.X)(e,c,(function(){return',\n",
       " 's++}))}var',\n",
       " 'd=r(9071);function',\n",
       " 'f(e){if(\"string\"==typeof',\n",
       " 'e&&e.length)return',\n",
       " 'e.length;if(\"object\"==typeof',\n",
       " 'e){if(\"undefined\"!=typeof',\n",
       " 'ArrayBuffer&&e',\n",
       " 'instanceof',\n",
       " 'ArrayBuffer&&e.byteLength)return',\n",
       " 'e.byteLength;if(\"undefined\"!=typeof',\n",
       " 'Blob&&e',\n",
       " 'instanceof',\n",
       " 'Blob&&e.size)return',\n",
       " 'e.size;if(!(\"undefined\"!=typeof',\n",
       " 'FormData&&e',\n",
       " 'instanceof',\n",
       " 'FormData))try{return',\n",
       " 'JSON.stringify(e).length}catch(e){return}}}var',\n",
       " 'l=r(8544),h=r(2053),p=r(7264),g=r(6368),v=r(5526);class',\n",
       " 'm{constructor(e){this.agentIdentifier=e,this.generateTracePayload=this.generateTracePayload.bind(this),this.shouldGenerateTrace=this.shouldGenerateTrace.bind(this)}generateTracePayload(e){if(!this.shouldGenerateTrace(e))return',\n",
       " 'null;var',\n",
       " 't=(0,n.DL)(this.agentIdentifier);if(!t)return',\n",
       " 'null;var',\n",
       " 'r=(t.accountID||\"\").toString()||null,i=(t.agentID||\"\").toString()||null,o=(t.trustKey||\"\").toString()||null;if(!r||!i)return',\n",
       " 'null;var',\n",
       " 'a=(0,v.M)(),s=(0,v.Ht)(),c=Date.now(),u={spanId:a,traceId:s,timestamp:c};return(e.sameOrigin||this.isAllowedOrigin(e)&&this.useTraceContextHeadersForCors())&&(u.traceContextParentHeader=this.generateTraceContextParentHeader(a,s),u.traceContextStateHeader=this.generateTraceContextStateHeader(a,c,r,i,o)),(e.sameOrigin&&!this.excludeNewrelicHeader()||!e.sameOrigin&&this.isAllowedOrigin(e)&&this.useNewrelicHeaderForCors())&&(u.newrelicHeader=this.generateTraceHeader(a,s,c,r,i,o)),u}generateTraceContextParentHeader(e,t){return\"00-\"+t+\"-\"+e+\"-01\"}generateTraceContextStateHeader(e,t,r,n,i){return',\n",
       " 'i+\"@nr=0-1-\"+r+\"-\"+n+\"-\"+e+\"----\"+t}generateTraceHeader(e,t,r,n,i,o){if(!(\"function\"==typeof',\n",
       " 'a._A?.btoa))return',\n",
       " 'null;var',\n",
       " 's={v:[0,1],d:{ty:\"Browser\",ac:n,ap:i,id:e,tr:t,ti:r}};return',\n",
       " 'o&&n!==o&&(s.d.tk=o),btoa(JSON.stringify(s))}shouldGenerateTrace(e){return',\n",
       " 'this.isDtEnabled()&&this.isAllowedOrigin(e)}isAllowedOrigin(e){var',\n",
       " 't=!1,r={};if((0,n.Mt)(this.agentIdentifier,\"distributed_tracing\")&&(r=(0,n.P_)(this.agentIdentifier).distributed_tracing),e.sameOrigin)t=!0;else',\n",
       " 'if(r.allowed_origins',\n",
       " 'instanceof',\n",
       " 'Array)for(var',\n",
       " 'i=0;i<r.allowed_origins.length;i++){var',\n",
       " 'o=(0,g.e)(r.allowed_origins[i]);if(e.hostname===o.hostname&&e.protocol===o.protocol&&e.port===o.port){t=!0;break}}return',\n",
       " 't}isDtEnabled(){var',\n",
       " 'e=(0,n.Mt)(this.agentIdentifier,\"distributed_tracing\");return!!e&&!!e.enabled}excludeNewrelicHeader(){var',\n",
       " 'e=(0,n.Mt)(this.agentIdentifier,\"distributed_tracing\");return!!e&&!!e.exclude_newrelic_header}useNewrelicHeaderForCors(){var',\n",
       " 'e=(0,n.Mt)(this.agentIdentifier,\"distributed_tracing\");return!!e&&!1!==e.cors_use_newrelic_header}useTraceContextHeadersForCors(){var',\n",
       " 'e=(0,n.Mt)(this.agentIdentifier,\"distributed_tracing\");return!!e&&!!e.cors_use_tracecontext_headers}}var',\n",
       " 'b=r(6114),y=r(8675),w=r(2325);function',\n",
       " 'E(e,t){!function(e,t){if(t.has(e))throw',\n",
       " 'new',\n",
       " 'TypeError(\"Cannot',\n",
       " 'initialize',\n",
       " 'the',\n",
       " 'same',\n",
       " 'private',\n",
       " 'elements',\n",
       " 'twice',\n",
       " 'on',\n",
       " 'an',\n",
       " 'object\")}(e,t),t.add(e)}var',\n",
       " 'A,T,O,x=[\"load\",\"error\",\"abort\",\"timeout\"],S=x.length,_=n.Yu.REQ,I=a._A.XMLHttpRequest,j=new',\n",
       " 'WeakSet;class',\n",
       " 'N',\n",
       " 'extends',\n",
       " 'b.S{constructor(e,t){let',\n",
       " 'r=!(arguments.length>2&&void',\n",
       " '0!==arguments[2])||arguments[2];super(e,t,y.t,r),E(this,j),(0,n.OP)(e).xhrWrappable&&(this.dt=new',\n",
       " 'm(e),this.handler=(e,t,r,n)=>(0,i.p)(e,t,r,n,this.ee),(0,p.u5)(this.ee),(0,p.Kf)(this.ee),function(e,t,r,i){function',\n",
       " 'o(e){var',\n",
       " 't=this;t.totalCbs=0,t.called=0,t.cbTime=0,t.end=R,t.ended=!1,t.xhrGuids={},t.lastSize=null,t.loadCaptureCalled=!1,t.params=this.params||{},t.metrics=this.metrics||{},e.addEventListener(\"load\",(function(r){C(t,e)}),(0,l.m$)(!1)),d.I||e.addEventListener(\"progress\",(function(e){t.lastSize=e.loaded}),(0,l.m$)(!1))}function',\n",
       " 's(e){this.params={method:e[0]},D(this,e[1]),this.metrics={}}function',\n",
       " 'c(t,r){var',\n",
       " 'o=(0,n.DL)(e);\"xpid\"in',\n",
       " 'o&&this.sameOrigin&&r.setRequestHeader(\"X-NewRelic-ID\",o.xpid);var',\n",
       " 'a=i.generateTracePayload(this.parsedOrigin);if(a){var',\n",
       " 's=!1;a.newrelicHeader&&(r.setRequestHeader(\"newrelic\",a.newrelicHeader),s=!0),a.traceContextParentHeader&&(r.setRequestHeader(\"traceparent\",a.traceContextParentHeader),a.traceContextStateHeader&&r.setRequestHeader(\"tracestate\",a.traceContextStateHeader),s=!0),s&&(this.dt=a)}}function',\n",
       " 'p(e,r){var',\n",
       " 'n=this.metrics,i=e[0],o=this;if(n&&i){var',\n",
       " 'a=f(i);a&&(n.txSize=a)}this.startTime=(0,h.zO)(),this.listener=function(e){try{\"abort\"!==e.type||o.loadCaptureCalled||(o.params.aborted=!0),(\"load\"!==e.type||o.called===o.totalCbs&&(o.onloadCalled||\"function\"!=typeof',\n",
       " 'r.onload)&&\"function\"==typeof',\n",
       " 'o.end)&&o.end(r)}catch(e){try{t.emit(\"internal-error\",[e])}catch(e){}}};for(var',\n",
       " 's=0;s<S;s++)r.addEventListener(x[s],this.listener,(0,l.m$)(!1))}function',\n",
       " 'v(e,t,r){this.cbTime+=e,t?this.onloadCalled=!0:this.called+=1,this.called!==this.totalCbs||!this.onloadCalled&&\"function\"==typeof',\n",
       " 'r.onload||\"function\"!=typeof',\n",
       " 'this.end||this.end(r)}function',\n",
       " 'm(e,t){var',\n",
       " 'r=\"\"+u(e)+!!t;this.xhrGuids&&!this.xhrGuids[r]&&(this.xhrGuids[r]=!0,this.totalCbs+=1)}function',\n",
       " 'b(e,t){var',\n",
       " 'r=\"\"+u(e)+!!t;this.xhrGuids&&this.xhrGuids[r]&&(delete',\n",
       " 'this.xhrGuids[r],this.totalCbs-=1)}function',\n",
       " 'y(){this.endTime=(0,h.zO)()}function',\n",
       " 'E(e,r){r',\n",
       " 'instanceof',\n",
       " 'I&&\"load\"===e[0]&&t.emit(\"xhr-load-added\",[e[1],e[2]],r)}function',\n",
       " 'A(e,r){r',\n",
       " 'instanceof',\n",
       " 'I&&\"load\"===e[0]&&t.emit(\"xhr-load-removed\",[e[1],e[2]],r)}function',\n",
       " 'T(e,t,r){t',\n",
       " 'instanceof',\n",
       " 'I&&(\"onload\"===r&&(this.onload=!0),(\"load\"===(e[0]&&e[0].type)||this.onload)&&(this.xhrCbStart=(0,h.zO)()))}function',\n",
       " 'O(e,r){this.xhrCbStart&&t.emit(\"xhr-cb-time\",[(0,h.zO)()-this.xhrCbStart,this.onload,r],r)}function',\n",
       " 'j(e){var',\n",
       " 't,r=e[1]||{};\"string\"==typeof',\n",
       " 'e[0]?t=e[0]:e[0]&&e[0].url?t=e[0].url:a._A?.URL&&e[0]&&e[0]instanceof',\n",
       " 'URL&&(t=e[0].href),t&&(this.parsedOrigin=(0,g.e)(t),this.sameOrigin=this.parsedOrigin.sameOrigin);var',\n",
       " 'n=i.generateTracePayload(this.parsedOrigin);if(n&&(n.newrelicHeader||n.traceContextParentHeader))if(\"string\"==typeof',\n",
       " 'e[0]||a._A?.URL&&e[0]&&e[0]instanceof',\n",
       " 'URL){var',\n",
       " 'o={};for(var',\n",
       " 's',\n",
       " 'in',\n",
       " 'r)o[s]=r[s];o.headers=new',\n",
       " 'Headers(r.headers||{}),c(o.headers,n)&&(this.dt=n),e.length>1?e[1]=o:e.push(o)}else',\n",
       " 'e[0]&&e[0].headers&&c(e[0].headers,n)&&(this.dt=n);function',\n",
       " 'c(e,t){var',\n",
       " 'r=!1;return',\n",
       " 't.newrelicHeader&&(e.set(\"newrelic\",t.newrelicHeader),r=!0),t.traceContextParentHeader&&(e.set(\"traceparent\",t.traceContextParentHeader),t.traceContextStateHeader&&e.set(\"tracestate\",t.traceContextStateHeader),r=!0),r}}function',\n",
       " 'N(e,t){this.params={},this.metrics={},this.startTime=(0,h.zO)(),this.dt=t,e.length>=1&&(this.target=e[0]),e.length>=2&&(this.opts=e[1]);var',\n",
       " 'r,n=this.opts||{},i=this.target;\"string\"==typeof',\n",
       " 'i?r=i:\"object\"==typeof',\n",
       " 'i&&i',\n",
       " 'instanceof',\n",
       " '_?r=i.url:a._A?.URL&&\"object\"==typeof',\n",
       " 'i&&i',\n",
       " 'instanceof',\n",
       " 'URL&&(r=i.href),D(this,r);var',\n",
       " 'o=(\"\"+(i&&i',\n",
       " 'instanceof',\n",
       " '_&&i.method||n.method||\"GET\")).toUpperCase();this.params.method=o,this.txSize=f(n.body)||0}function',\n",
       " 'P(e,t){var',\n",
       " 'n;this.endTime=(0,h.zO)(),this.params||(this.params={}),this.params.status=t?t.status:0,\"string\"==typeof',\n",
       " 'this.rxSize&&this.rxSize.length>0&&(n=+this.rxSize);var',\n",
       " 'i={txSize:this.txSize,rxSize:n,duration:(0,h.zO)()-this.startTime};r(\"xhr\",[this.params,i,this.startTime,this.endTime,\"fetch\"],this,w.D.ajax)}function',\n",
       " 'R(e){var',\n",
       " 't=this.params,n=this.metrics;if(!this.ended){this.ended=!0;for(var',\n",
       " 'i=0;i<S;i++)e.removeEventListener(x[i],this.listener,!1);t.aborted||(n.duration=(0,h.zO)()-this.startTime,this.loadCaptureCalled||4!==e.readyState?null==t.status&&(t.status=0):C(this,e),n.cbTime=this.cbTime,r(\"xhr\",[t,n,this.startTime,this.endTime,\"xhr\"],this,w.D.ajax))}}function',\n",
       " 'D(e,t){var',\n",
       " 'r=(0,g.e)(t),n=e.params;n.hostname=r.hostname,n.port=r.port,n.protocol=r.protocol,n.host=r.hostname+\":\"+r.port,n.pathname=r.pathname,e.parsedOrigin=r,e.sameOrigin=r.sameOrigin}function',\n",
       " 'C(e,t){e.params.status=t.status;var',\n",
       " 'r=function(e,t){var',\n",
       " 'r=e.responseType;return\"json\"===r&&null!==t?t:\"arraybuffer\"===r||\"blob\"===r||\"json\"===r?f(e.response):\"text\"===r||\"\"===r||void',\n",
       " '0===r?f(e.responseText):void',\n",
       " '0}(t,e.lastSize);if(r&&(e.metrics.rxSize=r),e.sameOrigin){var',\n",
       " 'n=t.getResponseHeader(\"X-NewRelic-App-Data\");n&&(e.params.cat=n.split(\",',\n",
       " '\").pop())}e.loadCaptureCalled=!0}t.on(\"new-xhr\",o),t.on(\"open-xhr-start\",s),t.on(\"open-xhr-end\",c),t.on(\"send-xhr-start\",p),t.on(\"xhr-cb-time\",v),t.on(\"xhr-load-added\",m),t.on(\"xhr-load-removed\",b),t.on(\"xhr-resolved\",y),t.on(\"addEventListener-end\",E),t.on(\"removeEventListener-end\",A),t.on(\"fn-end\",O),t.on(\"fetch-before-start\",j),t.on(\"fetch-start\",N),t.on(\"fn-start\",T),t.on(\"fetch-done\",P)}(e,this.ee,this.handler,this.dt),this.abortHandler=function(e,t,r){if(!t.has(e))throw',\n",
       " 'new',\n",
       " 'TypeError(\"attempted',\n",
       " 'to',\n",
       " 'get',\n",
       " 'private',\n",
       " 'field',\n",
       " 'on',\n",
       " 'non-instance\");return',\n",
       " 'r}(this,j,P),this.importAggregator())}}function',\n",
       " 'P(){(0,p.Fp)(this.ee),(0,p.ig)(this.ee),this.abortHandler=void',\n",
       " '0}A=N,T=\"featureName\",O=y.t,(T=function(e){var',\n",
       " 't=function(e,t){if(\"object\"!=typeof',\n",
       " 'e||null===e)return',\n",
       " 'e;var',\n",
       " 'r=e[Symbol.toPrimitive];if(void',\n",
       " '0!==r){var',\n",
       " 'n=r.call(e,t||\"default\");if(\"object\"!=typeof',\n",
       " 'n)return',\n",
       " 'n;throw',\n",
       " 'new',\n",
       " 'TypeError(\"@@toPrimitive',\n",
       " 'must',\n",
       " 'return',\n",
       " 'a',\n",
       " 'primitive',\n",
       " 'value.\")}return(\"string\"===t?String:Number)(e)}(e,\"string\");return\"symbol\"==typeof',\n",
       " 't?t:String(t)}(T))in',\n",
       " 'A?Object.defineProperty(A,T,{value:O,enumerable:!0,configurable:!0,writable:!0}):A[T]=O},8322:(e,t,r)=>{\"use',\n",
       " 'strict\";r.d(t,{A:()=>i,t:()=>n});const',\n",
       " 'n=r(2325).D.jserrors,i=\"nr@seenError\"},9715:(e,t,r)=>{\"use',\n",
       " 'strict\";r.r(t),r.d(t,{Instrument:()=>x});var',\n",
       " 'n,i=r(9252),o=r(2053),a=r(3916),s=r(7264),c=r(8683),u=r.n(c),d=r(3752),f=r(7022),l={};try{n=localStorage.getItem(\"__nr_flags\").split(\",\"),console&&\"function\"==typeof',\n",
       " 'console.log&&(l.console=!0,-1!==n.indexOf(\"dev\")&&(l.dev=!0),-1!==n.indexOf(\"nr_dev\")&&(l.nrDev=!0))}catch(e){}function',\n",
       " 'h(e){try{l.console&&h(e)}catch(e){}}l.nrDev&&d.ee.on(\"internal-error\",(function(e){h(e.stack)})),l.dev&&d.ee.on(\"fn-err\",(function(e,t,r){h(r.stack)})),l.dev&&(h(\"NR',\n",
       " 'AGENT',\n",
       " 'IN',\n",
       " 'DEVELOPMENT',\n",
       " 'MODE\"),h(\"flags:',\n",
       " '\"+(0,f.D)(l,(function(e,t){return',\n",
       " 'e})).join(\",',\n",
       " '\")));var',\n",
       " 'p=r(6114),g=r(8322),v=r(2325),m=r(2374),b=r(8544),y=r(6562);function',\n",
       " 'w(e,t){!function(e,t){if(t.has(e))throw',\n",
       " 'new',\n",
       " 'TypeError(\"Cannot',\n",
       " 'initialize',\n",
       " 'the',\n",
       " 'same',\n",
       " 'private',\n",
       " 'elements',\n",
       " 'twice',\n",
       " 'on',\n",
       " 'an',\n",
       " 'object\")}(e,t),t.add(e)}var',\n",
       " 'E,A,T,O=new',\n",
       " 'WeakSet;class',\n",
       " 'x',\n",
       " 'extends',\n",
       " 'p.S{constructor(e,t){var',\n",
       " 'r;let',\n",
       " ...]"
      ]
     },
     "execution_count": 5,
     "metadata": {},
     "output_type": "execute_result"
    }
   ],
   "source": [
    "#Função que identifica todos os elementos que estão separados por espaços, quebra de linha, etc\n",
    "html.split()"
   ]
  },
  {
   "cell_type": "markdown",
   "metadata": {},
   "source": [
    "### Função de tratamento de strings"
   ]
  },
  {
   "cell_type": "code",
   "execution_count": 6,
   "metadata": {},
   "outputs": [],
   "source": [
    "#Função para separar os dados porém com apenas um espaço entre eles. Após isso, remover os espaços em branco entre as tags\n",
    "def treat_html(input):  \n",
    "    return \" \".join(input.split()).replace('> <', '><')"
   ]
  },
  {
   "cell_type": "code",
   "execution_count": 7,
   "metadata": {},
   "outputs": [],
   "source": [
    "html = treat_html(html)\n",
    "#html"
   ]
  },
  {
   "attachments": {},
   "cell_type": "markdown",
   "metadata": {
    "colab": {},
    "colab_type": "code",
    "id": "BsfhL3sZFRZu"
   },
   "source": [
    "---\n",
    "# <font color=green>3. INTRODUCTION TO BEAUTIFULSOUP"
   ]
  },
  {
   "attachments": {},
   "cell_type": "markdown",
   "metadata": {
    "colab": {},
    "colab_type": "code",
    "id": "BsfhL3sZFRZu"
   },
   "source": [
    "## 3.1. About HTML"
   ]
  },
  {
   "attachments": {},
   "cell_type": "markdown",
   "metadata": {},
   "source": [
    "**HTML** (*HyperText Markup Language*) é uma linguagem de marcação composta por **tags** que deteminam o papel que cada parte do documento vai assumir. As **tags** são formadas pelo seu nome e atributos. Os atributos servem para configurar e também modificar as características padrões de uma **tag**.\n",
    "\n",
    "## common tags\n",
    "\n",
    "```\n",
    "\n",
    "```<html>``` - determina o início do documento.\n",
    "\n",
    "```<head>``` - cabeçalho. Contém informações e configurações do documento.\n",
    "\n",
    "```<body>``` - é o corpo do documento, onde todo o conteúdo é colocado. Esta é a parte visível em um navegador.\n",
    "\n",
    "## Tags mais comuns\n",
    "\n",
    "```<div>``` - define uma divisão da página. Pode ser formatada de diversas maneiras.\n",
    "\n",
    "```<h1>, <h2>, <h3>, <h4>, <h5>, <h6>``` - marcadores de títulos.\n",
    "\n",
    "```<p>``` - marcador de parágrafo.\n",
    "\n",
    "```<a>``` - hiperlink.\n",
    "\n",
    "```<img>``` - exibição de imagens.\n",
    "\n",
    "```<table>``` - definição de tabelas.\n",
    "\n",
    "```<ul>, <li>``` - definição de listas.\n"
   ]
  },
  {
   "attachments": {},
   "cell_type": "markdown",
   "metadata": {},
   "source": [
    "## 3.2. Criando um objeto BeautifulSoup\n",
    "https://www.crummy.com/software/BeautifulSoup/bs4/doc/"
   ]
  },
  {
   "attachments": {},
   "cell_type": "markdown",
   "metadata": {},
   "source": [
    "### Pokedex: https://www.pokemon.com/br/pokedex/"
   ]
  },
  {
   "cell_type": "code",
   "execution_count": 8,
   "metadata": {
    "colab": {
     "base_uri": "https://localhost:8080/",
     "height": 316
    },
    "colab_type": "code",
    "id": "5Oxx_d0BCWGa",
    "outputId": "4d2c4e2b-57fe-413d-9521-91711e0e5fdc",
    "scrolled": true
   },
   "outputs": [],
   "source": [
    "soup = BeautifulSoup(html, 'html.parser')\n",
    "#print(type(soup))\n",
    "#print(soup.prettify()) #Comando que mostra o html identado"
   ]
  },
  {
   "attachments": {},
   "cell_type": "markdown",
   "metadata": {},
   "source": [
    "## 3.3. Acessando tags"
   ]
  },
  {
   "attachments": {},
   "cell_type": "markdown",
   "metadata": {},
   "source": [
    "Digitando soup + a tag que queira encontrar, ele busca a primeira ocorrência dessa tag e exibe os registros que estão dentro dela"
   ]
  },
  {
   "cell_type": "code",
   "execution_count": 9,
   "metadata": {
    "scrolled": true
   },
   "outputs": [
    {
     "data": {
      "text/plain": [
       "<title> Pokédex | www.pokemon.net.br</title>"
      ]
     },
     "execution_count": 9,
     "metadata": {},
     "output_type": "execute_result"
    }
   ],
   "source": [
    "soup.title"
   ]
  },
  {
   "cell_type": "code",
   "execution_count": 10,
   "metadata": {
    "scrolled": true
   },
   "outputs": [
    {
     "data": {
      "text/plain": [
       "<div class=\"pokemon-gus-container\" data-api=\"https://www.pokemon.com/api/gus/\" data-locale=\"pt-br\" data-site=\"pcom\" data-width=\"913px\"></div>"
      ]
     },
     "execution_count": 10,
     "metadata": {},
     "output_type": "execute_result"
    }
   ],
   "source": [
    "soup.body.div.div"
   ]
  },
  {
   "cell_type": "code",
   "execution_count": 11,
   "metadata": {},
   "outputs": [
    {
     "data": {
      "text/plain": [
       "' Pokédex | www.pokemon.net.br'"
      ]
     },
     "execution_count": 11,
     "metadata": {},
     "output_type": "execute_result"
    }
   ],
   "source": [
    "#Comando que traz somente o conteúdo da tag - get_text() ou getText()\n",
    "soup.title.get_text()"
   ]
  },
  {
   "attachments": {},
   "cell_type": "markdown",
   "metadata": {},
   "source": [
    "## 3.4. Acessando os atributos de uma tag"
   ]
  },
  {
   "cell_type": "code",
   "execution_count": 12,
   "metadata": {},
   "outputs": [
    {
     "data": {
      "text/plain": [
       "{'class': ['pokemon-gus-container'],\n",
       " 'data-site': 'pcom',\n",
       " 'data-locale': 'pt-br',\n",
       " 'data-api': 'https://www.pokemon.com/api/gus/',\n",
       " 'data-width': '913px'}"
      ]
     },
     "execution_count": 12,
     "metadata": {},
     "output_type": "execute_result"
    }
   ],
   "source": [
    "soup.body.div.div.attrs"
   ]
  },
  {
   "cell_type": "code",
   "execution_count": 13,
   "metadata": {},
   "outputs": [
    {
     "data": {
      "text/plain": [
       "dict_keys(['class', 'data-site', 'data-locale', 'data-api', 'data-width'])"
      ]
     },
     "execution_count": 13,
     "metadata": {},
     "output_type": "execute_result"
    }
   ],
   "source": [
    "soup.body.div.div.attrs.keys()"
   ]
  },
  {
   "cell_type": "code",
   "execution_count": 14,
   "metadata": {},
   "outputs": [
    {
     "data": {
      "text/plain": [
       "dict_values([['pokemon-gus-container'], 'pcom', 'pt-br', 'https://www.pokemon.com/api/gus/', '913px'])"
      ]
     },
     "execution_count": 14,
     "metadata": {},
     "output_type": "execute_result"
    }
   ],
   "source": [
    "soup.body.div.div.attrs.values()"
   ]
  },
  {
   "cell_type": "code",
   "execution_count": 15,
   "metadata": {},
   "outputs": [
    {
     "data": {
      "text/plain": [
       "['pokemon-gus-container']"
      ]
     },
     "execution_count": 15,
     "metadata": {},
     "output_type": "execute_result"
    }
   ],
   "source": [
    "soup.body.div.div.attrs['class']"
   ]
  },
  {
   "cell_type": "code",
   "execution_count": 16,
   "metadata": {},
   "outputs": [
    {
     "data": {
      "text/plain": [
       "'https://www.pokemon.com/api/gus/'"
      ]
     },
     "execution_count": 16,
     "metadata": {},
     "output_type": "execute_result"
    }
   ],
   "source": [
    "soup.body.div.div.get('data-api')"
   ]
  },
  {
   "cell_type": "markdown",
   "metadata": {},
   "source": [
    "---\n",
    "# <font color=green>4. PESQUISANDO COM O BEAUTIFULSOUP"
   ]
  },
  {
   "attachments": {},
   "cell_type": "markdown",
   "metadata": {},
   "source": [
    "## 4.1. Os métodos *find()* e *findAll()*"
   ]
  },
  {
   "cell_type": "markdown",
   "metadata": {},
   "source": [
    "- ### *find(tag, attributes, recursive, text, **kwargs)*\n",
    "\n",
    "- ### *findAll(tag, attributes, recursive, text, limit, **kwargs)*\n",
    "\n",
    "#### https://www.crummy.com/software/BeautifulSoup/bs4/doc/#find\n",
    "#### https://www.crummy.com/software/BeautifulSoup/bs4/doc/#find-all\n",
    "\n",
    "> **Observação:**\n",
    "> - *findAll()* também pode ser utilizado como *find_all()*"
   ]
  },
  {
   "cell_type": "markdown",
   "metadata": {},
   "source": [
    "### Método *find()*"
   ]
  },
  {
   "cell_type": "code",
   "execution_count": 17,
   "metadata": {},
   "outputs": [
    {
     "data": {
      "text/plain": [
       "<h2>Realize a busca por Pokémon pelo nome ou usando o número do Pokédex Nacional.</h2>"
      ]
     },
     "execution_count": 17,
     "metadata": {},
     "output_type": "execute_result"
    }
   ],
   "source": [
    "#Encontra a primeira ocorrência da tag buscada\n",
    "soup.find('h2')"
   ]
  },
  {
   "cell_type": "markdown",
   "metadata": {},
   "source": [
    "### Método *findAll()*"
   ]
  },
  {
   "cell_type": "code",
   "execution_count": 18,
   "metadata": {},
   "outputs": [
    {
     "data": {
      "text/plain": [
       "[<h2>Realize a busca por Pokémon pelo nome ou usando o número do Pokédex Nacional.</h2>,\n",
       " <h2 class=\"section-title no-padding\"> Tipo e Fraqueza </h2>,\n",
       " <h2>National Pokédex</h2>,\n",
       " <h2><span class=\"offscreen\">The Pokémon Company</span></h2>]"
      ]
     },
     "execution_count": 18,
     "metadata": {},
     "output_type": "execute_result"
    }
   ],
   "source": [
    "#Encontra todas as ocorrências da tag buscada\n",
    "soup.findAll('h2')"
   ]
  },
  {
   "cell_type": "code",
   "execution_count": 19,
   "metadata": {},
   "outputs": [
    {
     "data": {
      "text/plain": [
       "[<h2>Realize a busca por Pokémon pelo nome ou usando o número do Pokédex Nacional.</h2>,\n",
       " <h2 class=\"section-title no-padding\"> Tipo e Fraqueza </h2>,\n",
       " <h2>National Pokédex</h2>]"
      ]
     },
     "execution_count": 19,
     "metadata": {},
     "output_type": "execute_result"
    }
   ],
   "source": [
    "#Limitando ocorrências\n",
    "soup.findAll('h2', limit=3)"
   ]
  },
  {
   "cell_type": "code",
   "execution_count": 20,
   "metadata": {},
   "outputs": [
    {
     "data": {
      "text/plain": [
       "<h2>National Pokédex</h2>"
      ]
     },
     "execution_count": 20,
     "metadata": {},
     "output_type": "execute_result"
    }
   ],
   "source": [
    "#Limitando ocorrências\n",
    "soup.findAll('h2', limit=3)[2]"
   ]
  },
  {
   "cell_type": "markdown",
   "metadata": {},
   "source": [
    "### Atalho para o método *findAll()*"
   ]
  },
  {
   "cell_type": "code",
   "execution_count": 21,
   "metadata": {},
   "outputs": [
    {
     "data": {
      "text/plain": [
       "[<h2>Realize a busca por Pokémon pelo nome ou usando o número do Pokédex Nacional.</h2>,\n",
       " <h2 class=\"section-title no-padding\"> Tipo e Fraqueza </h2>,\n",
       " <h2>National Pokédex</h2>,\n",
       " <h2><span class=\"offscreen\">The Pokémon Company</span></h2>]"
      ]
     },
     "execution_count": 21,
     "metadata": {},
     "output_type": "execute_result"
    }
   ],
   "source": [
    "soup('h2')"
   ]
  },
  {
   "cell_type": "markdown",
   "metadata": {},
   "source": [
    "### Passando listas de TAGs"
   ]
  },
  {
   "cell_type": "code",
   "execution_count": 22,
   "metadata": {},
   "outputs": [
    {
     "data": {
      "text/plain": [
       "[<h1 class=\"section-title no-margin no-padding\">Pokédex</h1>,\n",
       " <h2>Realize a busca por Pokémon pelo nome ou usando o número do Pokédex Nacional.</h2>,\n",
       " <h2 class=\"section-title no-padding\"> Tipo e Fraqueza </h2>,\n",
       " <h3 class=\"rangeTitle\">Intervalo de números</h3>,\n",
       " <h3 class=\"section-title pokedex-filter-title\">Habilidade</h3>,\n",
       " <h3 class=\"section-title pokedex-filter-title\">Altura</h3>,\n",
       " <h3 class=\"section-title pokedex-filter-title\">Peso</h3>,\n",
       " <h3 class=\"color-text color-gray sort-label\">Organizar por</h3>,\n",
       " <h3>Nenhum Pokémon corresponde à sua pesquisa!</h3>,\n",
       " <h2>National Pokédex</h2>,\n",
       " <h3>É necessário acessar sua conta</h3>,\n",
       " <h2><span class=\"offscreen\">The Pokémon Company</span></h2>,\n",
       " <h6> Você está prestes a sair do site operado pela The Pokémon Company International, Inc. </h6>,\n",
       " <h6> Clique em \"Continuar\" para visitar PokemonCenter.com, nossa loja online oficial. </h6>,\n",
       " <h6> As políticas de privacidade e as práticas de segurança são diferentes. </h6>,\n",
       " <h6>Reportar nome de tela inadequado</h6>,\n",
       " <h6>Reportar nome de tela inadequado</h6>]"
      ]
     },
     "execution_count": 22,
     "metadata": {},
     "output_type": "execute_result"
    }
   ],
   "source": [
    "soup.findAll(['h1', 'h2', 'h3', 'h4', 'h5', 'h6'])"
   ]
  },
  {
   "cell_type": "markdown",
   "metadata": {},
   "source": [
    "### Utilizando o argumento *attributes*"
   ]
  },
  {
   "cell_type": "code",
   "execution_count": 23,
   "metadata": {},
   "outputs": [
    {
     "data": {
      "text/plain": [
       "[<h3 class=\"section-title pokedex-filter-title\">Habilidade</h3>,\n",
       " <h3 class=\"section-title pokedex-filter-title\">Altura</h3>,\n",
       " <h3 class=\"section-title pokedex-filter-title\">Peso</h3>]"
      ]
     },
     "execution_count": 23,
     "metadata": {},
     "output_type": "execute_result"
    }
   ],
   "source": [
    "#Encontrando tags com um atributo de nome específico\n",
    "soup.findAll('h3', attrs={'class':'section-title pokedex-filter-title'})"
   ]
  },
  {
   "attachments": {},
   "cell_type": "markdown",
   "metadata": {},
   "source": [
    "### Buscando por conteúdo de uma TAG"
   ]
  },
  {
   "cell_type": "code",
   "execution_count": 24,
   "metadata": {},
   "outputs": [
    {
     "data": {
      "text/plain": [
       "[<h1 class=\"section-title no-margin no-padding\">Pokédex</h1>]"
      ]
     },
     "execution_count": 24,
     "metadata": {},
     "output_type": "execute_result"
    }
   ],
   "source": [
    "soup.findAll('h1', text='Pokédex')"
   ]
  },
  {
   "cell_type": "code",
   "execution_count": 25,
   "metadata": {},
   "outputs": [
    {
     "data": {
      "text/plain": [
       "[<ul class=\"evolution-profile match-height-tablet\">\n",
       " <li class=\"first\">\n",
       " <a href=\"/br/pokedex/bulbasaur\">\n",
       " <img alt=\"Bulbasaur\" src=\"https://assets.pokemon.com/assets/cms2/img/pokedex/detail/001.png\"/>\n",
       " <h3 class=\"match\">\n",
       "         Bulbasaur\n",
       "         <span class=\"pokemon-number\">\n",
       "             Nº 0001\n",
       "         </span>\n",
       " </h3>\n",
       " <ul class=\"evolution-attributes match-height\">\n",
       " <li class=\"background-color-grass match\">Grass</li>\n",
       " <li class=\"background-color-poison match\">Poison</li>\n",
       " </ul>\n",
       " </a>\n",
       " </li>\n",
       " <li class=\"middle\">\n",
       " <a href=\"/br/pokedex/ivysaur\">\n",
       " <img alt=\"Ivysaur\" src=\"https://assets.pokemon.com/assets/cms2/img/pokedex/detail/002.png\"/>\n",
       " <h3 class=\"match\">\n",
       "         Ivysaur\n",
       "         <span class=\"pokemon-number\">\n",
       "             Nº 0002\n",
       "         </span>\n",
       " </h3>\n",
       " <ul class=\"evolution-attributes match-height\">\n",
       " <li class=\"background-color-grass match\">Grass</li>\n",
       " <li class=\"background-color-poison match\">Poison</li>\n",
       " </ul>\n",
       " </a>\n",
       " </li>\n",
       " <li class=\"last\">\n",
       " <a href=\"/br/pokedex/venusaur\">\n",
       " <img alt=\"Venusaur\" src=\"https://assets.pokemon.com/assets/cms2/img/pokedex/detail/003.png\"/>\n",
       " <h3 class=\"match\">\n",
       "         Venusaur\n",
       "         <span class=\"pokemon-number\">\n",
       "             Nº 0003\n",
       "         </span>\n",
       " </h3>\n",
       " <ul class=\"evolution-attributes match-height\">\n",
       " <li class=\"background-color-grass match\">Grass</li>\n",
       " <li class=\"background-color-poison match\">Poison</li>\n",
       " </ul>\n",
       " </a>\n",
       " </li>\n",
       " </ul>]"
      ]
     },
     "execution_count": 25,
     "metadata": {},
     "output_type": "execute_result"
    }
   ],
   "source": [
    "import requests \n",
    "url = 'https://www.pokemon.com/br/pokedex/bulbasaur'\n",
    "\n",
    "# Fazendo a requisição HTTP para a URL\n",
    "r = requests.get(url)\n",
    "\n",
    "#Extraindo o conteúdo HTML da página\n",
    "soup = BeautifulSoup(r.content, 'html.parser')\n",
    "\n",
    "soup.findAll('ul', attrs={'class':'evolution-profile'})"
   ]
  },
  {
   "cell_type": "markdown",
   "metadata": {},
   "source": [
    "### Obtendo todo o conteúdo de texto de uma página"
   ]
  },
  {
   "cell_type": "code",
   "execution_count": 26,
   "metadata": {},
   "outputs": [],
   "source": [
    "#soup.findAll(text=True)"
   ]
  },
  {
   "attachments": {},
   "cell_type": "markdown",
   "metadata": {},
   "source": [
    "## 4.2. Outros métodos de pesquisa"
   ]
  },
  {
   "cell_type": "markdown",
   "metadata": {},
   "source": [
    "- ### *findParent(tag, attributes, text, **kwargs)*\n",
    "\n",
    "- ### *findParents(tag, attributes, text, limit, **kwargs)*\n",
    "\n",
    "#### https://www.crummy.com/software/BeautifulSoup/bs4/doc/#find-parents-and-find-parent\n",
    "\n",
    "> **Observação:**\n",
    "> - *findParent()* e *findParents()* também podem ser utilizados como *find_parent()* e *find_parents()*, respectivamente.\n",
    "---\n",
    "- ### *findNextSibling(tag, attributes, text, **kwargs)*\n",
    "\n",
    "- ### *findNextSiblings(tag, attributes, text, limit, **kwargs)*\n",
    "\n",
    "- ### *findPreviousSibling(tag, attributes, text, **kwargs)*\n",
    "\n",
    "- ### *findPreviousSiblings(tag, attributes, text, limit, **kwargs)*\n",
    "\n",
    "#### https://www.crummy.com/software/BeautifulSoup/bs4/doc/#find-next-siblings-and-find-next-sibling\n",
    "#### https://www.crummy.com/software/BeautifulSoup/bs4/doc/#find-previous-siblings-and-find-previous-sibling\n",
    "\n",
    "> **Observação:**\n",
    "> - *findNextSibling()*, *findNextSiblings()*, *findPreviousSibling()* e *findPreviousSiblings()* também podem ser utilizados como *find_next_sibling()*, *find_next_siblings()*, *find_previous_sibling()* e *find_previous_siblings()*, respectivamente.\n",
    "---\n",
    "- ### *findNext(tag, attributes, text, **kwargs)*\n",
    "\n",
    "- ### *findAllNext(tag, attributes, text, limit, **kwargs)*\n",
    "\n",
    "- ### *findPrevious(tag, attributes, text, **kwargs)*\n",
    "\n",
    "- ### *findAllPrevious(tag, attributes, text, limit, **kwargs)*\n",
    "\n",
    "#### https://www.crummy.com/software/BeautifulSoup/bs4/doc/#find-all-next-and-find-next\n",
    "#### https://www.crummy.com/software/BeautifulSoup/bs4/doc/#find-all-previous-and-find-previous\n",
    "\n",
    "> **Observação:**\n",
    "> - *findNext()*, *findAllNext()*, *findPrevious* e *findAllPrevious* também podem ser utilizados como *find_next()*, *find_all_next()*, *find_previous()* e *find_all_previous()*, respectivamente."
   ]
  },
  {
   "attachments": {},
   "cell_type": "markdown",
   "metadata": {},
   "source": [
    "### HTML de exemplo para ilustrar a utilização dos métodos de pesquisa do BeautifulSoup"
   ]
  },
  {
   "cell_type": "markdown",
   "metadata": {},
   "source": [
    "<img src=\"https://caelum-online-public.s3.amazonaws.com/1381-scraping/01/BeautifulSoup-method.png\" width=80%>"
   ]
  },
  {
   "attachments": {},
   "cell_type": "markdown",
   "metadata": {},
   "source": [
    "### Example"
   ]
  },
  {
   "cell_type": "code",
   "execution_count": 27,
   "metadata": {},
   "outputs": [],
   "source": [
    "html_test = \"\"\"\"\n",
    "<html>\n",
    "    <body>\n",
    "        <div class=\"pokemon_001\">\n",
    "            <h1>Bulbasaur</h1>\n",
    "            <ul>\n",
    "                <li>Grass</li>\n",
    "                <li>Poison</li>\n",
    "            </ul>l\n",
    "            <p>Nº 0001</p>\n",
    "         </div>\n",
    "        <div class=\"pokemon_002\">\n",
    "            <h1>Ivysaur</h1>\n",
    "            <ul>\n",
    "                <li>Grass</li>\n",
    "                <li>Poison</li>\n",
    "            </ul>\n",
    "            <p>Nº 0002</p>\n",
    "        </div>\n",
    "        <div class=\"pokemon_003\">\n",
    "            <h1>Venusaur</h1>\n",
    "            <ul>\n",
    "                <li>Grass</li>\n",
    "                <li>Poison</li>\n",
    "            </ul>\n",
    "            <p>Nº 0003</p>\n",
    "        </div>\n",
    "    </body>\n",
    "</html>\n",
    "\"\"\""
   ]
  },
  {
   "cell_type": "markdown",
   "metadata": {},
   "source": [
    "### Read Example HTML"
   ]
  },
  {
   "cell_type": "code",
   "execution_count": 28,
   "metadata": {},
   "outputs": [
    {
     "data": {
      "text/plain": [
       "'\" <html><body><div class=\"pokemon_001\"><h1>Bulbasaur</h1><ul><li>Grass</li><li>Poison</li></ul>l <p>Nº 0001</p></div><div class=\"pokemon_002\"><h1>Ivysaur</h1><ul><li>Grass</li><li>Poison</li></ul><p>Nº 0002</p></div><div class=\"pokemon_003\"><h1>Venusaur</h1><ul><li>Grass</li><li>Poison</li></ul><p>Nº 0003</p></div></body></html>'"
      ]
     },
     "execution_count": 28,
     "metadata": {},
     "output_type": "execute_result"
    }
   ],
   "source": [
    "html_test = treat_html(html_test)\n",
    "html_test"
   ]
  },
  {
   "cell_type": "code",
   "execution_count": 29,
   "metadata": {},
   "outputs": [
    {
     "data": {
      "text/plain": [
       "\" <html><body><div class=\"pokemon_001\"><h1>Bulbasaur</h1><ul><li>Grass</li><li>Poison</li></ul>l <p>Nº 0001</p></div><div class=\"pokemon_002\"><h1>Ivysaur</h1><ul><li>Grass</li><li>Poison</li></ul><p>Nº 0002</p></div><div class=\"pokemon_003\"><h1>Venusaur</h1><ul><li>Grass</li><li>Poison</li></ul><p>Nº 0003</p></div></body></html>"
      ]
     },
     "execution_count": 29,
     "metadata": {},
     "output_type": "execute_result"
    }
   ],
   "source": [
    "soup = BeautifulSoup(html_test, 'html.parser')\n",
    "soup"
   ]
  },
  {
   "attachments": {},
   "cell_type": "markdown",
   "metadata": {},
   "source": [
    "### Parents"
   ]
  },
  {
   "cell_type": "code",
   "execution_count": 30,
   "metadata": {},
   "outputs": [
    {
     "data": {
      "text/plain": [
       "[<h1>Bulbasaur</h1>, <h1>Ivysaur</h1>, <h1>Venusaur</h1>]"
      ]
     },
     "execution_count": 30,
     "metadata": {},
     "output_type": "execute_result"
    }
   ],
   "source": [
    "soup.findAll('h1')"
   ]
  },
  {
   "cell_type": "code",
   "execution_count": 31,
   "metadata": {},
   "outputs": [
    {
     "data": {
      "text/plain": [
       "<div class=\"pokemon_001\"><h1>Bulbasaur</h1><ul><li>Grass</li><li>Poison</li></ul>l <p>Nº 0001</p></div>"
      ]
     },
     "execution_count": 31,
     "metadata": {},
     "output_type": "execute_result"
    }
   ],
   "source": [
    "soup.find('h1').find_parent('div')"
   ]
  },
  {
   "cell_type": "code",
   "execution_count": 32,
   "metadata": {},
   "outputs": [
    {
     "data": {
      "text/plain": [
       "[<div class=\"pokemon_001\"><h1>Bulbasaur</h1><ul><li>Grass</li><li>Poison</li></ul>l <p>Nº 0001</p></div>,\n",
       " <body><div class=\"pokemon_001\"><h1>Bulbasaur</h1><ul><li>Grass</li><li>Poison</li></ul>l <p>Nº 0001</p></div><div class=\"pokemon_002\"><h1>Ivysaur</h1><ul><li>Grass</li><li>Poison</li></ul><p>Nº 0002</p></div><div class=\"pokemon_003\"><h1>Venusaur</h1><ul><li>Grass</li><li>Poison</li></ul><p>Nº 0003</p></div></body>,\n",
       " <html><body><div class=\"pokemon_001\"><h1>Bulbasaur</h1><ul><li>Grass</li><li>Poison</li></ul>l <p>Nº 0001</p></div><div class=\"pokemon_002\"><h1>Ivysaur</h1><ul><li>Grass</li><li>Poison</li></ul><p>Nº 0002</p></div><div class=\"pokemon_003\"><h1>Venusaur</h1><ul><li>Grass</li><li>Poison</li></ul><p>Nº 0003</p></div></body></html>,\n",
       " \" <html><body><div class=\"pokemon_001\"><h1>Bulbasaur</h1><ul><li>Grass</li><li>Poison</li></ul>l <p>Nº 0001</p></div><div class=\"pokemon_002\"><h1>Ivysaur</h1><ul><li>Grass</li><li>Poison</li></ul><p>Nº 0002</p></div><div class=\"pokemon_003\"><h1>Venusaur</h1><ul><li>Grass</li><li>Poison</li></ul><p>Nº 0003</p></div></body></html>]"
      ]
     },
     "execution_count": 32,
     "metadata": {},
     "output_type": "execute_result"
    }
   ],
   "source": [
    "soup.find('h1').find_parents()"
   ]
  },
  {
   "cell_type": "code",
   "execution_count": 33,
   "metadata": {},
   "outputs": [
    {
     "name": "stdout",
     "output_type": "stream",
     "text": [
      "<div class=\"pokemon_001\"><h1>Bulbasaur</h1><ul><li>Grass</li><li>Poison</li></ul>l <p>Nº 0001</p></div>\n",
      "<div class=\"pokemon_002\"><h1>Ivysaur</h1><ul><li>Grass</li><li>Poison</li></ul><p>Nº 0002</p></div>\n",
      "<div class=\"pokemon_003\"><h1>Venusaur</h1><ul><li>Grass</li><li>Poison</li></ul><p>Nº 0003</p></div>\n"
     ]
    }
   ],
   "source": [
    "for item in soup.findAll('h1'):\n",
    "    print(item.find_parent('div'))"
   ]
  },
  {
   "attachments": {},
   "cell_type": "markdown",
   "metadata": {},
   "source": [
    "### Siblings"
   ]
  },
  {
   "cell_type": "code",
   "execution_count": 34,
   "metadata": {},
   "outputs": [
    {
     "data": {
      "text/plain": [
       "<ul><li>Grass</li><li>Poison</li></ul>"
      ]
     },
     "execution_count": 34,
     "metadata": {},
     "output_type": "execute_result"
    }
   ],
   "source": [
    "soup.find('h1').findNextSibling()"
   ]
  },
  {
   "cell_type": "code",
   "execution_count": 35,
   "metadata": {},
   "outputs": [
    {
     "data": {
      "text/plain": [
       "<h1>Bulbasaur</h1>"
      ]
     },
     "execution_count": 35,
     "metadata": {},
     "output_type": "execute_result"
    }
   ],
   "source": [
    "soup.find('ul').findPreviousSibling()"
   ]
  },
  {
   "cell_type": "code",
   "execution_count": 36,
   "metadata": {},
   "outputs": [
    {
     "data": {
      "text/plain": [
       "[<ul><li>Grass</li><li>Poison</li></ul>, <h1>Bulbasaur</h1>]"
      ]
     },
     "execution_count": 36,
     "metadata": {},
     "output_type": "execute_result"
    }
   ],
   "source": [
    "soup.find('p').findPreviousSiblings()"
   ]
  },
  {
   "attachments": {},
   "cell_type": "markdown",
   "metadata": {},
   "source": [
    "### Next e Previous"
   ]
  },
  {
   "cell_type": "code",
   "execution_count": 37,
   "metadata": {},
   "outputs": [
    {
     "data": {
      "text/plain": [
       "<li>Grass</li>"
      ]
     },
     "execution_count": 37,
     "metadata": {},
     "output_type": "execute_result"
    }
   ],
   "source": [
    "soup.find('ul').findNext()"
   ]
  },
  {
   "cell_type": "code",
   "execution_count": 38,
   "metadata": {},
   "outputs": [
    {
     "data": {
      "text/plain": [
       "<h1>Bulbasaur</h1>"
      ]
     },
     "execution_count": 38,
     "metadata": {},
     "output_type": "execute_result"
    }
   ],
   "source": [
    "soup.find('ul').findPrevious()"
   ]
  },
  {
   "cell_type": "code",
   "execution_count": 39,
   "metadata": {},
   "outputs": [
    {
     "data": {
      "text/plain": [
       "[<h1>Bulbasaur</h1>,\n",
       " <ul><li>Grass</li><li>Poison</li></ul>,\n",
       " <li>Grass</li>,\n",
       " <li>Poison</li>,\n",
       " <p>Nº 0001</p>,\n",
       " <div class=\"pokemon_002\"><h1>Ivysaur</h1><ul><li>Grass</li><li>Poison</li></ul><p>Nº 0002</p></div>,\n",
       " <h1>Ivysaur</h1>,\n",
       " <ul><li>Grass</li><li>Poison</li></ul>,\n",
       " <li>Grass</li>,\n",
       " <li>Poison</li>,\n",
       " <p>Nº 0002</p>,\n",
       " <div class=\"pokemon_003\"><h1>Venusaur</h1><ul><li>Grass</li><li>Poison</li></ul><p>Nº 0003</p></div>,\n",
       " <h1>Venusaur</h1>,\n",
       " <ul><li>Grass</li><li>Poison</li></ul>,\n",
       " <li>Grass</li>,\n",
       " <li>Poison</li>,\n",
       " <p>Nº 0003</p>]"
      ]
     },
     "execution_count": 39,
     "metadata": {},
     "output_type": "execute_result"
    }
   ],
   "source": [
    "soup.find('div').findAllNext()"
   ]
  },
  {
   "cell_type": "code",
   "execution_count": 40,
   "metadata": {},
   "outputs": [
    {
     "data": {
      "text/plain": [
       "[<li>Poison</li>]"
      ]
     },
     "execution_count": 40,
     "metadata": {},
     "output_type": "execute_result"
    }
   ],
   "source": [
    "soup.find('li').findNextSiblings('li', limit=1)"
   ]
  },
  {
   "attachments": {},
   "cell_type": "markdown",
   "metadata": {},
   "source": [
    "# <font color=green>5. POKEDEX WEB SCRAPING"
   ]
  },
  {
   "attachments": {},
   "cell_type": "markdown",
   "metadata": {},
   "source": [
    "## 5.1. Identificando e selecionando os dados no HTML"
   ]
  },
  {
   "cell_type": "markdown",
   "metadata": {},
   "source": [
    "### Obtendo o HTML e criando o objeto BeautifulSoup"
   ]
  },
  {
   "cell_type": "code",
   "execution_count": 41,
   "metadata": {},
   "outputs": [],
   "source": [
    "response = urlopen('https://www.pokemon.com/br/pokedex/')\n",
    "html = response.read().decode('utf-8')\n",
    "soup = BeautifulSoup(html, 'html.parser')\n",
    "#soup"
   ]
  },
  {
   "cell_type": "markdown",
   "metadata": {},
   "source": [
    "### Criando variávels para armazenar informações"
   ]
  },
  {
   "cell_type": "code",
   "execution_count": 42,
   "metadata": {},
   "outputs": [],
   "source": [
    "pokemon_cards = []\n",
    "card = {}"
   ]
  },
  {
   "attachments": {},
   "cell_type": "markdown",
   "metadata": {},
   "source": [
    "### Criando dicionário com a listagem de pokemons"
   ]
  },
  {
   "cell_type": "code",
   "execution_count": 43,
   "metadata": {
    "scrolled": false
   },
   "outputs": [
    {
     "data": {
      "text/plain": [
       "{'pokemon_info_1': {'pokemon_id': '1', 'pokemon_name': 'Bulbasaur'},\n",
       " 'pokemon_info_2': {'pokemon_id': '2', 'pokemon_name': 'Ivysaur'},\n",
       " 'pokemon_info_3': {'pokemon_id': '3', 'pokemon_name': 'Venusaur'},\n",
       " 'pokemon_info_4': {'pokemon_id': '4', 'pokemon_name': 'Charmander'},\n",
       " 'pokemon_info_5': {'pokemon_id': '5', 'pokemon_name': 'Charmeleon'},\n",
       " 'pokemon_info_6': {'pokemon_id': '6', 'pokemon_name': 'Charizard'},\n",
       " 'pokemon_info_7': {'pokemon_id': '7', 'pokemon_name': 'Squirtle'},\n",
       " 'pokemon_info_8': {'pokemon_id': '8', 'pokemon_name': 'Wartortle'},\n",
       " 'pokemon_info_9': {'pokemon_id': '9', 'pokemon_name': 'Blastoise'},\n",
       " 'pokemon_info_10': {'pokemon_id': '10', 'pokemon_name': 'Caterpie'},\n",
       " 'pokemon_info_11': {'pokemon_id': '11', 'pokemon_name': 'Metapod'},\n",
       " 'pokemon_info_12': {'pokemon_id': '12', 'pokemon_name': 'Butterfree'},\n",
       " 'pokemon_info_13': {'pokemon_id': '13', 'pokemon_name': 'Weedle'},\n",
       " 'pokemon_info_14': {'pokemon_id': '14', 'pokemon_name': 'Kakuna'},\n",
       " 'pokemon_info_15': {'pokemon_id': '15', 'pokemon_name': 'Beedrill'},\n",
       " 'pokemon_info_16': {'pokemon_id': '16', 'pokemon_name': 'Pidgey'},\n",
       " 'pokemon_info_17': {'pokemon_id': '17', 'pokemon_name': 'Pidgeotto'},\n",
       " 'pokemon_info_18': {'pokemon_id': '18', 'pokemon_name': 'Pidgeot'},\n",
       " 'pokemon_info_19': {'pokemon_id': '19', 'pokemon_name': 'Rattata'},\n",
       " 'pokemon_info_20': {'pokemon_id': '20', 'pokemon_name': 'Raticate'},\n",
       " 'pokemon_info_21': {'pokemon_id': '21', 'pokemon_name': 'Spearow'},\n",
       " 'pokemon_info_22': {'pokemon_id': '22', 'pokemon_name': 'Fearow'},\n",
       " 'pokemon_info_23': {'pokemon_id': '23', 'pokemon_name': 'Ekans'},\n",
       " 'pokemon_info_24': {'pokemon_id': '24', 'pokemon_name': 'Arbok'},\n",
       " 'pokemon_info_25': {'pokemon_id': '25', 'pokemon_name': 'Pikachu'},\n",
       " 'pokemon_info_26': {'pokemon_id': '26', 'pokemon_name': 'Raichu'},\n",
       " 'pokemon_info_27': {'pokemon_id': '27', 'pokemon_name': 'Sandshrew'},\n",
       " 'pokemon_info_28': {'pokemon_id': '28', 'pokemon_name': 'Sandslash'},\n",
       " 'pokemon_info_29': {'pokemon_id': '29', 'pokemon_name': 'Nidoran♀'},\n",
       " 'pokemon_info_30': {'pokemon_id': '30', 'pokemon_name': 'Nidorina'},\n",
       " 'pokemon_info_31': {'pokemon_id': '31', 'pokemon_name': 'Nidoqueen'},\n",
       " 'pokemon_info_32': {'pokemon_id': '32', 'pokemon_name': 'Nidoran♂'},\n",
       " 'pokemon_info_33': {'pokemon_id': '33', 'pokemon_name': 'Nidorino'},\n",
       " 'pokemon_info_34': {'pokemon_id': '34', 'pokemon_name': 'Nidoking'},\n",
       " 'pokemon_info_35': {'pokemon_id': '35', 'pokemon_name': 'Clefairy'},\n",
       " 'pokemon_info_36': {'pokemon_id': '36', 'pokemon_name': 'Clefable'},\n",
       " 'pokemon_info_37': {'pokemon_id': '37', 'pokemon_name': 'Vulpix'},\n",
       " 'pokemon_info_38': {'pokemon_id': '38', 'pokemon_name': 'Ninetales'},\n",
       " 'pokemon_info_39': {'pokemon_id': '39', 'pokemon_name': 'Jigglypuff'},\n",
       " 'pokemon_info_40': {'pokemon_id': '40', 'pokemon_name': 'Wigglytuff'},\n",
       " 'pokemon_info_41': {'pokemon_id': '41', 'pokemon_name': 'Zubat'},\n",
       " 'pokemon_info_42': {'pokemon_id': '42', 'pokemon_name': 'Golbat'},\n",
       " 'pokemon_info_43': {'pokemon_id': '43', 'pokemon_name': 'Oddish'},\n",
       " 'pokemon_info_44': {'pokemon_id': '44', 'pokemon_name': 'Gloom'},\n",
       " 'pokemon_info_45': {'pokemon_id': '45', 'pokemon_name': 'Vileplume'},\n",
       " 'pokemon_info_46': {'pokemon_id': '46', 'pokemon_name': 'Paras'},\n",
       " 'pokemon_info_47': {'pokemon_id': '47', 'pokemon_name': 'Parasect'},\n",
       " 'pokemon_info_48': {'pokemon_id': '48', 'pokemon_name': 'Venonat'},\n",
       " 'pokemon_info_49': {'pokemon_id': '49', 'pokemon_name': 'Venomoth'},\n",
       " 'pokemon_info_50': {'pokemon_id': '50', 'pokemon_name': 'Diglett'},\n",
       " 'pokemon_info_51': {'pokemon_id': '51', 'pokemon_name': 'Dugtrio'},\n",
       " 'pokemon_info_52': {'pokemon_id': '52', 'pokemon_name': 'Meowth'},\n",
       " 'pokemon_info_53': {'pokemon_id': '53', 'pokemon_name': 'Persian'},\n",
       " 'pokemon_info_54': {'pokemon_id': '54', 'pokemon_name': 'Psyduck'},\n",
       " 'pokemon_info_55': {'pokemon_id': '55', 'pokemon_name': 'Golduck'},\n",
       " 'pokemon_info_56': {'pokemon_id': '56', 'pokemon_name': 'Mankey'},\n",
       " 'pokemon_info_57': {'pokemon_id': '57', 'pokemon_name': 'Primeape'},\n",
       " 'pokemon_info_58': {'pokemon_id': '58', 'pokemon_name': 'Growlithe'},\n",
       " 'pokemon_info_59': {'pokemon_id': '59', 'pokemon_name': 'Arcanine'},\n",
       " 'pokemon_info_60': {'pokemon_id': '60', 'pokemon_name': 'Poliwag'},\n",
       " 'pokemon_info_61': {'pokemon_id': '61', 'pokemon_name': 'Poliwhirl'},\n",
       " 'pokemon_info_62': {'pokemon_id': '62', 'pokemon_name': 'Poliwrath'},\n",
       " 'pokemon_info_63': {'pokemon_id': '63', 'pokemon_name': 'Abra'},\n",
       " 'pokemon_info_64': {'pokemon_id': '64', 'pokemon_name': 'Kadabra'},\n",
       " 'pokemon_info_65': {'pokemon_id': '65', 'pokemon_name': 'Alakazam'},\n",
       " 'pokemon_info_66': {'pokemon_id': '66', 'pokemon_name': 'Machop'},\n",
       " 'pokemon_info_67': {'pokemon_id': '67', 'pokemon_name': 'Machoke'},\n",
       " 'pokemon_info_68': {'pokemon_id': '68', 'pokemon_name': 'Machamp'},\n",
       " 'pokemon_info_69': {'pokemon_id': '69', 'pokemon_name': 'Bellsprout'},\n",
       " 'pokemon_info_70': {'pokemon_id': '70', 'pokemon_name': 'Weepinbell'},\n",
       " 'pokemon_info_71': {'pokemon_id': '71', 'pokemon_name': 'Victreebel'},\n",
       " 'pokemon_info_72': {'pokemon_id': '72', 'pokemon_name': 'Tentacool'},\n",
       " 'pokemon_info_73': {'pokemon_id': '73', 'pokemon_name': 'Tentacruel'},\n",
       " 'pokemon_info_74': {'pokemon_id': '74', 'pokemon_name': 'Geodude'},\n",
       " 'pokemon_info_75': {'pokemon_id': '75', 'pokemon_name': 'Graveler'},\n",
       " 'pokemon_info_76': {'pokemon_id': '76', 'pokemon_name': 'Golem'},\n",
       " 'pokemon_info_77': {'pokemon_id': '77', 'pokemon_name': 'Ponyta'},\n",
       " 'pokemon_info_78': {'pokemon_id': '78', 'pokemon_name': 'Rapidash'},\n",
       " 'pokemon_info_79': {'pokemon_id': '79', 'pokemon_name': 'Slowpoke'},\n",
       " 'pokemon_info_80': {'pokemon_id': '80', 'pokemon_name': 'Slowbro'},\n",
       " 'pokemon_info_81': {'pokemon_id': '81', 'pokemon_name': 'Magnemite'},\n",
       " 'pokemon_info_82': {'pokemon_id': '82', 'pokemon_name': 'Magneton'},\n",
       " 'pokemon_info_83': {'pokemon_id': '83', 'pokemon_name': 'Farfetch’d'},\n",
       " 'pokemon_info_84': {'pokemon_id': '84', 'pokemon_name': 'Doduo'},\n",
       " 'pokemon_info_85': {'pokemon_id': '85', 'pokemon_name': 'Dodrio'},\n",
       " 'pokemon_info_86': {'pokemon_id': '86', 'pokemon_name': 'Seel'},\n",
       " 'pokemon_info_87': {'pokemon_id': '87', 'pokemon_name': 'Dewgong'},\n",
       " 'pokemon_info_88': {'pokemon_id': '88', 'pokemon_name': 'Grimer'},\n",
       " 'pokemon_info_89': {'pokemon_id': '89', 'pokemon_name': 'Muk'},\n",
       " 'pokemon_info_90': {'pokemon_id': '90', 'pokemon_name': 'Shellder'},\n",
       " 'pokemon_info_91': {'pokemon_id': '91', 'pokemon_name': 'Cloyster'},\n",
       " 'pokemon_info_92': {'pokemon_id': '92', 'pokemon_name': 'Gastly'},\n",
       " 'pokemon_info_93': {'pokemon_id': '93', 'pokemon_name': 'Haunter'},\n",
       " 'pokemon_info_94': {'pokemon_id': '94', 'pokemon_name': 'Gengar'},\n",
       " 'pokemon_info_95': {'pokemon_id': '95', 'pokemon_name': 'Onix'},\n",
       " 'pokemon_info_96': {'pokemon_id': '96', 'pokemon_name': 'Drowzee'},\n",
       " 'pokemon_info_97': {'pokemon_id': '97', 'pokemon_name': 'Hypno'},\n",
       " 'pokemon_info_98': {'pokemon_id': '98', 'pokemon_name': 'Krabby'},\n",
       " 'pokemon_info_99': {'pokemon_id': '99', 'pokemon_name': 'Kingler'},\n",
       " 'pokemon_info_100': {'pokemon_id': '100', 'pokemon_name': 'Voltorb'},\n",
       " 'pokemon_info_101': {'pokemon_id': '101', 'pokemon_name': 'Electrode'},\n",
       " 'pokemon_info_102': {'pokemon_id': '102', 'pokemon_name': 'Exeggcute'},\n",
       " 'pokemon_info_103': {'pokemon_id': '103', 'pokemon_name': 'Exeggutor'},\n",
       " 'pokemon_info_104': {'pokemon_id': '104', 'pokemon_name': 'Cubone'},\n",
       " 'pokemon_info_105': {'pokemon_id': '105', 'pokemon_name': 'Marowak'},\n",
       " 'pokemon_info_106': {'pokemon_id': '106', 'pokemon_name': 'Hitmonlee'},\n",
       " 'pokemon_info_107': {'pokemon_id': '107', 'pokemon_name': 'Hitmonchan'},\n",
       " 'pokemon_info_108': {'pokemon_id': '108', 'pokemon_name': 'Lickitung'},\n",
       " 'pokemon_info_109': {'pokemon_id': '109', 'pokemon_name': 'Koffing'},\n",
       " 'pokemon_info_110': {'pokemon_id': '110', 'pokemon_name': 'Weezing'},\n",
       " 'pokemon_info_111': {'pokemon_id': '111', 'pokemon_name': 'Rhyhorn'},\n",
       " 'pokemon_info_112': {'pokemon_id': '112', 'pokemon_name': 'Rhydon'},\n",
       " 'pokemon_info_113': {'pokemon_id': '113', 'pokemon_name': 'Chansey'},\n",
       " 'pokemon_info_114': {'pokemon_id': '114', 'pokemon_name': 'Tangela'},\n",
       " 'pokemon_info_115': {'pokemon_id': '115', 'pokemon_name': 'Kangaskhan'},\n",
       " 'pokemon_info_116': {'pokemon_id': '116', 'pokemon_name': 'Horsea'},\n",
       " 'pokemon_info_117': {'pokemon_id': '117', 'pokemon_name': 'Seadra'},\n",
       " 'pokemon_info_118': {'pokemon_id': '118', 'pokemon_name': 'Goldeen'},\n",
       " 'pokemon_info_119': {'pokemon_id': '119', 'pokemon_name': 'Seaking'},\n",
       " 'pokemon_info_120': {'pokemon_id': '120', 'pokemon_name': 'Staryu'},\n",
       " 'pokemon_info_121': {'pokemon_id': '121', 'pokemon_name': 'Starmie'},\n",
       " 'pokemon_info_122': {'pokemon_id': '122', 'pokemon_name': 'Mr.Mime'},\n",
       " 'pokemon_info_123': {'pokemon_id': '123', 'pokemon_name': 'Scyther'},\n",
       " 'pokemon_info_124': {'pokemon_id': '124', 'pokemon_name': 'Jynx'},\n",
       " 'pokemon_info_125': {'pokemon_id': '125', 'pokemon_name': 'Electabuzz'},\n",
       " 'pokemon_info_126': {'pokemon_id': '126', 'pokemon_name': 'Magmar'},\n",
       " 'pokemon_info_127': {'pokemon_id': '127', 'pokemon_name': 'Pinsir'},\n",
       " 'pokemon_info_128': {'pokemon_id': '128', 'pokemon_name': 'Tauros'},\n",
       " 'pokemon_info_129': {'pokemon_id': '129', 'pokemon_name': 'Magikarp'},\n",
       " 'pokemon_info_130': {'pokemon_id': '130', 'pokemon_name': 'Gyarados'},\n",
       " 'pokemon_info_131': {'pokemon_id': '131', 'pokemon_name': 'Lapras'},\n",
       " 'pokemon_info_132': {'pokemon_id': '132', 'pokemon_name': 'Ditto'},\n",
       " 'pokemon_info_133': {'pokemon_id': '133', 'pokemon_name': 'Eevee'},\n",
       " 'pokemon_info_134': {'pokemon_id': '134', 'pokemon_name': 'Vaporeon'},\n",
       " 'pokemon_info_135': {'pokemon_id': '135', 'pokemon_name': 'Jolteon'},\n",
       " 'pokemon_info_136': {'pokemon_id': '136', 'pokemon_name': 'Flareon'},\n",
       " 'pokemon_info_137': {'pokemon_id': '137', 'pokemon_name': 'Porygon'},\n",
       " 'pokemon_info_138': {'pokemon_id': '138', 'pokemon_name': 'Omanyte'},\n",
       " 'pokemon_info_139': {'pokemon_id': '139', 'pokemon_name': 'Omastar'},\n",
       " 'pokemon_info_140': {'pokemon_id': '140', 'pokemon_name': 'Kabuto'},\n",
       " 'pokemon_info_141': {'pokemon_id': '141', 'pokemon_name': 'Kabutops'},\n",
       " 'pokemon_info_142': {'pokemon_id': '142', 'pokemon_name': 'Aerodactyl'},\n",
       " 'pokemon_info_143': {'pokemon_id': '143', 'pokemon_name': 'Snorlax'},\n",
       " 'pokemon_info_144': {'pokemon_id': '144', 'pokemon_name': 'Articuno'},\n",
       " 'pokemon_info_145': {'pokemon_id': '145', 'pokemon_name': 'Zapdos'},\n",
       " 'pokemon_info_146': {'pokemon_id': '146', 'pokemon_name': 'Moltres'},\n",
       " 'pokemon_info_147': {'pokemon_id': '147', 'pokemon_name': 'Dratini'},\n",
       " 'pokemon_info_148': {'pokemon_id': '148', 'pokemon_name': 'Dragonair'},\n",
       " 'pokemon_info_149': {'pokemon_id': '149', 'pokemon_name': 'Dragonite'},\n",
       " 'pokemon_info_150': {'pokemon_id': '150', 'pokemon_name': 'Mewtwo'},\n",
       " 'pokemon_info_151': {'pokemon_id': '151', 'pokemon_name': 'Mew'},\n",
       " 'pokemon_info_152': {'pokemon_id': '152', 'pokemon_name': 'Chikorita'},\n",
       " 'pokemon_info_153': {'pokemon_id': '153', 'pokemon_name': 'Bayleef'},\n",
       " 'pokemon_info_154': {'pokemon_id': '154', 'pokemon_name': 'Meganium'},\n",
       " 'pokemon_info_155': {'pokemon_id': '155', 'pokemon_name': 'Cyndaquil'},\n",
       " 'pokemon_info_156': {'pokemon_id': '156', 'pokemon_name': 'Quilava'},\n",
       " 'pokemon_info_157': {'pokemon_id': '157', 'pokemon_name': 'Typhlosion'},\n",
       " 'pokemon_info_158': {'pokemon_id': '158', 'pokemon_name': 'Totodile'},\n",
       " 'pokemon_info_159': {'pokemon_id': '159', 'pokemon_name': 'Croconaw'},\n",
       " 'pokemon_info_160': {'pokemon_id': '160', 'pokemon_name': 'Feraligatr'},\n",
       " 'pokemon_info_161': {'pokemon_id': '161', 'pokemon_name': 'Sentret'},\n",
       " 'pokemon_info_162': {'pokemon_id': '162', 'pokemon_name': 'Furret'},\n",
       " 'pokemon_info_163': {'pokemon_id': '163', 'pokemon_name': 'Hoothoot'},\n",
       " 'pokemon_info_164': {'pokemon_id': '164', 'pokemon_name': 'Noctowl'},\n",
       " 'pokemon_info_165': {'pokemon_id': '165', 'pokemon_name': 'Ledyba'},\n",
       " 'pokemon_info_166': {'pokemon_id': '166', 'pokemon_name': 'Ledian'},\n",
       " 'pokemon_info_167': {'pokemon_id': '167', 'pokemon_name': 'Spinarak'},\n",
       " 'pokemon_info_168': {'pokemon_id': '168', 'pokemon_name': 'Ariados'},\n",
       " 'pokemon_info_169': {'pokemon_id': '169', 'pokemon_name': 'Crobat'},\n",
       " 'pokemon_info_170': {'pokemon_id': '170', 'pokemon_name': 'Chinchou'},\n",
       " 'pokemon_info_171': {'pokemon_id': '171', 'pokemon_name': 'Lanturn'},\n",
       " 'pokemon_info_172': {'pokemon_id': '172', 'pokemon_name': 'Pichu'},\n",
       " 'pokemon_info_173': {'pokemon_id': '173', 'pokemon_name': 'Cleffa'},\n",
       " 'pokemon_info_174': {'pokemon_id': '174', 'pokemon_name': 'Igglybuff'},\n",
       " 'pokemon_info_175': {'pokemon_id': '175', 'pokemon_name': 'Togepi'},\n",
       " 'pokemon_info_176': {'pokemon_id': '176', 'pokemon_name': 'Togetic'},\n",
       " 'pokemon_info_177': {'pokemon_id': '177', 'pokemon_name': 'Natu'},\n",
       " 'pokemon_info_178': {'pokemon_id': '178', 'pokemon_name': 'Xatu'},\n",
       " 'pokemon_info_179': {'pokemon_id': '179', 'pokemon_name': 'Mareep'},\n",
       " 'pokemon_info_180': {'pokemon_id': '180', 'pokemon_name': 'Flaaffy'},\n",
       " 'pokemon_info_181': {'pokemon_id': '181', 'pokemon_name': 'Ampharos'},\n",
       " 'pokemon_info_182': {'pokemon_id': '182', 'pokemon_name': 'Bellossom'},\n",
       " 'pokemon_info_183': {'pokemon_id': '183', 'pokemon_name': 'Marill'},\n",
       " 'pokemon_info_184': {'pokemon_id': '184', 'pokemon_name': 'Azumarill'},\n",
       " 'pokemon_info_185': {'pokemon_id': '185', 'pokemon_name': 'Sudowoodo'},\n",
       " 'pokemon_info_186': {'pokemon_id': '186', 'pokemon_name': 'Politoed'},\n",
       " 'pokemon_info_187': {'pokemon_id': '187', 'pokemon_name': 'Hoppip'},\n",
       " 'pokemon_info_188': {'pokemon_id': '188', 'pokemon_name': 'Skiploom'},\n",
       " 'pokemon_info_189': {'pokemon_id': '189', 'pokemon_name': 'Jumpluff'},\n",
       " 'pokemon_info_190': {'pokemon_id': '190', 'pokemon_name': 'Aipom'},\n",
       " 'pokemon_info_191': {'pokemon_id': '191', 'pokemon_name': 'Sunkern'},\n",
       " 'pokemon_info_192': {'pokemon_id': '192', 'pokemon_name': 'Sunflora'},\n",
       " 'pokemon_info_193': {'pokemon_id': '193', 'pokemon_name': 'Yanma'},\n",
       " 'pokemon_info_194': {'pokemon_id': '194', 'pokemon_name': 'Wooper'},\n",
       " 'pokemon_info_195': {'pokemon_id': '195', 'pokemon_name': 'Quagsire'},\n",
       " 'pokemon_info_196': {'pokemon_id': '196', 'pokemon_name': 'Espeon'},\n",
       " 'pokemon_info_197': {'pokemon_id': '197', 'pokemon_name': 'Umbreon'},\n",
       " 'pokemon_info_198': {'pokemon_id': '198', 'pokemon_name': 'Murkrow'},\n",
       " 'pokemon_info_199': {'pokemon_id': '199', 'pokemon_name': 'Slowking'},\n",
       " 'pokemon_info_200': {'pokemon_id': '200', 'pokemon_name': 'Misdreavus'},\n",
       " 'pokemon_info_201': {'pokemon_id': '201', 'pokemon_name': 'Unown'},\n",
       " 'pokemon_info_202': {'pokemon_id': '202', 'pokemon_name': 'Wobbuffet'},\n",
       " 'pokemon_info_203': {'pokemon_id': '203', 'pokemon_name': 'Girafarig'},\n",
       " 'pokemon_info_204': {'pokemon_id': '204', 'pokemon_name': 'Pineco'},\n",
       " 'pokemon_info_205': {'pokemon_id': '205', 'pokemon_name': 'Forretress'},\n",
       " 'pokemon_info_206': {'pokemon_id': '206', 'pokemon_name': 'Dunsparce'},\n",
       " 'pokemon_info_207': {'pokemon_id': '207', 'pokemon_name': 'Gligar'},\n",
       " 'pokemon_info_208': {'pokemon_id': '208', 'pokemon_name': 'Steelix'},\n",
       " 'pokemon_info_209': {'pokemon_id': '209', 'pokemon_name': 'Snubbull'},\n",
       " 'pokemon_info_210': {'pokemon_id': '210', 'pokemon_name': 'Granbull'},\n",
       " 'pokemon_info_211': {'pokemon_id': '211', 'pokemon_name': 'Qwilfish'},\n",
       " 'pokemon_info_212': {'pokemon_id': '212', 'pokemon_name': 'Scizor'},\n",
       " 'pokemon_info_213': {'pokemon_id': '213', 'pokemon_name': 'Shuckle'},\n",
       " 'pokemon_info_214': {'pokemon_id': '214', 'pokemon_name': 'Heracross'},\n",
       " 'pokemon_info_215': {'pokemon_id': '215', 'pokemon_name': 'Sneasel'},\n",
       " 'pokemon_info_216': {'pokemon_id': '216', 'pokemon_name': 'Teddiursa'},\n",
       " 'pokemon_info_217': {'pokemon_id': '217', 'pokemon_name': 'Ursaring'},\n",
       " 'pokemon_info_218': {'pokemon_id': '218', 'pokemon_name': 'Slugma'},\n",
       " 'pokemon_info_219': {'pokemon_id': '219', 'pokemon_name': 'Magcargo'},\n",
       " 'pokemon_info_220': {'pokemon_id': '220', 'pokemon_name': 'Swinub'},\n",
       " 'pokemon_info_221': {'pokemon_id': '221', 'pokemon_name': 'Piloswine'},\n",
       " 'pokemon_info_222': {'pokemon_id': '222', 'pokemon_name': 'Corsola'},\n",
       " 'pokemon_info_223': {'pokemon_id': '223', 'pokemon_name': 'Remoraid'},\n",
       " 'pokemon_info_224': {'pokemon_id': '224', 'pokemon_name': 'Octillery'},\n",
       " 'pokemon_info_225': {'pokemon_id': '225', 'pokemon_name': 'Delibird'},\n",
       " 'pokemon_info_226': {'pokemon_id': '226', 'pokemon_name': 'Mantine'},\n",
       " 'pokemon_info_227': {'pokemon_id': '227', 'pokemon_name': 'Skarmory'},\n",
       " 'pokemon_info_228': {'pokemon_id': '228', 'pokemon_name': 'Houndour'},\n",
       " 'pokemon_info_229': {'pokemon_id': '229', 'pokemon_name': 'Houndoom'},\n",
       " 'pokemon_info_230': {'pokemon_id': '230', 'pokemon_name': 'Kingdra'},\n",
       " 'pokemon_info_231': {'pokemon_id': '231', 'pokemon_name': 'Phanpy'},\n",
       " 'pokemon_info_232': {'pokemon_id': '232', 'pokemon_name': 'Donphan'},\n",
       " 'pokemon_info_233': {'pokemon_id': '233', 'pokemon_name': 'Porygon2'},\n",
       " 'pokemon_info_234': {'pokemon_id': '234', 'pokemon_name': 'Stantler'},\n",
       " 'pokemon_info_235': {'pokemon_id': '235', 'pokemon_name': 'Smeargle'},\n",
       " 'pokemon_info_236': {'pokemon_id': '236', 'pokemon_name': 'Tyrogue'},\n",
       " 'pokemon_info_237': {'pokemon_id': '237', 'pokemon_name': 'Hitmontop'},\n",
       " 'pokemon_info_238': {'pokemon_id': '238', 'pokemon_name': 'Smoochum'},\n",
       " 'pokemon_info_239': {'pokemon_id': '239', 'pokemon_name': 'Elekid'},\n",
       " 'pokemon_info_240': {'pokemon_id': '240', 'pokemon_name': 'Magby'},\n",
       " 'pokemon_info_241': {'pokemon_id': '241', 'pokemon_name': 'Miltank'},\n",
       " 'pokemon_info_242': {'pokemon_id': '242', 'pokemon_name': 'Blissey'},\n",
       " 'pokemon_info_243': {'pokemon_id': '243', 'pokemon_name': 'Raikou'},\n",
       " 'pokemon_info_244': {'pokemon_id': '244', 'pokemon_name': 'Entei'},\n",
       " 'pokemon_info_245': {'pokemon_id': '245', 'pokemon_name': 'Suicune'},\n",
       " 'pokemon_info_246': {'pokemon_id': '246', 'pokemon_name': 'Larvitar'},\n",
       " 'pokemon_info_247': {'pokemon_id': '247', 'pokemon_name': 'Pupitar'},\n",
       " 'pokemon_info_248': {'pokemon_id': '248', 'pokemon_name': 'Tyranitar'},\n",
       " 'pokemon_info_249': {'pokemon_id': '249', 'pokemon_name': 'Lugia'},\n",
       " 'pokemon_info_250': {'pokemon_id': '250', 'pokemon_name': 'Ho'},\n",
       " 'pokemon_info_251': {'pokemon_id': '251', 'pokemon_name': 'Celebi'},\n",
       " 'pokemon_info_252': {'pokemon_id': '252', 'pokemon_name': 'Treecko'},\n",
       " 'pokemon_info_253': {'pokemon_id': '253', 'pokemon_name': 'Grovyle'},\n",
       " 'pokemon_info_254': {'pokemon_id': '254', 'pokemon_name': 'Sceptile'},\n",
       " 'pokemon_info_255': {'pokemon_id': '255', 'pokemon_name': 'Torchic'},\n",
       " 'pokemon_info_256': {'pokemon_id': '256', 'pokemon_name': 'Combusken'},\n",
       " 'pokemon_info_257': {'pokemon_id': '257', 'pokemon_name': 'Blaziken'},\n",
       " 'pokemon_info_258': {'pokemon_id': '258', 'pokemon_name': 'Mudkip'},\n",
       " 'pokemon_info_259': {'pokemon_id': '259', 'pokemon_name': 'Marshtomp'},\n",
       " 'pokemon_info_260': {'pokemon_id': '260', 'pokemon_name': 'Swampert'},\n",
       " 'pokemon_info_261': {'pokemon_id': '261', 'pokemon_name': 'Poochyena'},\n",
       " 'pokemon_info_262': {'pokemon_id': '262', 'pokemon_name': 'Mightyena'},\n",
       " 'pokemon_info_263': {'pokemon_id': '263', 'pokemon_name': 'Zigzagoon'},\n",
       " 'pokemon_info_264': {'pokemon_id': '264', 'pokemon_name': 'Linoone'},\n",
       " 'pokemon_info_265': {'pokemon_id': '265', 'pokemon_name': 'Wurmple'},\n",
       " 'pokemon_info_266': {'pokemon_id': '266', 'pokemon_name': 'Silcoon'},\n",
       " 'pokemon_info_267': {'pokemon_id': '267', 'pokemon_name': 'Beautifly'},\n",
       " 'pokemon_info_268': {'pokemon_id': '268', 'pokemon_name': 'Cascoon'},\n",
       " 'pokemon_info_269': {'pokemon_id': '269', 'pokemon_name': 'Dustox'},\n",
       " 'pokemon_info_270': {'pokemon_id': '270', 'pokemon_name': 'Lotad'},\n",
       " 'pokemon_info_271': {'pokemon_id': '271', 'pokemon_name': 'Lombre'},\n",
       " 'pokemon_info_272': {'pokemon_id': '272', 'pokemon_name': 'Ludicolo'},\n",
       " 'pokemon_info_273': {'pokemon_id': '273', 'pokemon_name': 'Seedot'},\n",
       " 'pokemon_info_274': {'pokemon_id': '274', 'pokemon_name': 'Nuzleaf'},\n",
       " 'pokemon_info_275': {'pokemon_id': '275', 'pokemon_name': 'Shiftry'},\n",
       " 'pokemon_info_276': {'pokemon_id': '276', 'pokemon_name': 'Taillow'},\n",
       " 'pokemon_info_277': {'pokemon_id': '277', 'pokemon_name': 'Swellow'},\n",
       " 'pokemon_info_278': {'pokemon_id': '278', 'pokemon_name': 'Wingull'},\n",
       " 'pokemon_info_279': {'pokemon_id': '279', 'pokemon_name': 'Pelipper'},\n",
       " 'pokemon_info_280': {'pokemon_id': '280', 'pokemon_name': 'Ralts'},\n",
       " 'pokemon_info_281': {'pokemon_id': '281', 'pokemon_name': 'Kirlia'},\n",
       " 'pokemon_info_282': {'pokemon_id': '282', 'pokemon_name': 'Gardevoir'},\n",
       " 'pokemon_info_283': {'pokemon_id': '283', 'pokemon_name': 'Surskit'},\n",
       " 'pokemon_info_284': {'pokemon_id': '284', 'pokemon_name': 'Masquerain'},\n",
       " 'pokemon_info_285': {'pokemon_id': '285', 'pokemon_name': 'Shroomish'},\n",
       " 'pokemon_info_286': {'pokemon_id': '286', 'pokemon_name': 'Breloom'},\n",
       " 'pokemon_info_287': {'pokemon_id': '287', 'pokemon_name': 'Slakoth'},\n",
       " 'pokemon_info_288': {'pokemon_id': '288', 'pokemon_name': 'Vigoroth'},\n",
       " 'pokemon_info_289': {'pokemon_id': '289', 'pokemon_name': 'Slaking'},\n",
       " 'pokemon_info_290': {'pokemon_id': '290', 'pokemon_name': 'Nincada'},\n",
       " 'pokemon_info_291': {'pokemon_id': '291', 'pokemon_name': 'Ninjask'},\n",
       " 'pokemon_info_292': {'pokemon_id': '292', 'pokemon_name': 'Shedinja'},\n",
       " 'pokemon_info_293': {'pokemon_id': '293', 'pokemon_name': 'Whismur'},\n",
       " 'pokemon_info_294': {'pokemon_id': '294', 'pokemon_name': 'Loudred'},\n",
       " 'pokemon_info_295': {'pokemon_id': '295', 'pokemon_name': 'Exploud'},\n",
       " 'pokemon_info_296': {'pokemon_id': '296', 'pokemon_name': 'Makuhita'},\n",
       " 'pokemon_info_297': {'pokemon_id': '297', 'pokemon_name': 'Hariyama'},\n",
       " 'pokemon_info_298': {'pokemon_id': '298', 'pokemon_name': 'Azurill'},\n",
       " 'pokemon_info_299': {'pokemon_id': '299', 'pokemon_name': 'Nosepass'},\n",
       " 'pokemon_info_300': {'pokemon_id': '300', 'pokemon_name': 'Skitty'},\n",
       " 'pokemon_info_301': {'pokemon_id': '301', 'pokemon_name': 'Delcatty'},\n",
       " 'pokemon_info_302': {'pokemon_id': '302', 'pokemon_name': 'Sableye'},\n",
       " 'pokemon_info_303': {'pokemon_id': '303', 'pokemon_name': 'Mawile'},\n",
       " 'pokemon_info_304': {'pokemon_id': '304', 'pokemon_name': 'Aron'},\n",
       " 'pokemon_info_305': {'pokemon_id': '305', 'pokemon_name': 'Lairon'},\n",
       " 'pokemon_info_306': {'pokemon_id': '306', 'pokemon_name': 'Aggron'},\n",
       " 'pokemon_info_307': {'pokemon_id': '307', 'pokemon_name': 'Meditite'},\n",
       " 'pokemon_info_308': {'pokemon_id': '308', 'pokemon_name': 'Medicham'},\n",
       " 'pokemon_info_309': {'pokemon_id': '309', 'pokemon_name': 'Electrike'},\n",
       " 'pokemon_info_310': {'pokemon_id': '310', 'pokemon_name': 'Manectric'},\n",
       " 'pokemon_info_311': {'pokemon_id': '311', 'pokemon_name': 'Plusle'},\n",
       " 'pokemon_info_312': {'pokemon_id': '312', 'pokemon_name': 'Minun'},\n",
       " 'pokemon_info_313': {'pokemon_id': '313', 'pokemon_name': 'Volbeat'},\n",
       " 'pokemon_info_314': {'pokemon_id': '314', 'pokemon_name': 'Illumise'},\n",
       " 'pokemon_info_315': {'pokemon_id': '315', 'pokemon_name': 'Roselia'},\n",
       " 'pokemon_info_316': {'pokemon_id': '316', 'pokemon_name': 'Gulpin'},\n",
       " 'pokemon_info_317': {'pokemon_id': '317', 'pokemon_name': 'Swalot'},\n",
       " 'pokemon_info_318': {'pokemon_id': '318', 'pokemon_name': 'Carvanha'},\n",
       " 'pokemon_info_319': {'pokemon_id': '319', 'pokemon_name': 'Sharpedo'},\n",
       " 'pokemon_info_320': {'pokemon_id': '320', 'pokemon_name': 'Wailmer'},\n",
       " 'pokemon_info_321': {'pokemon_id': '321', 'pokemon_name': 'Wailord'},\n",
       " 'pokemon_info_322': {'pokemon_id': '322', 'pokemon_name': 'Numel'},\n",
       " 'pokemon_info_323': {'pokemon_id': '323', 'pokemon_name': 'Camerupt'},\n",
       " 'pokemon_info_324': {'pokemon_id': '324', 'pokemon_name': 'Torkoal'},\n",
       " 'pokemon_info_325': {'pokemon_id': '325', 'pokemon_name': 'Spoink'},\n",
       " 'pokemon_info_326': {'pokemon_id': '326', 'pokemon_name': 'Grumpig'},\n",
       " 'pokemon_info_327': {'pokemon_id': '327', 'pokemon_name': 'Spinda'},\n",
       " 'pokemon_info_328': {'pokemon_id': '328', 'pokemon_name': 'Trapinch'},\n",
       " 'pokemon_info_329': {'pokemon_id': '329', 'pokemon_name': 'Vibrava'},\n",
       " 'pokemon_info_330': {'pokemon_id': '330', 'pokemon_name': 'Flygon'},\n",
       " 'pokemon_info_331': {'pokemon_id': '331', 'pokemon_name': 'Cacnea'},\n",
       " 'pokemon_info_332': {'pokemon_id': '332', 'pokemon_name': 'Cacturne'},\n",
       " 'pokemon_info_333': {'pokemon_id': '333', 'pokemon_name': 'Swablu'},\n",
       " 'pokemon_info_334': {'pokemon_id': '334', 'pokemon_name': 'Altaria'},\n",
       " 'pokemon_info_335': {'pokemon_id': '335', 'pokemon_name': 'Zangoose'},\n",
       " 'pokemon_info_336': {'pokemon_id': '336', 'pokemon_name': 'Seviper'},\n",
       " 'pokemon_info_337': {'pokemon_id': '337', 'pokemon_name': 'Lunatone'},\n",
       " 'pokemon_info_338': {'pokemon_id': '338', 'pokemon_name': 'Solrock'},\n",
       " 'pokemon_info_339': {'pokemon_id': '339', 'pokemon_name': 'Barboach'},\n",
       " 'pokemon_info_340': {'pokemon_id': '340', 'pokemon_name': 'Whiscash'},\n",
       " 'pokemon_info_341': {'pokemon_id': '341', 'pokemon_name': 'Corphish'},\n",
       " 'pokemon_info_342': {'pokemon_id': '342', 'pokemon_name': 'Crawdaunt'},\n",
       " 'pokemon_info_343': {'pokemon_id': '343', 'pokemon_name': 'Baltoy'},\n",
       " 'pokemon_info_344': {'pokemon_id': '344', 'pokemon_name': 'Claydol'},\n",
       " 'pokemon_info_345': {'pokemon_id': '345', 'pokemon_name': 'Lileep'},\n",
       " 'pokemon_info_346': {'pokemon_id': '346', 'pokemon_name': 'Cradily'},\n",
       " 'pokemon_info_347': {'pokemon_id': '347', 'pokemon_name': 'Anorith'},\n",
       " 'pokemon_info_348': {'pokemon_id': '348', 'pokemon_name': 'Armaldo'},\n",
       " 'pokemon_info_349': {'pokemon_id': '349', 'pokemon_name': 'Feebas'},\n",
       " 'pokemon_info_350': {'pokemon_id': '350', 'pokemon_name': 'Milotic'},\n",
       " 'pokemon_info_351': {'pokemon_id': '351', 'pokemon_name': 'Castform'},\n",
       " 'pokemon_info_352': {'pokemon_id': '352', 'pokemon_name': 'Kecleon'},\n",
       " 'pokemon_info_353': {'pokemon_id': '353', 'pokemon_name': 'Shuppet'},\n",
       " 'pokemon_info_354': {'pokemon_id': '354', 'pokemon_name': 'Banette'},\n",
       " 'pokemon_info_355': {'pokemon_id': '355', 'pokemon_name': 'Duskull'},\n",
       " 'pokemon_info_356': {'pokemon_id': '356', 'pokemon_name': 'Dusclops'},\n",
       " 'pokemon_info_357': {'pokemon_id': '357', 'pokemon_name': 'Tropius'},\n",
       " 'pokemon_info_358': {'pokemon_id': '358', 'pokemon_name': 'Chimecho'},\n",
       " 'pokemon_info_359': {'pokemon_id': '359', 'pokemon_name': 'Absol'},\n",
       " 'pokemon_info_360': {'pokemon_id': '360', 'pokemon_name': 'Wynaut'},\n",
       " 'pokemon_info_361': {'pokemon_id': '361', 'pokemon_name': 'Snorunt'},\n",
       " 'pokemon_info_362': {'pokemon_id': '362', 'pokemon_name': 'Glalie'},\n",
       " 'pokemon_info_363': {'pokemon_id': '363', 'pokemon_name': 'Spheal'},\n",
       " 'pokemon_info_364': {'pokemon_id': '364', 'pokemon_name': 'Sealeo'},\n",
       " 'pokemon_info_365': {'pokemon_id': '365', 'pokemon_name': 'Walrein'},\n",
       " 'pokemon_info_366': {'pokemon_id': '366', 'pokemon_name': 'Clamperl'},\n",
       " 'pokemon_info_367': {'pokemon_id': '367', 'pokemon_name': 'Huntail'},\n",
       " 'pokemon_info_368': {'pokemon_id': '368', 'pokemon_name': 'Gorebyss'},\n",
       " 'pokemon_info_369': {'pokemon_id': '369', 'pokemon_name': 'Relicanth'},\n",
       " 'pokemon_info_370': {'pokemon_id': '370', 'pokemon_name': 'Luvdisc'},\n",
       " 'pokemon_info_371': {'pokemon_id': '371', 'pokemon_name': 'Bagon'},\n",
       " 'pokemon_info_372': {'pokemon_id': '372', 'pokemon_name': 'Shelgon'},\n",
       " 'pokemon_info_373': {'pokemon_id': '373', 'pokemon_name': 'Salamence'},\n",
       " 'pokemon_info_374': {'pokemon_id': '374', 'pokemon_name': 'Beldum'},\n",
       " 'pokemon_info_375': {'pokemon_id': '375', 'pokemon_name': 'Metang'},\n",
       " 'pokemon_info_376': {'pokemon_id': '376', 'pokemon_name': 'Metagross'},\n",
       " 'pokemon_info_377': {'pokemon_id': '377', 'pokemon_name': 'Regirock'},\n",
       " 'pokemon_info_378': {'pokemon_id': '378', 'pokemon_name': 'Regice'},\n",
       " 'pokemon_info_379': {'pokemon_id': '379', 'pokemon_name': 'Registeel'},\n",
       " 'pokemon_info_380': {'pokemon_id': '380', 'pokemon_name': 'Latias'},\n",
       " 'pokemon_info_381': {'pokemon_id': '381', 'pokemon_name': 'Latios'},\n",
       " 'pokemon_info_382': {'pokemon_id': '382', 'pokemon_name': 'Kyogre'},\n",
       " 'pokemon_info_383': {'pokemon_id': '383', 'pokemon_name': 'Groudon'},\n",
       " 'pokemon_info_384': {'pokemon_id': '384', 'pokemon_name': 'Rayquaza'},\n",
       " 'pokemon_info_385': {'pokemon_id': '385', 'pokemon_name': 'Jirachi'},\n",
       " 'pokemon_info_386': {'pokemon_id': '386', 'pokemon_name': 'Deoxys'},\n",
       " 'pokemon_info_387': {'pokemon_id': '387', 'pokemon_name': 'Turtwig'},\n",
       " 'pokemon_info_388': {'pokemon_id': '388', 'pokemon_name': 'Grotle'},\n",
       " 'pokemon_info_389': {'pokemon_id': '389', 'pokemon_name': 'Torterra'},\n",
       " 'pokemon_info_390': {'pokemon_id': '390', 'pokemon_name': 'Chimchar'},\n",
       " 'pokemon_info_391': {'pokemon_id': '391', 'pokemon_name': 'Monferno'},\n",
       " 'pokemon_info_392': {'pokemon_id': '392', 'pokemon_name': 'Infernape'},\n",
       " 'pokemon_info_393': {'pokemon_id': '393', 'pokemon_name': 'Piplup'},\n",
       " 'pokemon_info_394': {'pokemon_id': '394', 'pokemon_name': 'Prinplup'},\n",
       " 'pokemon_info_395': {'pokemon_id': '395', 'pokemon_name': 'Empoleon'},\n",
       " 'pokemon_info_396': {'pokemon_id': '396', 'pokemon_name': 'Starly'},\n",
       " 'pokemon_info_397': {'pokemon_id': '397', 'pokemon_name': 'Staravia'},\n",
       " 'pokemon_info_398': {'pokemon_id': '398', 'pokemon_name': 'Staraptor'},\n",
       " 'pokemon_info_399': {'pokemon_id': '399', 'pokemon_name': 'Bidoof'},\n",
       " 'pokemon_info_400': {'pokemon_id': '400', 'pokemon_name': 'Bibarel'},\n",
       " 'pokemon_info_401': {'pokemon_id': '401', 'pokemon_name': 'Kricketot'},\n",
       " 'pokemon_info_402': {'pokemon_id': '402', 'pokemon_name': 'Kricketune'},\n",
       " 'pokemon_info_403': {'pokemon_id': '403', 'pokemon_name': 'Shinx'},\n",
       " 'pokemon_info_404': {'pokemon_id': '404', 'pokemon_name': 'Luxio'},\n",
       " 'pokemon_info_405': {'pokemon_id': '405', 'pokemon_name': 'Luxray'},\n",
       " 'pokemon_info_406': {'pokemon_id': '406', 'pokemon_name': 'Budew'},\n",
       " 'pokemon_info_407': {'pokemon_id': '407', 'pokemon_name': 'Roserade'},\n",
       " 'pokemon_info_408': {'pokemon_id': '408', 'pokemon_name': 'Cranidos'},\n",
       " 'pokemon_info_409': {'pokemon_id': '409', 'pokemon_name': 'Rampardos'},\n",
       " 'pokemon_info_410': {'pokemon_id': '410', 'pokemon_name': 'Shieldon'},\n",
       " 'pokemon_info_411': {'pokemon_id': '411', 'pokemon_name': 'Bastiodon'},\n",
       " 'pokemon_info_412': {'pokemon_id': '412', 'pokemon_name': 'Burmy'},\n",
       " 'pokemon_info_413': {'pokemon_id': '413', 'pokemon_name': 'Wormadam'},\n",
       " 'pokemon_info_414': {'pokemon_id': '414', 'pokemon_name': 'Mothim'},\n",
       " 'pokemon_info_415': {'pokemon_id': '415', 'pokemon_name': 'Combee'},\n",
       " 'pokemon_info_416': {'pokemon_id': '416', 'pokemon_name': 'Vespiquen'},\n",
       " 'pokemon_info_417': {'pokemon_id': '417', 'pokemon_name': 'Pachirisu'},\n",
       " 'pokemon_info_418': {'pokemon_id': '418', 'pokemon_name': 'Buizel'},\n",
       " 'pokemon_info_419': {'pokemon_id': '419', 'pokemon_name': 'Floatzel'},\n",
       " 'pokemon_info_420': {'pokemon_id': '420', 'pokemon_name': 'Cherubi'},\n",
       " 'pokemon_info_421': {'pokemon_id': '421', 'pokemon_name': 'Cherrim'},\n",
       " 'pokemon_info_422': {'pokemon_id': '422', 'pokemon_name': 'Shellos'},\n",
       " 'pokemon_info_423': {'pokemon_id': '423', 'pokemon_name': 'Gastrodon'},\n",
       " 'pokemon_info_424': {'pokemon_id': '424', 'pokemon_name': 'Ambipom'},\n",
       " 'pokemon_info_425': {'pokemon_id': '425', 'pokemon_name': 'Drifloon'},\n",
       " 'pokemon_info_426': {'pokemon_id': '426', 'pokemon_name': 'Drifblim'},\n",
       " 'pokemon_info_427': {'pokemon_id': '427', 'pokemon_name': 'Buneary'},\n",
       " 'pokemon_info_428': {'pokemon_id': '428', 'pokemon_name': 'Lopunny'},\n",
       " 'pokemon_info_429': {'pokemon_id': '429', 'pokemon_name': 'Mismagius'},\n",
       " 'pokemon_info_430': {'pokemon_id': '430', 'pokemon_name': 'Honchkrow'},\n",
       " 'pokemon_info_431': {'pokemon_id': '431', 'pokemon_name': 'Glameow'},\n",
       " 'pokemon_info_432': {'pokemon_id': '432', 'pokemon_name': 'Purugly'},\n",
       " 'pokemon_info_433': {'pokemon_id': '433', 'pokemon_name': 'Chingling'},\n",
       " 'pokemon_info_434': {'pokemon_id': '434', 'pokemon_name': 'Stunky'},\n",
       " 'pokemon_info_435': {'pokemon_id': '435', 'pokemon_name': 'Skuntank'},\n",
       " 'pokemon_info_436': {'pokemon_id': '436', 'pokemon_name': 'Bronzor'},\n",
       " 'pokemon_info_437': {'pokemon_id': '437', 'pokemon_name': 'Bronzong'},\n",
       " 'pokemon_info_438': {'pokemon_id': '438', 'pokemon_name': 'Bonsly'},\n",
       " 'pokemon_info_439': {'pokemon_id': '439', 'pokemon_name': 'MimeJr.'},\n",
       " 'pokemon_info_440': {'pokemon_id': '440', 'pokemon_name': 'Happiny'},\n",
       " 'pokemon_info_441': {'pokemon_id': '441', 'pokemon_name': 'Chatot'},\n",
       " 'pokemon_info_442': {'pokemon_id': '442', 'pokemon_name': 'Spiritomb'},\n",
       " 'pokemon_info_443': {'pokemon_id': '443', 'pokemon_name': 'Gible'},\n",
       " 'pokemon_info_444': {'pokemon_id': '444', 'pokemon_name': 'Gabite'},\n",
       " 'pokemon_info_445': {'pokemon_id': '445', 'pokemon_name': 'Garchomp'},\n",
       " 'pokemon_info_446': {'pokemon_id': '446', 'pokemon_name': 'Munchlax'},\n",
       " 'pokemon_info_447': {'pokemon_id': '447', 'pokemon_name': 'Riolu'},\n",
       " 'pokemon_info_448': {'pokemon_id': '448', 'pokemon_name': 'Lucario'},\n",
       " 'pokemon_info_449': {'pokemon_id': '449', 'pokemon_name': 'Hippopotas'},\n",
       " 'pokemon_info_450': {'pokemon_id': '450', 'pokemon_name': 'Hippowdon'},\n",
       " 'pokemon_info_451': {'pokemon_id': '451', 'pokemon_name': 'Skorupi'},\n",
       " 'pokemon_info_452': {'pokemon_id': '452', 'pokemon_name': 'Drapion'},\n",
       " 'pokemon_info_453': {'pokemon_id': '453', 'pokemon_name': 'Croagunk'},\n",
       " 'pokemon_info_454': {'pokemon_id': '454', 'pokemon_name': 'Toxicroak'},\n",
       " 'pokemon_info_455': {'pokemon_id': '455', 'pokemon_name': 'Carnivine'},\n",
       " 'pokemon_info_456': {'pokemon_id': '456', 'pokemon_name': 'Finneon'},\n",
       " 'pokemon_info_457': {'pokemon_id': '457', 'pokemon_name': 'Lumineon'},\n",
       " 'pokemon_info_458': {'pokemon_id': '458', 'pokemon_name': 'Mantyke'},\n",
       " 'pokemon_info_459': {'pokemon_id': '459', 'pokemon_name': 'Snover'},\n",
       " 'pokemon_info_460': {'pokemon_id': '460', 'pokemon_name': 'Abomasnow'},\n",
       " 'pokemon_info_461': {'pokemon_id': '461', 'pokemon_name': 'Weavile'},\n",
       " 'pokemon_info_462': {'pokemon_id': '462', 'pokemon_name': 'Magnezone'},\n",
       " 'pokemon_info_463': {'pokemon_id': '463', 'pokemon_name': 'Lickilicky'},\n",
       " 'pokemon_info_464': {'pokemon_id': '464', 'pokemon_name': 'Rhyperior'},\n",
       " 'pokemon_info_465': {'pokemon_id': '465', 'pokemon_name': 'Tangrowth'},\n",
       " 'pokemon_info_466': {'pokemon_id': '466', 'pokemon_name': 'Electivire'},\n",
       " 'pokemon_info_467': {'pokemon_id': '467', 'pokemon_name': 'Magmortar'},\n",
       " 'pokemon_info_468': {'pokemon_id': '468', 'pokemon_name': 'Togekiss'},\n",
       " 'pokemon_info_469': {'pokemon_id': '469', 'pokemon_name': 'Yanmega'},\n",
       " 'pokemon_info_470': {'pokemon_id': '470', 'pokemon_name': 'Leafeon'},\n",
       " 'pokemon_info_471': {'pokemon_id': '471', 'pokemon_name': 'Glaceon'},\n",
       " 'pokemon_info_472': {'pokemon_id': '472', 'pokemon_name': 'Gliscor'},\n",
       " 'pokemon_info_473': {'pokemon_id': '473', 'pokemon_name': 'Mamoswine'},\n",
       " 'pokemon_info_474': {'pokemon_id': '474', 'pokemon_name': 'Porygon'},\n",
       " 'pokemon_info_475': {'pokemon_id': '475', 'pokemon_name': 'Gallade'},\n",
       " 'pokemon_info_476': {'pokemon_id': '476', 'pokemon_name': 'Probopass'},\n",
       " 'pokemon_info_477': {'pokemon_id': '477', 'pokemon_name': 'Dusknoir'},\n",
       " 'pokemon_info_478': {'pokemon_id': '478', 'pokemon_name': 'Froslass'},\n",
       " 'pokemon_info_479': {'pokemon_id': '479', 'pokemon_name': 'Rotom'},\n",
       " 'pokemon_info_480': {'pokemon_id': '480', 'pokemon_name': 'Uxie'},\n",
       " 'pokemon_info_481': {'pokemon_id': '481', 'pokemon_name': 'Mesprit'},\n",
       " 'pokemon_info_482': {'pokemon_id': '482', 'pokemon_name': 'Azelf'},\n",
       " 'pokemon_info_483': {'pokemon_id': '483', 'pokemon_name': 'Dialga'},\n",
       " 'pokemon_info_484': {'pokemon_id': '484', 'pokemon_name': 'Palkia'},\n",
       " 'pokemon_info_485': {'pokemon_id': '485', 'pokemon_name': 'Heatran'},\n",
       " 'pokemon_info_486': {'pokemon_id': '486', 'pokemon_name': 'Regigigas'},\n",
       " 'pokemon_info_487': {'pokemon_id': '487', 'pokemon_name': 'Giratina'},\n",
       " 'pokemon_info_488': {'pokemon_id': '488', 'pokemon_name': 'Cresselia'},\n",
       " 'pokemon_info_489': {'pokemon_id': '489', 'pokemon_name': 'Phione'},\n",
       " 'pokemon_info_490': {'pokemon_id': '490', 'pokemon_name': 'Manaphy'},\n",
       " 'pokemon_info_491': {'pokemon_id': '491', 'pokemon_name': 'Darkrai'},\n",
       " 'pokemon_info_492': {'pokemon_id': '492', 'pokemon_name': 'Shaymin'},\n",
       " 'pokemon_info_493': {'pokemon_id': '493', 'pokemon_name': 'Arceus'},\n",
       " 'pokemon_info_494': {'pokemon_id': '494', 'pokemon_name': 'Victini'},\n",
       " 'pokemon_info_495': {'pokemon_id': '495', 'pokemon_name': 'Snivy'},\n",
       " 'pokemon_info_496': {'pokemon_id': '496', 'pokemon_name': 'Servine'},\n",
       " 'pokemon_info_497': {'pokemon_id': '497', 'pokemon_name': 'Serperior'},\n",
       " 'pokemon_info_498': {'pokemon_id': '498', 'pokemon_name': 'Tepig'},\n",
       " 'pokemon_info_499': {'pokemon_id': '499', 'pokemon_name': 'Pignite'},\n",
       " 'pokemon_info_500': {'pokemon_id': '500', 'pokemon_name': 'Emboar'},\n",
       " 'pokemon_info_501': {'pokemon_id': '501', 'pokemon_name': 'Oshawott'},\n",
       " 'pokemon_info_502': {'pokemon_id': '502', 'pokemon_name': 'Dewott'},\n",
       " 'pokemon_info_503': {'pokemon_id': '503', 'pokemon_name': 'Samurott'},\n",
       " 'pokemon_info_504': {'pokemon_id': '504', 'pokemon_name': 'Patrat'},\n",
       " 'pokemon_info_505': {'pokemon_id': '505', 'pokemon_name': 'Watchog'},\n",
       " 'pokemon_info_506': {'pokemon_id': '506', 'pokemon_name': 'Lillipup'},\n",
       " 'pokemon_info_507': {'pokemon_id': '507', 'pokemon_name': 'Herdier'},\n",
       " 'pokemon_info_508': {'pokemon_id': '508', 'pokemon_name': 'Stoutland'},\n",
       " 'pokemon_info_509': {'pokemon_id': '509', 'pokemon_name': 'Purrloin'},\n",
       " 'pokemon_info_510': {'pokemon_id': '510', 'pokemon_name': 'Liepard'},\n",
       " 'pokemon_info_511': {'pokemon_id': '511', 'pokemon_name': 'Pansage'},\n",
       " 'pokemon_info_512': {'pokemon_id': '512', 'pokemon_name': 'Simisage'},\n",
       " 'pokemon_info_513': {'pokemon_id': '513', 'pokemon_name': 'Pansear'},\n",
       " 'pokemon_info_514': {'pokemon_id': '514', 'pokemon_name': 'Simisear'},\n",
       " 'pokemon_info_515': {'pokemon_id': '515', 'pokemon_name': 'Panpour'},\n",
       " 'pokemon_info_516': {'pokemon_id': '516', 'pokemon_name': 'Simipour'},\n",
       " 'pokemon_info_517': {'pokemon_id': '517', 'pokemon_name': 'Munna'},\n",
       " 'pokemon_info_518': {'pokemon_id': '518', 'pokemon_name': 'Musharna'},\n",
       " 'pokemon_info_519': {'pokemon_id': '519', 'pokemon_name': 'Pidove'},\n",
       " 'pokemon_info_520': {'pokemon_id': '520', 'pokemon_name': 'Tranquill'},\n",
       " 'pokemon_info_521': {'pokemon_id': '521', 'pokemon_name': 'Unfezant'},\n",
       " 'pokemon_info_522': {'pokemon_id': '522', 'pokemon_name': 'Blitzle'},\n",
       " 'pokemon_info_523': {'pokemon_id': '523', 'pokemon_name': 'Zebstrika'},\n",
       " 'pokemon_info_524': {'pokemon_id': '524', 'pokemon_name': 'Roggenrola'},\n",
       " 'pokemon_info_525': {'pokemon_id': '525', 'pokemon_name': 'Boldore'},\n",
       " 'pokemon_info_526': {'pokemon_id': '526', 'pokemon_name': 'Gigalith'},\n",
       " 'pokemon_info_527': {'pokemon_id': '527', 'pokemon_name': 'Woobat'},\n",
       " 'pokemon_info_528': {'pokemon_id': '528', 'pokemon_name': 'Swoobat'},\n",
       " 'pokemon_info_529': {'pokemon_id': '529', 'pokemon_name': 'Drilbur'},\n",
       " 'pokemon_info_530': {'pokemon_id': '530', 'pokemon_name': 'Excadrill'},\n",
       " 'pokemon_info_531': {'pokemon_id': '531', 'pokemon_name': 'Audino'},\n",
       " 'pokemon_info_532': {'pokemon_id': '532', 'pokemon_name': 'Timburr'},\n",
       " 'pokemon_info_533': {'pokemon_id': '533', 'pokemon_name': 'Gurdurr'},\n",
       " 'pokemon_info_534': {'pokemon_id': '534', 'pokemon_name': 'Conkeldurr'},\n",
       " 'pokemon_info_535': {'pokemon_id': '535', 'pokemon_name': 'Tympole'},\n",
       " 'pokemon_info_536': {'pokemon_id': '536', 'pokemon_name': 'Palpitoad'},\n",
       " 'pokemon_info_537': {'pokemon_id': '537', 'pokemon_name': 'Seismitoad'},\n",
       " 'pokemon_info_538': {'pokemon_id': '538', 'pokemon_name': 'Throh'},\n",
       " 'pokemon_info_539': {'pokemon_id': '539', 'pokemon_name': 'Sawk'},\n",
       " 'pokemon_info_540': {'pokemon_id': '540', 'pokemon_name': 'Sewaddle'},\n",
       " 'pokemon_info_541': {'pokemon_id': '541', 'pokemon_name': 'Swadloon'},\n",
       " 'pokemon_info_542': {'pokemon_id': '542', 'pokemon_name': 'Leavanny'},\n",
       " 'pokemon_info_543': {'pokemon_id': '543', 'pokemon_name': 'Venipede'},\n",
       " 'pokemon_info_544': {'pokemon_id': '544', 'pokemon_name': 'Whirlipede'},\n",
       " 'pokemon_info_545': {'pokemon_id': '545', 'pokemon_name': 'Scolipede'},\n",
       " 'pokemon_info_546': {'pokemon_id': '546', 'pokemon_name': 'Cottonee'},\n",
       " 'pokemon_info_547': {'pokemon_id': '547', 'pokemon_name': 'Whimsicott'},\n",
       " 'pokemon_info_548': {'pokemon_id': '548', 'pokemon_name': 'Petilil'},\n",
       " 'pokemon_info_549': {'pokemon_id': '549', 'pokemon_name': 'Lilligant'},\n",
       " 'pokemon_info_550': {'pokemon_id': '550', 'pokemon_name': 'Basculin'},\n",
       " 'pokemon_info_551': {'pokemon_id': '551', 'pokemon_name': 'Sandile'},\n",
       " 'pokemon_info_552': {'pokemon_id': '552', 'pokemon_name': 'Krokorok'},\n",
       " 'pokemon_info_553': {'pokemon_id': '553', 'pokemon_name': 'Krookodile'},\n",
       " 'pokemon_info_554': {'pokemon_id': '554', 'pokemon_name': 'Darumaka'},\n",
       " 'pokemon_info_555': {'pokemon_id': '555', 'pokemon_name': 'Darmanitan'},\n",
       " 'pokemon_info_556': {'pokemon_id': '556', 'pokemon_name': 'Maractus'},\n",
       " 'pokemon_info_557': {'pokemon_id': '557', 'pokemon_name': 'Dwebble'},\n",
       " 'pokemon_info_558': {'pokemon_id': '558', 'pokemon_name': 'Crustle'},\n",
       " 'pokemon_info_559': {'pokemon_id': '559', 'pokemon_name': 'Scraggy'},\n",
       " 'pokemon_info_560': {'pokemon_id': '560', 'pokemon_name': 'Scrafty'},\n",
       " 'pokemon_info_561': {'pokemon_id': '561', 'pokemon_name': 'Sigilyph'},\n",
       " 'pokemon_info_562': {'pokemon_id': '562', 'pokemon_name': 'Yamask'},\n",
       " 'pokemon_info_563': {'pokemon_id': '563', 'pokemon_name': 'Cofagrigus'},\n",
       " 'pokemon_info_564': {'pokemon_id': '564', 'pokemon_name': 'Tirtouga'},\n",
       " 'pokemon_info_565': {'pokemon_id': '565', 'pokemon_name': 'Carracosta'},\n",
       " 'pokemon_info_566': {'pokemon_id': '566', 'pokemon_name': 'Archen'},\n",
       " 'pokemon_info_567': {'pokemon_id': '567', 'pokemon_name': 'Archeops'},\n",
       " 'pokemon_info_568': {'pokemon_id': '568', 'pokemon_name': 'Trubbish'},\n",
       " 'pokemon_info_569': {'pokemon_id': '569', 'pokemon_name': 'Garbodor'},\n",
       " 'pokemon_info_570': {'pokemon_id': '570', 'pokemon_name': 'Zorua'},\n",
       " 'pokemon_info_571': {'pokemon_id': '571', 'pokemon_name': 'Zoroark'},\n",
       " 'pokemon_info_572': {'pokemon_id': '572', 'pokemon_name': 'Minccino'},\n",
       " 'pokemon_info_573': {'pokemon_id': '573', 'pokemon_name': 'Cinccino'},\n",
       " 'pokemon_info_574': {'pokemon_id': '574', 'pokemon_name': 'Gothita'},\n",
       " 'pokemon_info_575': {'pokemon_id': '575', 'pokemon_name': 'Gothorita'},\n",
       " 'pokemon_info_576': {'pokemon_id': '576', 'pokemon_name': 'Gothitelle'},\n",
       " 'pokemon_info_577': {'pokemon_id': '577', 'pokemon_name': 'Solosis'},\n",
       " 'pokemon_info_578': {'pokemon_id': '578', 'pokemon_name': 'Duosion'},\n",
       " 'pokemon_info_579': {'pokemon_id': '579', 'pokemon_name': 'Reuniclus'},\n",
       " 'pokemon_info_580': {'pokemon_id': '580', 'pokemon_name': 'Ducklett'},\n",
       " 'pokemon_info_581': {'pokemon_id': '581', 'pokemon_name': 'Swanna'},\n",
       " 'pokemon_info_582': {'pokemon_id': '582', 'pokemon_name': 'Vanillite'},\n",
       " 'pokemon_info_583': {'pokemon_id': '583', 'pokemon_name': 'Vanillish'},\n",
       " 'pokemon_info_584': {'pokemon_id': '584', 'pokemon_name': 'Vanilluxe'},\n",
       " 'pokemon_info_585': {'pokemon_id': '585', 'pokemon_name': 'Deerling'},\n",
       " 'pokemon_info_586': {'pokemon_id': '586', 'pokemon_name': 'Sawsbuck'},\n",
       " 'pokemon_info_587': {'pokemon_id': '587', 'pokemon_name': 'Emolga'},\n",
       " 'pokemon_info_588': {'pokemon_id': '588', 'pokemon_name': 'Karrablast'},\n",
       " 'pokemon_info_589': {'pokemon_id': '589', 'pokemon_name': 'Escavalier'},\n",
       " 'pokemon_info_590': {'pokemon_id': '590', 'pokemon_name': 'Foongus'},\n",
       " 'pokemon_info_591': {'pokemon_id': '591', 'pokemon_name': 'Amoonguss'},\n",
       " 'pokemon_info_592': {'pokemon_id': '592', 'pokemon_name': 'Frillish'},\n",
       " 'pokemon_info_593': {'pokemon_id': '593', 'pokemon_name': 'Jellicent'},\n",
       " 'pokemon_info_594': {'pokemon_id': '594', 'pokemon_name': 'Alomomola'},\n",
       " 'pokemon_info_595': {'pokemon_id': '595', 'pokemon_name': 'Joltik'},\n",
       " 'pokemon_info_596': {'pokemon_id': '596', 'pokemon_name': 'Galvantula'},\n",
       " 'pokemon_info_597': {'pokemon_id': '597', 'pokemon_name': 'Ferroseed'},\n",
       " 'pokemon_info_598': {'pokemon_id': '598', 'pokemon_name': 'Ferrothorn'},\n",
       " 'pokemon_info_599': {'pokemon_id': '599', 'pokemon_name': 'Klink'},\n",
       " 'pokemon_info_600': {'pokemon_id': '600', 'pokemon_name': 'Klang'},\n",
       " 'pokemon_info_601': {'pokemon_id': '601', 'pokemon_name': 'Klinklang'},\n",
       " 'pokemon_info_602': {'pokemon_id': '602', 'pokemon_name': 'Tynamo'},\n",
       " 'pokemon_info_603': {'pokemon_id': '603', 'pokemon_name': 'Eelektrik'},\n",
       " 'pokemon_info_604': {'pokemon_id': '604', 'pokemon_name': 'Eelektross'},\n",
       " 'pokemon_info_605': {'pokemon_id': '605', 'pokemon_name': 'Elgyem'},\n",
       " 'pokemon_info_606': {'pokemon_id': '606', 'pokemon_name': 'Beheeyem'},\n",
       " 'pokemon_info_607': {'pokemon_id': '607', 'pokemon_name': 'Litwick'},\n",
       " 'pokemon_info_608': {'pokemon_id': '608', 'pokemon_name': 'Lampent'},\n",
       " 'pokemon_info_609': {'pokemon_id': '609', 'pokemon_name': 'Chandelure'},\n",
       " 'pokemon_info_610': {'pokemon_id': '610', 'pokemon_name': 'Axew'},\n",
       " 'pokemon_info_611': {'pokemon_id': '611', 'pokemon_name': 'Fraxure'},\n",
       " 'pokemon_info_612': {'pokemon_id': '612', 'pokemon_name': 'Haxorus'},\n",
       " 'pokemon_info_613': {'pokemon_id': '613', 'pokemon_name': 'Cubchoo'},\n",
       " 'pokemon_info_614': {'pokemon_id': '614', 'pokemon_name': 'Beartic'},\n",
       " 'pokemon_info_615': {'pokemon_id': '615', 'pokemon_name': 'Cryogonal'},\n",
       " 'pokemon_info_616': {'pokemon_id': '616', 'pokemon_name': 'Shelmet'},\n",
       " 'pokemon_info_617': {'pokemon_id': '617', 'pokemon_name': 'Accelgor'},\n",
       " 'pokemon_info_618': {'pokemon_id': '618', 'pokemon_name': 'Stunfisk'},\n",
       " 'pokemon_info_619': {'pokemon_id': '619', 'pokemon_name': 'Mienfoo'},\n",
       " 'pokemon_info_620': {'pokemon_id': '620', 'pokemon_name': 'Mienshao'},\n",
       " 'pokemon_info_621': {'pokemon_id': '621', 'pokemon_name': 'Druddigon'},\n",
       " 'pokemon_info_622': {'pokemon_id': '622', 'pokemon_name': 'Golett'},\n",
       " 'pokemon_info_623': {'pokemon_id': '623', 'pokemon_name': 'Golurk'},\n",
       " 'pokemon_info_624': {'pokemon_id': '624', 'pokemon_name': 'Pawniard'},\n",
       " 'pokemon_info_625': {'pokemon_id': '625', 'pokemon_name': 'Bisharp'},\n",
       " 'pokemon_info_626': {'pokemon_id': '626', 'pokemon_name': 'Bouffalant'},\n",
       " 'pokemon_info_627': {'pokemon_id': '627', 'pokemon_name': 'Rufflet'},\n",
       " 'pokemon_info_628': {'pokemon_id': '628', 'pokemon_name': 'Braviary'},\n",
       " 'pokemon_info_629': {'pokemon_id': '629', 'pokemon_name': 'Vullaby'},\n",
       " 'pokemon_info_630': {'pokemon_id': '630', 'pokemon_name': 'Mandibuzz'},\n",
       " 'pokemon_info_631': {'pokemon_id': '631', 'pokemon_name': 'Heatmor'},\n",
       " 'pokemon_info_632': {'pokemon_id': '632', 'pokemon_name': 'Durant'},\n",
       " 'pokemon_info_633': {'pokemon_id': '633', 'pokemon_name': 'Deino'},\n",
       " 'pokemon_info_634': {'pokemon_id': '634', 'pokemon_name': 'Zweilous'},\n",
       " 'pokemon_info_635': {'pokemon_id': '635', 'pokemon_name': 'Hydreigon'},\n",
       " 'pokemon_info_636': {'pokemon_id': '636', 'pokemon_name': 'Larvesta'},\n",
       " 'pokemon_info_637': {'pokemon_id': '637', 'pokemon_name': 'Volcarona'},\n",
       " 'pokemon_info_638': {'pokemon_id': '638', 'pokemon_name': 'Cobalion'},\n",
       " 'pokemon_info_639': {'pokemon_id': '639', 'pokemon_name': 'Terrakion'},\n",
       " 'pokemon_info_640': {'pokemon_id': '640', 'pokemon_name': 'Virizion'},\n",
       " 'pokemon_info_641': {'pokemon_id': '641', 'pokemon_name': 'Tornadus'},\n",
       " 'pokemon_info_642': {'pokemon_id': '642', 'pokemon_name': 'Thundurus'},\n",
       " 'pokemon_info_643': {'pokemon_id': '643', 'pokemon_name': 'Reshiram'},\n",
       " 'pokemon_info_644': {'pokemon_id': '644', 'pokemon_name': 'Zekrom'},\n",
       " 'pokemon_info_645': {'pokemon_id': '645', 'pokemon_name': 'Landorus'},\n",
       " 'pokemon_info_646': {'pokemon_id': '646', 'pokemon_name': 'Kyurem'},\n",
       " 'pokemon_info_647': {'pokemon_id': '647', 'pokemon_name': 'Keldeo'},\n",
       " 'pokemon_info_648': {'pokemon_id': '648', 'pokemon_name': 'Meloetta'},\n",
       " 'pokemon_info_649': {'pokemon_id': '649', 'pokemon_name': 'Genesect'},\n",
       " 'pokemon_info_650': {'pokemon_id': '650', 'pokemon_name': 'Chespin'},\n",
       " 'pokemon_info_651': {'pokemon_id': '651', 'pokemon_name': 'Quilladin'},\n",
       " 'pokemon_info_652': {'pokemon_id': '652', 'pokemon_name': 'Chesnaught'},\n",
       " 'pokemon_info_653': {'pokemon_id': '653', 'pokemon_name': 'Fennekin'},\n",
       " 'pokemon_info_654': {'pokemon_id': '654', 'pokemon_name': 'Braixen'},\n",
       " 'pokemon_info_655': {'pokemon_id': '655', 'pokemon_name': 'Delphox'},\n",
       " 'pokemon_info_656': {'pokemon_id': '656', 'pokemon_name': 'Froakie'},\n",
       " 'pokemon_info_657': {'pokemon_id': '657', 'pokemon_name': 'Frogadier'},\n",
       " 'pokemon_info_658': {'pokemon_id': '658', 'pokemon_name': 'Greninja'},\n",
       " 'pokemon_info_659': {'pokemon_id': '659', 'pokemon_name': 'Bunnelby'},\n",
       " 'pokemon_info_660': {'pokemon_id': '660', 'pokemon_name': 'Diggersby'},\n",
       " 'pokemon_info_661': {'pokemon_id': '661', 'pokemon_name': 'Fletchling'},\n",
       " 'pokemon_info_662': {'pokemon_id': '662', 'pokemon_name': 'Fletchinder'},\n",
       " 'pokemon_info_663': {'pokemon_id': '663', 'pokemon_name': 'Talonflame'},\n",
       " 'pokemon_info_664': {'pokemon_id': '664', 'pokemon_name': 'Scatterbug'},\n",
       " 'pokemon_info_665': {'pokemon_id': '665', 'pokemon_name': 'Spewpa'},\n",
       " 'pokemon_info_666': {'pokemon_id': '666', 'pokemon_name': 'Vivillon'},\n",
       " 'pokemon_info_667': {'pokemon_id': '667', 'pokemon_name': 'Litleo'},\n",
       " 'pokemon_info_668': {'pokemon_id': '668', 'pokemon_name': 'Pyroar'},\n",
       " 'pokemon_info_669': {'pokemon_id': '669', 'pokemon_name': 'Flabébé'},\n",
       " 'pokemon_info_670': {'pokemon_id': '670', 'pokemon_name': 'Floette'},\n",
       " 'pokemon_info_671': {'pokemon_id': '671', 'pokemon_name': 'Florges'},\n",
       " 'pokemon_info_672': {'pokemon_id': '672', 'pokemon_name': 'Skiddo'},\n",
       " 'pokemon_info_673': {'pokemon_id': '673', 'pokemon_name': 'Gogoat'},\n",
       " 'pokemon_info_674': {'pokemon_id': '674', 'pokemon_name': 'Pancham'},\n",
       " 'pokemon_info_675': {'pokemon_id': '675', 'pokemon_name': 'Pangoro'},\n",
       " 'pokemon_info_676': {'pokemon_id': '676', 'pokemon_name': 'Furfrou'},\n",
       " 'pokemon_info_677': {'pokemon_id': '677', 'pokemon_name': 'Espurr'},\n",
       " 'pokemon_info_678': {'pokemon_id': '678', 'pokemon_name': 'Meowstic'},\n",
       " 'pokemon_info_679': {'pokemon_id': '679', 'pokemon_name': 'Honedge'},\n",
       " 'pokemon_info_680': {'pokemon_id': '680', 'pokemon_name': 'Doublade'},\n",
       " 'pokemon_info_681': {'pokemon_id': '681', 'pokemon_name': 'Aegislash'},\n",
       " 'pokemon_info_682': {'pokemon_id': '682', 'pokemon_name': 'Spritzee'},\n",
       " 'pokemon_info_683': {'pokemon_id': '683', 'pokemon_name': 'Aromatisse'},\n",
       " 'pokemon_info_684': {'pokemon_id': '684', 'pokemon_name': 'Swirlix'},\n",
       " 'pokemon_info_685': {'pokemon_id': '685', 'pokemon_name': 'Slurpuff'},\n",
       " 'pokemon_info_686': {'pokemon_id': '686', 'pokemon_name': 'Inkay'},\n",
       " 'pokemon_info_687': {'pokemon_id': '687', 'pokemon_name': 'Malamar'},\n",
       " 'pokemon_info_688': {'pokemon_id': '688', 'pokemon_name': 'Binacle'},\n",
       " 'pokemon_info_689': {'pokemon_id': '689', 'pokemon_name': 'Barbaracle'},\n",
       " 'pokemon_info_690': {'pokemon_id': '690', 'pokemon_name': 'Skrelp'},\n",
       " 'pokemon_info_691': {'pokemon_id': '691', 'pokemon_name': 'Dragalge'},\n",
       " 'pokemon_info_692': {'pokemon_id': '692', 'pokemon_name': 'Clauncher'},\n",
       " 'pokemon_info_693': {'pokemon_id': '693', 'pokemon_name': 'Clawitzer'},\n",
       " 'pokemon_info_694': {'pokemon_id': '694', 'pokemon_name': 'Helioptile'},\n",
       " 'pokemon_info_695': {'pokemon_id': '695', 'pokemon_name': 'Heliolisk'},\n",
       " 'pokemon_info_696': {'pokemon_id': '696', 'pokemon_name': 'Tyrunt'},\n",
       " 'pokemon_info_697': {'pokemon_id': '697', 'pokemon_name': 'Tyrantrum'},\n",
       " 'pokemon_info_698': {'pokemon_id': '698', 'pokemon_name': 'Amaura'},\n",
       " 'pokemon_info_699': {'pokemon_id': '699', 'pokemon_name': 'Aurorus'},\n",
       " 'pokemon_info_700': {'pokemon_id': '700', 'pokemon_name': 'Sylveon'},\n",
       " 'pokemon_info_701': {'pokemon_id': '701', 'pokemon_name': 'Hawlucha'},\n",
       " 'pokemon_info_702': {'pokemon_id': '702', 'pokemon_name': 'Dedenne'},\n",
       " 'pokemon_info_703': {'pokemon_id': '703', 'pokemon_name': 'Carbink'},\n",
       " 'pokemon_info_704': {'pokemon_id': '704', 'pokemon_name': 'Goomy'},\n",
       " 'pokemon_info_705': {'pokemon_id': '705', 'pokemon_name': 'Sliggoo'},\n",
       " 'pokemon_info_706': {'pokemon_id': '706', 'pokemon_name': 'Goodra'},\n",
       " 'pokemon_info_707': {'pokemon_id': '707', 'pokemon_name': 'Klefki'},\n",
       " 'pokemon_info_708': {'pokemon_id': '708', 'pokemon_name': 'Phantump'},\n",
       " 'pokemon_info_709': {'pokemon_id': '709', 'pokemon_name': 'Trevenant'},\n",
       " 'pokemon_info_710': {'pokemon_id': '710', 'pokemon_name': 'Pumpkaboo'},\n",
       " 'pokemon_info_711': {'pokemon_id': '711', 'pokemon_name': 'Gourgeist'},\n",
       " 'pokemon_info_712': {'pokemon_id': '712', 'pokemon_name': 'Bergmite'},\n",
       " 'pokemon_info_713': {'pokemon_id': '713', 'pokemon_name': 'Avalugg'},\n",
       " 'pokemon_info_714': {'pokemon_id': '714', 'pokemon_name': 'Noibat'},\n",
       " 'pokemon_info_715': {'pokemon_id': '715', 'pokemon_name': 'Noivern'},\n",
       " 'pokemon_info_716': {'pokemon_id': '716', 'pokemon_name': 'Xerneas'},\n",
       " 'pokemon_info_717': {'pokemon_id': '717', 'pokemon_name': 'Yveltal'},\n",
       " 'pokemon_info_718': {'pokemon_id': '718', 'pokemon_name': 'Zygarde'},\n",
       " 'pokemon_info_719': {'pokemon_id': '719', 'pokemon_name': 'Diancie'},\n",
       " 'pokemon_info_720': {'pokemon_id': '720', 'pokemon_name': 'Hoopa'},\n",
       " 'pokemon_info_721': {'pokemon_id': '721', 'pokemon_name': 'Volcanion'},\n",
       " 'pokemon_info_722': {'pokemon_id': '722', 'pokemon_name': 'Rowlet'},\n",
       " 'pokemon_info_723': {'pokemon_id': '723', 'pokemon_name': 'Dartrix'},\n",
       " 'pokemon_info_724': {'pokemon_id': '724', 'pokemon_name': 'Decidueye'},\n",
       " 'pokemon_info_725': {'pokemon_id': '725', 'pokemon_name': 'Litten'},\n",
       " 'pokemon_info_726': {'pokemon_id': '726', 'pokemon_name': 'Torracat'},\n",
       " 'pokemon_info_727': {'pokemon_id': '727', 'pokemon_name': 'Incineroar'},\n",
       " 'pokemon_info_728': {'pokemon_id': '728', 'pokemon_name': 'Popplio'},\n",
       " 'pokemon_info_729': {'pokemon_id': '729', 'pokemon_name': 'Brionne'},\n",
       " 'pokemon_info_730': {'pokemon_id': '730', 'pokemon_name': 'Primarina'},\n",
       " 'pokemon_info_731': {'pokemon_id': '731', 'pokemon_name': 'Pikipek'},\n",
       " 'pokemon_info_732': {'pokemon_id': '732', 'pokemon_name': 'Trumbeak'},\n",
       " 'pokemon_info_733': {'pokemon_id': '733', 'pokemon_name': 'Toucannon'},\n",
       " 'pokemon_info_734': {'pokemon_id': '734', 'pokemon_name': 'Yungoos'},\n",
       " 'pokemon_info_735': {'pokemon_id': '735', 'pokemon_name': 'Gumshoos'},\n",
       " 'pokemon_info_736': {'pokemon_id': '736', 'pokemon_name': 'Grubbin'},\n",
       " 'pokemon_info_737': {'pokemon_id': '737', 'pokemon_name': 'Charjabug'},\n",
       " 'pokemon_info_738': {'pokemon_id': '738', 'pokemon_name': 'Vikavolt'},\n",
       " 'pokemon_info_739': {'pokemon_id': '739', 'pokemon_name': 'Crabrawler'},\n",
       " 'pokemon_info_740': {'pokemon_id': '740', 'pokemon_name': 'Crabominable'},\n",
       " 'pokemon_info_741': {'pokemon_id': '741', 'pokemon_name': 'Oricorio'},\n",
       " 'pokemon_info_742': {'pokemon_id': '742', 'pokemon_name': 'Cutiefly'},\n",
       " 'pokemon_info_743': {'pokemon_id': '743', 'pokemon_name': 'Ribombee'},\n",
       " 'pokemon_info_744': {'pokemon_id': '744', 'pokemon_name': 'Rockruff'},\n",
       " 'pokemon_info_745': {'pokemon_id': '745', 'pokemon_name': 'Lycanroc'},\n",
       " 'pokemon_info_746': {'pokemon_id': '746', 'pokemon_name': 'Wishiwashi'},\n",
       " 'pokemon_info_747': {'pokemon_id': '747', 'pokemon_name': 'Mareanie'},\n",
       " 'pokemon_info_748': {'pokemon_id': '748', 'pokemon_name': 'Toxapex'},\n",
       " 'pokemon_info_749': {'pokemon_id': '749', 'pokemon_name': 'Mudbray'},\n",
       " 'pokemon_info_750': {'pokemon_id': '750', 'pokemon_name': 'Mudsdale'},\n",
       " 'pokemon_info_751': {'pokemon_id': '751', 'pokemon_name': 'Dewpider'},\n",
       " 'pokemon_info_752': {'pokemon_id': '752', 'pokemon_name': 'Araquanid'},\n",
       " 'pokemon_info_753': {'pokemon_id': '753', 'pokemon_name': 'Fomantis'},\n",
       " 'pokemon_info_754': {'pokemon_id': '754', 'pokemon_name': 'Lurantis'},\n",
       " 'pokemon_info_755': {'pokemon_id': '755', 'pokemon_name': 'Morelull'},\n",
       " 'pokemon_info_756': {'pokemon_id': '756', 'pokemon_name': 'Shiinotic'},\n",
       " 'pokemon_info_757': {'pokemon_id': '757', 'pokemon_name': 'Salandit'},\n",
       " 'pokemon_info_758': {'pokemon_id': '758', 'pokemon_name': 'Salazzle'},\n",
       " 'pokemon_info_759': {'pokemon_id': '759', 'pokemon_name': 'Stufful'},\n",
       " 'pokemon_info_760': {'pokemon_id': '760', 'pokemon_name': 'Bewear'},\n",
       " 'pokemon_info_761': {'pokemon_id': '761', 'pokemon_name': 'Bounsweet'},\n",
       " 'pokemon_info_762': {'pokemon_id': '762', 'pokemon_name': 'Steenee'},\n",
       " 'pokemon_info_763': {'pokemon_id': '763', 'pokemon_name': 'Tsareena'},\n",
       " 'pokemon_info_764': {'pokemon_id': '764', 'pokemon_name': 'Comfey'},\n",
       " 'pokemon_info_765': {'pokemon_id': '765', 'pokemon_name': 'Oranguru'},\n",
       " 'pokemon_info_766': {'pokemon_id': '766', 'pokemon_name': 'Passimian'},\n",
       " 'pokemon_info_767': {'pokemon_id': '767', 'pokemon_name': 'Wimpod'},\n",
       " 'pokemon_info_768': {'pokemon_id': '768', 'pokemon_name': 'Golisopod'},\n",
       " 'pokemon_info_769': {'pokemon_id': '769', 'pokemon_name': 'Sandygast'},\n",
       " 'pokemon_info_770': {'pokemon_id': '770', 'pokemon_name': 'Palossand'},\n",
       " 'pokemon_info_771': {'pokemon_id': '771', 'pokemon_name': 'Pyukumuku'},\n",
       " 'pokemon_info_772': {'pokemon_id': '772', 'pokemon_name': 'Type:Null'},\n",
       " 'pokemon_info_773': {'pokemon_id': '773', 'pokemon_name': 'Silvally'},\n",
       " 'pokemon_info_774': {'pokemon_id': '774', 'pokemon_name': 'Minior'},\n",
       " 'pokemon_info_775': {'pokemon_id': '775', 'pokemon_name': 'Komala'},\n",
       " 'pokemon_info_776': {'pokemon_id': '776', 'pokemon_name': 'Turtonator'},\n",
       " 'pokemon_info_777': {'pokemon_id': '777', 'pokemon_name': 'Togedemaru'},\n",
       " 'pokemon_info_778': {'pokemon_id': '778', 'pokemon_name': 'Mimikyu'},\n",
       " 'pokemon_info_779': {'pokemon_id': '779', 'pokemon_name': 'Bruxish'},\n",
       " 'pokemon_info_780': {'pokemon_id': '780', 'pokemon_name': 'Drampa'},\n",
       " 'pokemon_info_781': {'pokemon_id': '781', 'pokemon_name': 'Dhelmise'},\n",
       " 'pokemon_info_782': {'pokemon_id': '782', 'pokemon_name': 'Jangmo'},\n",
       " 'pokemon_info_783': {'pokemon_id': '783', 'pokemon_name': 'Hakamo'},\n",
       " 'pokemon_info_784': {'pokemon_id': '784', 'pokemon_name': 'Kommo'},\n",
       " 'pokemon_info_785': {'pokemon_id': '785', 'pokemon_name': 'TapuKoko'},\n",
       " 'pokemon_info_786': {'pokemon_id': '786', 'pokemon_name': 'TapuLele'},\n",
       " 'pokemon_info_787': {'pokemon_id': '787', 'pokemon_name': 'TapuBulu'},\n",
       " 'pokemon_info_788': {'pokemon_id': '788', 'pokemon_name': 'TapuFini'},\n",
       " 'pokemon_info_789': {'pokemon_id': '789', 'pokemon_name': 'Cosmog'},\n",
       " 'pokemon_info_790': {'pokemon_id': '790', 'pokemon_name': 'Cosmoem'},\n",
       " 'pokemon_info_791': {'pokemon_id': '791', 'pokemon_name': 'Solgaleo'},\n",
       " 'pokemon_info_792': {'pokemon_id': '792', 'pokemon_name': 'Lunala'},\n",
       " 'pokemon_info_793': {'pokemon_id': '793', 'pokemon_name': 'Nihilego'},\n",
       " 'pokemon_info_794': {'pokemon_id': '794', 'pokemon_name': 'Buzzwole'},\n",
       " 'pokemon_info_795': {'pokemon_id': '795', 'pokemon_name': 'Pheromosa'},\n",
       " 'pokemon_info_796': {'pokemon_id': '796', 'pokemon_name': 'Xurkitree'},\n",
       " 'pokemon_info_797': {'pokemon_id': '797', 'pokemon_name': 'Celesteela'},\n",
       " 'pokemon_info_798': {'pokemon_id': '798', 'pokemon_name': 'Kartana'},\n",
       " 'pokemon_info_799': {'pokemon_id': '799', 'pokemon_name': 'Guzzlord'},\n",
       " 'pokemon_info_800': {'pokemon_id': '800', 'pokemon_name': 'Necrozma'},\n",
       " 'pokemon_info_801': {'pokemon_id': '801', 'pokemon_name': 'Magearna'},\n",
       " 'pokemon_info_802': {'pokemon_id': '802', 'pokemon_name': 'Marshadow'},\n",
       " 'pokemon_info_803': {'pokemon_id': '803', 'pokemon_name': 'Poipole'},\n",
       " 'pokemon_info_804': {'pokemon_id': '804', 'pokemon_name': 'Naganadel'},\n",
       " 'pokemon_info_805': {'pokemon_id': '805', 'pokemon_name': 'Stakataka'},\n",
       " 'pokemon_info_806': {'pokemon_id': '806', 'pokemon_name': 'Blacephalon'},\n",
       " 'pokemon_info_807': {'pokemon_id': '807', 'pokemon_name': 'Zeraora'},\n",
       " 'pokemon_info_808': {'pokemon_id': '808', 'pokemon_name': 'Meltan'},\n",
       " 'pokemon_info_809': {'pokemon_id': '809', 'pokemon_name': 'Melmetal'},\n",
       " 'pokemon_info_810': {'pokemon_id': '810', 'pokemon_name': 'Grookey'},\n",
       " 'pokemon_info_811': {'pokemon_id': '811', 'pokemon_name': 'Thwackey'},\n",
       " 'pokemon_info_812': {'pokemon_id': '812', 'pokemon_name': 'Rillaboom'},\n",
       " 'pokemon_info_813': {'pokemon_id': '813', 'pokemon_name': 'Scorbunny'},\n",
       " 'pokemon_info_814': {'pokemon_id': '814', 'pokemon_name': 'Raboot'},\n",
       " 'pokemon_info_815': {'pokemon_id': '815', 'pokemon_name': 'Cinderace'},\n",
       " 'pokemon_info_816': {'pokemon_id': '816', 'pokemon_name': 'Sobble'},\n",
       " 'pokemon_info_817': {'pokemon_id': '817', 'pokemon_name': 'Drizzile'},\n",
       " 'pokemon_info_818': {'pokemon_id': '818', 'pokemon_name': 'Inteleon'},\n",
       " 'pokemon_info_819': {'pokemon_id': '819', 'pokemon_name': 'Skwovet'},\n",
       " 'pokemon_info_820': {'pokemon_id': '820', 'pokemon_name': 'Greedent'},\n",
       " 'pokemon_info_821': {'pokemon_id': '821', 'pokemon_name': 'Rookidee'},\n",
       " 'pokemon_info_822': {'pokemon_id': '822', 'pokemon_name': 'Corvisquire'},\n",
       " 'pokemon_info_823': {'pokemon_id': '823', 'pokemon_name': 'Corviknight'},\n",
       " 'pokemon_info_824': {'pokemon_id': '824', 'pokemon_name': 'Blipbug'},\n",
       " 'pokemon_info_825': {'pokemon_id': '825', 'pokemon_name': 'Dottler'},\n",
       " 'pokemon_info_826': {'pokemon_id': '826', 'pokemon_name': 'Orbeetle'},\n",
       " 'pokemon_info_827': {'pokemon_id': '827', 'pokemon_name': 'Nickit'},\n",
       " 'pokemon_info_828': {'pokemon_id': '828', 'pokemon_name': 'Thievul'},\n",
       " 'pokemon_info_829': {'pokemon_id': '829', 'pokemon_name': 'Gossifleur'},\n",
       " 'pokemon_info_830': {'pokemon_id': '830', 'pokemon_name': 'Eldegoss'},\n",
       " 'pokemon_info_831': {'pokemon_id': '831', 'pokemon_name': 'Wooloo'},\n",
       " 'pokemon_info_832': {'pokemon_id': '832', 'pokemon_name': 'Dubwool'},\n",
       " 'pokemon_info_833': {'pokemon_id': '833', 'pokemon_name': 'Chewtle'},\n",
       " 'pokemon_info_834': {'pokemon_id': '834', 'pokemon_name': 'Drednaw'},\n",
       " 'pokemon_info_835': {'pokemon_id': '835', 'pokemon_name': 'Yamper'},\n",
       " 'pokemon_info_836': {'pokemon_id': '836', 'pokemon_name': 'Boltund'},\n",
       " 'pokemon_info_837': {'pokemon_id': '837', 'pokemon_name': 'Rolycoly'},\n",
       " 'pokemon_info_838': {'pokemon_id': '838', 'pokemon_name': 'Carkol'},\n",
       " 'pokemon_info_839': {'pokemon_id': '839', 'pokemon_name': 'Coalossal'},\n",
       " 'pokemon_info_840': {'pokemon_id': '840', 'pokemon_name': 'Applin'},\n",
       " 'pokemon_info_841': {'pokemon_id': '841', 'pokemon_name': 'Flapple'},\n",
       " 'pokemon_info_842': {'pokemon_id': '842', 'pokemon_name': 'Appletun'},\n",
       " 'pokemon_info_843': {'pokemon_id': '843', 'pokemon_name': 'Silicobra'},\n",
       " 'pokemon_info_844': {'pokemon_id': '844', 'pokemon_name': 'Sandaconda'},\n",
       " 'pokemon_info_845': {'pokemon_id': '845', 'pokemon_name': 'Cramorant'},\n",
       " 'pokemon_info_846': {'pokemon_id': '846', 'pokemon_name': 'Arrokuda'},\n",
       " 'pokemon_info_847': {'pokemon_id': '847', 'pokemon_name': 'Barraskewda'},\n",
       " 'pokemon_info_848': {'pokemon_id': '848', 'pokemon_name': 'Toxel'},\n",
       " 'pokemon_info_849': {'pokemon_id': '849', 'pokemon_name': 'Toxtricity'},\n",
       " 'pokemon_info_850': {'pokemon_id': '850', 'pokemon_name': 'Sizzlipede'},\n",
       " 'pokemon_info_851': {'pokemon_id': '851', 'pokemon_name': 'Centiskorch'},\n",
       " 'pokemon_info_852': {'pokemon_id': '852', 'pokemon_name': 'Clobbopus'},\n",
       " 'pokemon_info_853': {'pokemon_id': '853', 'pokemon_name': 'Grapploct'},\n",
       " 'pokemon_info_854': {'pokemon_id': '854', 'pokemon_name': 'Sinistea'},\n",
       " 'pokemon_info_855': {'pokemon_id': '855', 'pokemon_name': 'Polteageist'},\n",
       " 'pokemon_info_856': {'pokemon_id': '856', 'pokemon_name': 'Hatenna'},\n",
       " 'pokemon_info_857': {'pokemon_id': '857', 'pokemon_name': 'Hattrem'},\n",
       " 'pokemon_info_858': {'pokemon_id': '858', 'pokemon_name': 'Hatterene'},\n",
       " 'pokemon_info_859': {'pokemon_id': '859', 'pokemon_name': 'Impidimp'},\n",
       " 'pokemon_info_860': {'pokemon_id': '860', 'pokemon_name': 'Morgrem'},\n",
       " 'pokemon_info_861': {'pokemon_id': '861', 'pokemon_name': 'Grimmsnarl'},\n",
       " 'pokemon_info_862': {'pokemon_id': '862', 'pokemon_name': 'Obstagoon'},\n",
       " 'pokemon_info_863': {'pokemon_id': '863', 'pokemon_name': 'Perrserker'},\n",
       " 'pokemon_info_864': {'pokemon_id': '864', 'pokemon_name': 'Cursola'},\n",
       " 'pokemon_info_865': {'pokemon_id': '865', 'pokemon_name': 'Sirfetch’d'},\n",
       " 'pokemon_info_866': {'pokemon_id': '866', 'pokemon_name': 'Mr.Rime'},\n",
       " 'pokemon_info_867': {'pokemon_id': '867', 'pokemon_name': 'Runerigus'},\n",
       " 'pokemon_info_868': {'pokemon_id': '868', 'pokemon_name': 'Milcery'},\n",
       " 'pokemon_info_869': {'pokemon_id': '869', 'pokemon_name': 'Alcremie'},\n",
       " 'pokemon_info_870': {'pokemon_id': '870', 'pokemon_name': 'Falinks'},\n",
       " 'pokemon_info_871': {'pokemon_id': '871', 'pokemon_name': 'Pincurchin'},\n",
       " 'pokemon_info_872': {'pokemon_id': '872', 'pokemon_name': 'Snom'},\n",
       " 'pokemon_info_873': {'pokemon_id': '873', 'pokemon_name': 'Frosmoth'},\n",
       " 'pokemon_info_874': {'pokemon_id': '874', 'pokemon_name': 'Stonjourner'},\n",
       " 'pokemon_info_875': {'pokemon_id': '875', 'pokemon_name': 'Eiscue'},\n",
       " 'pokemon_info_876': {'pokemon_id': '876', 'pokemon_name': 'Indeedee'},\n",
       " 'pokemon_info_877': {'pokemon_id': '877', 'pokemon_name': 'Morpeko'},\n",
       " 'pokemon_info_878': {'pokemon_id': '878', 'pokemon_name': 'Cufant'},\n",
       " 'pokemon_info_879': {'pokemon_id': '879', 'pokemon_name': 'Copperajah'},\n",
       " 'pokemon_info_880': {'pokemon_id': '880', 'pokemon_name': 'Dracozolt'},\n",
       " 'pokemon_info_881': {'pokemon_id': '881', 'pokemon_name': 'Arctozolt'},\n",
       " 'pokemon_info_882': {'pokemon_id': '882', 'pokemon_name': 'Dracovish'},\n",
       " 'pokemon_info_883': {'pokemon_id': '883', 'pokemon_name': 'Arctovish'},\n",
       " 'pokemon_info_884': {'pokemon_id': '884', 'pokemon_name': 'Duraludon'},\n",
       " 'pokemon_info_885': {'pokemon_id': '885', 'pokemon_name': 'Dreepy'},\n",
       " 'pokemon_info_886': {'pokemon_id': '886', 'pokemon_name': 'Drakloak'},\n",
       " 'pokemon_info_887': {'pokemon_id': '887', 'pokemon_name': 'Dragapult'},\n",
       " 'pokemon_info_888': {'pokemon_id': '888', 'pokemon_name': 'Zacian'},\n",
       " 'pokemon_info_889': {'pokemon_id': '889', 'pokemon_name': 'Zamazenta'},\n",
       " 'pokemon_info_890': {'pokemon_id': '890', 'pokemon_name': 'Eternatus'},\n",
       " 'pokemon_info_891': {'pokemon_id': '891', 'pokemon_name': 'Kubfu'},\n",
       " 'pokemon_info_892': {'pokemon_id': '892', 'pokemon_name': 'Urshifu'},\n",
       " 'pokemon_info_893': {'pokemon_id': '893', 'pokemon_name': 'Zarude'},\n",
       " 'pokemon_info_894': {'pokemon_id': '894', 'pokemon_name': 'Regieleki'},\n",
       " 'pokemon_info_895': {'pokemon_id': '895', 'pokemon_name': 'Regidrago'},\n",
       " 'pokemon_info_896': {'pokemon_id': '896', 'pokemon_name': 'Glastrier'},\n",
       " 'pokemon_info_897': {'pokemon_id': '897', 'pokemon_name': 'Spectrier'},\n",
       " 'pokemon_info_898': {'pokemon_id': '898', 'pokemon_name': 'Calyrex'},\n",
       " 'pokemon_info_899': {'pokemon_id': '899', 'pokemon_name': 'Wyrdeer'},\n",
       " 'pokemon_info_900': {'pokemon_id': '900', 'pokemon_name': 'Kleavor'},\n",
       " 'pokemon_info_901': {'pokemon_id': '901', 'pokemon_name': 'Ursaluna'},\n",
       " 'pokemon_info_902': {'pokemon_id': '902', 'pokemon_name': 'Basculegion'},\n",
       " 'pokemon_info_903': {'pokemon_id': '903', 'pokemon_name': 'Sneasler'},\n",
       " 'pokemon_info_904': {'pokemon_id': '904', 'pokemon_name': 'Overqwil'},\n",
       " 'pokemon_info_905': {'pokemon_id': '905', 'pokemon_name': 'Enamorus'},\n",
       " 'pokemon_info_906': {'pokemon_id': '906', 'pokemon_name': 'Sprigatito'},\n",
       " 'pokemon_info_907': {'pokemon_id': '907', 'pokemon_name': 'Floragato'},\n",
       " 'pokemon_info_908': {'pokemon_id': '908', 'pokemon_name': 'Meowscarada'},\n",
       " 'pokemon_info_909': {'pokemon_id': '909', 'pokemon_name': 'Fuecoco'},\n",
       " 'pokemon_info_910': {'pokemon_id': '910', 'pokemon_name': 'Crocalor'},\n",
       " 'pokemon_info_911': {'pokemon_id': '911', 'pokemon_name': 'Skeledirge'},\n",
       " 'pokemon_info_912': {'pokemon_id': '912', 'pokemon_name': 'Quaxly'},\n",
       " 'pokemon_info_913': {'pokemon_id': '913', 'pokemon_name': 'Quaxwell'},\n",
       " 'pokemon_info_914': {'pokemon_id': '914', 'pokemon_name': 'Quaquaval'},\n",
       " 'pokemon_info_915': {'pokemon_id': '915', 'pokemon_name': 'Lechonk'},\n",
       " 'pokemon_info_916': {'pokemon_id': '916', 'pokemon_name': 'Oinkologne'},\n",
       " 'pokemon_info_917': {'pokemon_id': '917', 'pokemon_name': 'Tarountula'},\n",
       " 'pokemon_info_918': {'pokemon_id': '918', 'pokemon_name': 'Spidops'},\n",
       " 'pokemon_info_919': {'pokemon_id': '919', 'pokemon_name': 'Nymble'},\n",
       " 'pokemon_info_920': {'pokemon_id': '920', 'pokemon_name': 'Lokix'},\n",
       " 'pokemon_info_921': {'pokemon_id': '921', 'pokemon_name': 'Pawmi'},\n",
       " 'pokemon_info_922': {'pokemon_id': '922', 'pokemon_name': 'Pawmo'},\n",
       " 'pokemon_info_923': {'pokemon_id': '923', 'pokemon_name': 'Pawmot'},\n",
       " 'pokemon_info_924': {'pokemon_id': '924', 'pokemon_name': 'Tandemaus'},\n",
       " 'pokemon_info_925': {'pokemon_id': '925', 'pokemon_name': 'Maushold'},\n",
       " 'pokemon_info_926': {'pokemon_id': '926', 'pokemon_name': 'Fidough'},\n",
       " 'pokemon_info_927': {'pokemon_id': '927', 'pokemon_name': 'Dachsbun'},\n",
       " 'pokemon_info_928': {'pokemon_id': '928', 'pokemon_name': 'Smoliv'},\n",
       " 'pokemon_info_929': {'pokemon_id': '929', 'pokemon_name': 'Dolliv'},\n",
       " 'pokemon_info_930': {'pokemon_id': '930', 'pokemon_name': 'Arboliva'},\n",
       " 'pokemon_info_931': {'pokemon_id': '931', 'pokemon_name': 'Squawkabilly'},\n",
       " 'pokemon_info_932': {'pokemon_id': '932', 'pokemon_name': 'Nacli'},\n",
       " 'pokemon_info_933': {'pokemon_id': '933', 'pokemon_name': 'Naclstack'},\n",
       " 'pokemon_info_934': {'pokemon_id': '934', 'pokemon_name': 'Garganacl'},\n",
       " 'pokemon_info_935': {'pokemon_id': '935', 'pokemon_name': 'Charcadet'},\n",
       " 'pokemon_info_936': {'pokemon_id': '936', 'pokemon_name': 'Armarouge'},\n",
       " 'pokemon_info_937': {'pokemon_id': '937', 'pokemon_name': 'Ceruledge'},\n",
       " 'pokemon_info_938': {'pokemon_id': '938', 'pokemon_name': 'Tadbulb'},\n",
       " 'pokemon_info_939': {'pokemon_id': '939', 'pokemon_name': 'Bellibolt'},\n",
       " 'pokemon_info_940': {'pokemon_id': '940', 'pokemon_name': 'Wattrel'},\n",
       " 'pokemon_info_941': {'pokemon_id': '941', 'pokemon_name': 'Kilowattrel'},\n",
       " 'pokemon_info_942': {'pokemon_id': '942', 'pokemon_name': 'Maschiff'},\n",
       " 'pokemon_info_943': {'pokemon_id': '943', 'pokemon_name': 'Mabosstiff'},\n",
       " 'pokemon_info_944': {'pokemon_id': '944', 'pokemon_name': 'Shroodle'},\n",
       " 'pokemon_info_945': {'pokemon_id': '945', 'pokemon_name': 'Grafaiai'},\n",
       " 'pokemon_info_946': {'pokemon_id': '946', 'pokemon_name': 'Bramblin'},\n",
       " 'pokemon_info_947': {'pokemon_id': '947', 'pokemon_name': 'Brambleghast'},\n",
       " 'pokemon_info_948': {'pokemon_id': '948', 'pokemon_name': 'Toedscool'},\n",
       " 'pokemon_info_949': {'pokemon_id': '949', 'pokemon_name': 'Toedscruel'},\n",
       " 'pokemon_info_950': {'pokemon_id': '950', 'pokemon_name': 'Klawf'},\n",
       " 'pokemon_info_951': {'pokemon_id': '951', 'pokemon_name': 'Capsakid'},\n",
       " 'pokemon_info_952': {'pokemon_id': '952', 'pokemon_name': 'Scovillain'},\n",
       " 'pokemon_info_953': {'pokemon_id': '953', 'pokemon_name': 'Rellor'},\n",
       " 'pokemon_info_954': {'pokemon_id': '954', 'pokemon_name': 'Rabsca'},\n",
       " 'pokemon_info_955': {'pokemon_id': '955', 'pokemon_name': 'Flittle'},\n",
       " 'pokemon_info_956': {'pokemon_id': '956', 'pokemon_name': 'Espathra'},\n",
       " 'pokemon_info_957': {'pokemon_id': '957', 'pokemon_name': 'Tinkatink'},\n",
       " 'pokemon_info_958': {'pokemon_id': '958', 'pokemon_name': 'Tinkatuff'},\n",
       " 'pokemon_info_959': {'pokemon_id': '959', 'pokemon_name': 'Tinkaton'},\n",
       " 'pokemon_info_960': {'pokemon_id': '960', 'pokemon_name': 'Wiglett'},\n",
       " 'pokemon_info_961': {'pokemon_id': '961', 'pokemon_name': 'Wugtrio'},\n",
       " 'pokemon_info_962': {'pokemon_id': '962', 'pokemon_name': 'Bombirdier'},\n",
       " 'pokemon_info_963': {'pokemon_id': '963', 'pokemon_name': 'Finizen'},\n",
       " 'pokemon_info_964': {'pokemon_id': '964', 'pokemon_name': 'Palafin'},\n",
       " 'pokemon_info_965': {'pokemon_id': '965', 'pokemon_name': 'Varoom'},\n",
       " 'pokemon_info_966': {'pokemon_id': '966', 'pokemon_name': 'Revavroom'},\n",
       " 'pokemon_info_967': {'pokemon_id': '967', 'pokemon_name': 'Cyclizar'},\n",
       " 'pokemon_info_968': {'pokemon_id': '968', 'pokemon_name': 'Orthworm'},\n",
       " 'pokemon_info_969': {'pokemon_id': '969', 'pokemon_name': 'Glimmet'},\n",
       " 'pokemon_info_970': {'pokemon_id': '970', 'pokemon_name': 'Glimmora'},\n",
       " 'pokemon_info_971': {'pokemon_id': '971', 'pokemon_name': 'Greavard'},\n",
       " 'pokemon_info_972': {'pokemon_id': '972', 'pokemon_name': 'Houndstone'},\n",
       " 'pokemon_info_973': {'pokemon_id': '973', 'pokemon_name': 'Flamigo'},\n",
       " 'pokemon_info_974': {'pokemon_id': '974', 'pokemon_name': 'Cetoddle'},\n",
       " 'pokemon_info_975': {'pokemon_id': '975', 'pokemon_name': 'Cetitan'},\n",
       " 'pokemon_info_976': {'pokemon_id': '976', 'pokemon_name': 'Veluza'},\n",
       " 'pokemon_info_977': {'pokemon_id': '977', 'pokemon_name': 'Dondozo'},\n",
       " 'pokemon_info_978': {'pokemon_id': '978', 'pokemon_name': 'Tatsugiri'},\n",
       " 'pokemon_info_979': {'pokemon_id': '979', 'pokemon_name': 'Annihilape'},\n",
       " 'pokemon_info_980': {'pokemon_id': '980', 'pokemon_name': 'Clodsire'},\n",
       " 'pokemon_info_981': {'pokemon_id': '981', 'pokemon_name': 'Farigiraf'},\n",
       " 'pokemon_info_982': {'pokemon_id': '982', 'pokemon_name': 'Dudunsparce'},\n",
       " 'pokemon_info_983': {'pokemon_id': '983', 'pokemon_name': 'Kingambit'},\n",
       " 'pokemon_info_984': {'pokemon_id': '984', 'pokemon_name': 'GreatTusk'},\n",
       " 'pokemon_info_985': {'pokemon_id': '985', 'pokemon_name': 'ScreamTail'},\n",
       " 'pokemon_info_986': {'pokemon_id': '986', 'pokemon_name': 'BruteBonnet'},\n",
       " 'pokemon_info_987': {'pokemon_id': '987', 'pokemon_name': 'FlutterMane'},\n",
       " 'pokemon_info_988': {'pokemon_id': '988', 'pokemon_name': 'SlitherWing'},\n",
       " 'pokemon_info_989': {'pokemon_id': '989', 'pokemon_name': 'SandyShocks'},\n",
       " 'pokemon_info_990': {'pokemon_id': '990', 'pokemon_name': 'IronTreads'},\n",
       " 'pokemon_info_991': {'pokemon_id': '991', 'pokemon_name': 'IronBundle'},\n",
       " 'pokemon_info_992': {'pokemon_id': '992', 'pokemon_name': 'IronHands'},\n",
       " 'pokemon_info_993': {'pokemon_id': '993', 'pokemon_name': 'IronJugulis'},\n",
       " 'pokemon_info_994': {'pokemon_id': '994', 'pokemon_name': 'IronMoth'},\n",
       " 'pokemon_info_995': {'pokemon_id': '995', 'pokemon_name': 'IronThorns'},\n",
       " 'pokemon_info_996': {'pokemon_id': '996', 'pokemon_name': 'Frigibax'},\n",
       " 'pokemon_info_997': {'pokemon_id': '997', 'pokemon_name': 'Arctibax'},\n",
       " 'pokemon_info_998': {'pokemon_id': '998', 'pokemon_name': 'Baxcalibur'},\n",
       " 'pokemon_info_999': {'pokemon_id': '999', 'pokemon_name': 'Gimmighoul'},\n",
       " 'pokemon_info_1000': {'pokemon_id': '1000', 'pokemon_name': 'Gholdengo'},\n",
       " ...}"
      ]
     },
     "execution_count": 43,
     "metadata": {},
     "output_type": "execute_result"
    }
   ],
   "source": [
    "import re\n",
    "\n",
    "#Pegando ID e nome dos pokemons, através das tags que possuem href='us/pokedex/'\n",
    "i = 1\n",
    "for pokemon in soup.find_all('a', href=re.compile(\"/us/pokedex/\")):\n",
    "    pokemon_info =  pokemon.get_text()\n",
    "    pokemon_info = pokemon_info.replace(' ', '')\n",
    "    pokemon_info = pokemon_info.split('-')\n",
    "\n",
    "    pokemon_dict = {}\n",
    "    pokemon_dict['pokemon_id'] = pokemon_info[0]\n",
    "    pokemon_dict['pokemon_name'] = pokemon_info[1]\n",
    "\n",
    "    card['pokemon_info_'+str(i)] = pokemon_dict\n",
    "\n",
    "    i += 1\n",
    "\n",
    "card"
   ]
  },
  {
   "attachments": {},
   "cell_type": "markdown",
   "metadata": {},
   "source": [
    "## 5.2 Criando um DataFrame com os dados coletados"
   ]
  },
  {
   "cell_type": "code",
   "execution_count": 49,
   "metadata": {},
   "outputs": [
    {
     "data": {
      "text/html": [
       "<div>\n",
       "<style scoped>\n",
       "    .dataframe tbody tr th:only-of-type {\n",
       "        vertical-align: middle;\n",
       "    }\n",
       "\n",
       "    .dataframe tbody tr th {\n",
       "        vertical-align: top;\n",
       "    }\n",
       "\n",
       "    .dataframe thead th {\n",
       "        text-align: right;\n",
       "    }\n",
       "</style>\n",
       "<table border=\"1\" class=\"dataframe\">\n",
       "  <thead>\n",
       "    <tr style=\"text-align: right;\">\n",
       "      <th></th>\n",
       "      <th>pokemon_id</th>\n",
       "      <th>pokemon_name</th>\n",
       "    </tr>\n",
       "  </thead>\n",
       "  <tbody>\n",
       "    <tr>\n",
       "      <th>0</th>\n",
       "      <td>1</td>\n",
       "      <td>Bulbasaur</td>\n",
       "    </tr>\n",
       "    <tr>\n",
       "      <th>1</th>\n",
       "      <td>2</td>\n",
       "      <td>Ivysaur</td>\n",
       "    </tr>\n",
       "    <tr>\n",
       "      <th>2</th>\n",
       "      <td>3</td>\n",
       "      <td>Venusaur</td>\n",
       "    </tr>\n",
       "    <tr>\n",
       "      <th>3</th>\n",
       "      <td>4</td>\n",
       "      <td>Charmander</td>\n",
       "    </tr>\n",
       "    <tr>\n",
       "      <th>4</th>\n",
       "      <td>5</td>\n",
       "      <td>Charmeleon</td>\n",
       "    </tr>\n",
       "    <tr>\n",
       "      <th>...</th>\n",
       "      <td>...</td>\n",
       "      <td>...</td>\n",
       "    </tr>\n",
       "    <tr>\n",
       "      <th>1003</th>\n",
       "      <td>1004</td>\n",
       "      <td>Chi</td>\n",
       "    </tr>\n",
       "    <tr>\n",
       "      <th>1004</th>\n",
       "      <td>1005</td>\n",
       "      <td>RoaringMoon</td>\n",
       "    </tr>\n",
       "    <tr>\n",
       "      <th>1005</th>\n",
       "      <td>1006</td>\n",
       "      <td>IronValiant</td>\n",
       "    </tr>\n",
       "    <tr>\n",
       "      <th>1006</th>\n",
       "      <td>1007</td>\n",
       "      <td>Koraidon</td>\n",
       "    </tr>\n",
       "    <tr>\n",
       "      <th>1007</th>\n",
       "      <td>1008</td>\n",
       "      <td>Miraidon</td>\n",
       "    </tr>\n",
       "  </tbody>\n",
       "</table>\n",
       "<p>1008 rows × 2 columns</p>\n",
       "</div>"
      ],
      "text/plain": [
       "     pokemon_id pokemon_name\n",
       "0             1    Bulbasaur\n",
       "1             2      Ivysaur\n",
       "2             3     Venusaur\n",
       "3             4   Charmander\n",
       "4             5   Charmeleon\n",
       "...         ...          ...\n",
       "1003       1004          Chi\n",
       "1004       1005  RoaringMoon\n",
       "1005       1006  IronValiant\n",
       "1006       1007     Koraidon\n",
       "1007       1008     Miraidon\n",
       "\n",
       "[1008 rows x 2 columns]"
      ]
     },
     "execution_count": 49,
     "metadata": {},
     "output_type": "execute_result"
    }
   ],
   "source": [
    "df_pokemons = pd.DataFrame(card)\n",
    "df_pokemons = df_pokemons.transpose()\n",
    "df_pokemons.reset_index(drop=True, inplace=True)\n",
    "df_pokemons"
   ]
  },
  {
   "cell_type": "code",
   "execution_count": null,
   "metadata": {},
   "outputs": [],
   "source": []
  },
  {
   "cell_type": "code",
   "execution_count": null,
   "metadata": {},
   "outputs": [],
   "source": []
  },
  {
   "cell_type": "code",
   "execution_count": null,
   "metadata": {},
   "outputs": [],
   "source": []
  },
  {
   "cell_type": "code",
   "execution_count": null,
   "metadata": {},
   "outputs": [],
   "source": []
  },
  {
   "cell_type": "code",
   "execution_count": null,
   "metadata": {},
   "outputs": [],
   "source": []
  },
  {
   "cell_type": "code",
   "execution_count": null,
   "metadata": {},
   "outputs": [],
   "source": []
  },
  {
   "cell_type": "code",
   "execution_count": null,
   "metadata": {},
   "outputs": [],
   "source": []
  },
  {
   "attachments": {},
   "cell_type": "markdown",
   "metadata": {},
   "source": [
    "## 5.3. Obtendo a FOTO do anúncio"
   ]
  },
  {
   "cell_type": "code",
   "execution_count": null,
   "metadata": {},
   "outputs": [],
   "source": []
  },
  {
   "cell_type": "code",
   "execution_count": null,
   "metadata": {},
   "outputs": [],
   "source": []
  },
  {
   "cell_type": "code",
   "execution_count": null,
   "metadata": {},
   "outputs": [],
   "source": []
  },
  {
   "cell_type": "markdown",
   "metadata": {},
   "source": [
    "### Visualizando a FOTO no notebook (extra)"
   ]
  },
  {
   "cell_type": "code",
   "execution_count": null,
   "metadata": {},
   "outputs": [],
   "source": []
  },
  {
   "cell_type": "code",
   "execution_count": null,
   "metadata": {},
   "outputs": [],
   "source": []
  },
  {
   "cell_type": "markdown",
   "metadata": {},
   "source": [
    "### Rotina para acessar e salvar a FOTO do anúncio"
   ]
  },
  {
   "attachments": {},
   "cell_type": "markdown",
   "metadata": {},
   "source": [
    "### https://docs.python.org/3/library/urllib.request.html#urllib.request.urlretrieve"
   ]
  },
  {
   "cell_type": "code",
   "execution_count": null,
   "metadata": {},
   "outputs": [],
   "source": []
  },
  {
   "cell_type": "code",
   "execution_count": null,
   "metadata": {},
   "outputs": [],
   "source": []
  },
  {
   "cell_type": "markdown",
   "metadata": {},
   "source": [
    "### <font color=red>Resumo"
   ]
  },
  {
   "cell_type": "code",
   "execution_count": null,
   "metadata": {},
   "outputs": [],
   "source": []
  },
  {
   "cell_type": "markdown",
   "metadata": {},
   "source": [
    "# <font color=green>6. WEB SCRAPING DO SITE ALURA MOTORS - OBTENDO OS DADOS DE TODOS OS ANÚNCIOS DE UMA PÁGINA"
   ]
  },
  {
   "attachments": {},
   "cell_type": "markdown",
   "metadata": {},
   "source": [
    "## 6.1. Identificando as informações no HTML"
   ]
  },
  {
   "cell_type": "code",
   "execution_count": null,
   "metadata": {
    "scrolled": true
   },
   "outputs": [],
   "source": []
  },
  {
   "cell_type": "code",
   "execution_count": null,
   "metadata": {
    "scrolled": true
   },
   "outputs": [],
   "source": []
  },
  {
   "cell_type": "code",
   "execution_count": null,
   "metadata": {
    "scrolled": true
   },
   "outputs": [],
   "source": []
  },
  {
   "attachments": {},
   "cell_type": "markdown",
   "metadata": {},
   "source": [
    "## 6.2. Criando uma rotina de scraping"
   ]
  },
  {
   "cell_type": "code",
   "execution_count": null,
   "metadata": {},
   "outputs": [],
   "source": []
  },
  {
   "cell_type": "code",
   "execution_count": null,
   "metadata": {},
   "outputs": [],
   "source": []
  },
  {
   "cell_type": "markdown",
   "metadata": {},
   "source": [
    "# <font color=green>7. WEB SCRAPING DO SITE ALURA MOTORS - OBTENDO OS DADOS DE TODOS OS ANÚNCIOS DO SITE"
   ]
  },
  {
   "attachments": {},
   "cell_type": "markdown",
   "metadata": {},
   "source": [
    "## 7.1. Identificando as informações no HTML"
   ]
  },
  {
   "cell_type": "code",
   "execution_count": null,
   "metadata": {},
   "outputs": [],
   "source": []
  },
  {
   "cell_type": "code",
   "execution_count": null,
   "metadata": {
    "scrolled": true
   },
   "outputs": [],
   "source": []
  },
  {
   "cell_type": "code",
   "execution_count": null,
   "metadata": {},
   "outputs": [],
   "source": []
  },
  {
   "cell_type": "code",
   "execution_count": null,
   "metadata": {},
   "outputs": [],
   "source": []
  },
  {
   "cell_type": "code",
   "execution_count": null,
   "metadata": {},
   "outputs": [],
   "source": []
  },
  {
   "attachments": {},
   "cell_type": "markdown",
   "metadata": {},
   "source": [
    "## 7.2. Criando uma rotina de scraping"
   ]
  },
  {
   "cell_type": "code",
   "execution_count": null,
   "metadata": {
    "scrolled": true
   },
   "outputs": [],
   "source": []
  },
  {
   "cell_type": "code",
   "execution_count": null,
   "metadata": {},
   "outputs": [],
   "source": []
  },
  {
   "cell_type": "code",
   "execution_count": null,
   "metadata": {},
   "outputs": [],
   "source": []
  },
  {
   "cell_type": "code",
   "execution_count": null,
   "metadata": {},
   "outputs": [],
   "source": []
  }
 ],
 "metadata": {
  "colab": {
   "name": "Untitled12.ipynb",
   "provenance": [],
   "version": "0.3.2"
  },
  "kernelspec": {
   "display_name": "Python 3",
   "language": "python",
   "name": "python3"
  },
  "language_info": {
   "codemirror_mode": {
    "name": "ipython",
    "version": 3
   },
   "file_extension": ".py",
   "mimetype": "text/x-python",
   "name": "python",
   "nbconvert_exporter": "python",
   "pygments_lexer": "ipython3",
   "version": "3.8.6"
  },
  "vscode": {
   "interpreter": {
    "hash": "2db035f76d01a17d64be3a80cc68cc0e4213053fdd158cf584f635918067be05"
   }
  }
 },
 "nbformat": 4,
 "nbformat_minor": 1
}
